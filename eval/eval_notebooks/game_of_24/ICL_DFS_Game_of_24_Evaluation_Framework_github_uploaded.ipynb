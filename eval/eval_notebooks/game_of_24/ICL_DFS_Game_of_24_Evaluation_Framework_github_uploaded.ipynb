{
  "nbformat": 4,
  "nbformat_minor": 0,
  "metadata": {
    "colab": {
      "provenance": []
    },
    "kernelspec": {
      "name": "python3",
      "display_name": "Python 3"
    },
    "language_info": {
      "name": "python"
    }
  },
  "cells": [
    {
      "cell_type": "code",
      "execution_count": null,
      "metadata": {
        "id": "KVjnaIxyms4L"
      },
      "outputs": [],
      "source": [
        "from openai import OpenAI\n",
        "from google.colab import userdata\n",
        "from typing import Union, Optional, List\n",
        "from collections.abc import Callable\n",
        "import re"
      ]
    },
    {
      "cell_type": "code",
      "source": [
        "OPENAI_API_KEY = \"\"\n",
        "client = OpenAI(api_key=OPENAI_API_KEY)"
      ],
      "metadata": {
        "id": "d2a09WQm3C1N"
      },
      "execution_count": null,
      "outputs": []
    },
    {
      "cell_type": "code",
      "source": [
        "def get_thought_gen_prompt(input_seq: str, state: str) -> str:\n",
        "    \"\"\"Get thought generation prompt.\n",
        "\n",
        "    Keyword arguments:\n",
        "    input_seq -- the input sequence (comprising four numbers, e.g., '1 1 1 8')\n",
        "    state -- concatenation of all the thoughts so far (separated by '\\n')\n",
        "    \"\"\"\n",
        "\n",
        "    # Reference: https://github.com/princeton-nlp/tree-of-thought-llm/blob/master/src/tot/tasks/game24.py\n",
        "    def get_remaining_numbers(thought: str) -> str:\n",
        "        return thought.split('left: ')[-1].split(')')[0]\n",
        "\n",
        "    if state == '': # Root node; no thoughts have been generated yet.\n",
        "        remaining_numbers = input_seq\n",
        "    else:\n",
        "        last_thought = state.strip().split('\\n')[-1]\n",
        "        remaining_numbers = get_remaining_numbers(last_thought)\n",
        "\n",
        "    if remaining_numbers != '24': # Intermediate step.\n",
        "        # Reference: https://github.com/princeton-nlp/tree-of-thought-llm/blob/master/src/tot/prompts/game24.py\n",
        "        prompt = f'''Input: 2 8 8 14\n",
        "Possible next steps:\n",
        "2 + 8 = 10 (left: 8 10 14)\n",
        "8 / 2 = 4 (left: 4 8 14)\n",
        "14 + 2 = 16 (left: 8 8 16)\n",
        "2 * 8 = 16 (left: 8 14 16)\n",
        "8 - 2 = 6 (left: 6 8 14)\n",
        "14 - 8 = 6 (left: 2 6 8)\n",
        "14 /  2 = 7 (left: 7 8 8)\n",
        "14 - 2 = 12 (left: 8 8 12)\n",
        "Input: {remaining_numbers}\n",
        "Possible next steps:\n",
        "'''\n",
        "    else: # Last (output generation) step.\n",
        "        # Reference: https://github.com/princeton-nlp/tree-of-thought-llm/blob/master/src/tot/prompts/game24.py\n",
        "        prompt = f'''Use numbers and basic arithmetic operations (+ - * /) to obtain 24. Each step, you are only allowed to choose two of the remaining numbers to obtain a new number.\n",
        "Input: 4 4 6 8\n",
        "Steps:\n",
        "4 + 8 = 12 (left: 4 6 12)\n",
        "6 - 4 = 2 (left: 2 12)\n",
        "2 * 12 = 24 (left: 24)\n",
        "Answer: (6 - 4) * (4 + 8) = 24\n",
        "Input: 2 9 10 12\n",
        "Steps:\n",
        "12 * 2 = 24 (left: 9 10 24)\n",
        "10 - 9 = 1 (left: 1 24)\n",
        "24 * 1 = 24 (left: 24)\n",
        "Answer: (12 * 2) * (10 - 9) = 24\n",
        "Input: 4 9 10 13\n",
        "Steps:\n",
        "13 - 10 = 3 (left: 3 4 9)\n",
        "9 - 3 = 6 (left: 4 6)\n",
        "4 * 6 = 24 (left: 24)\n",
        "Answer: 4 * (9 - (13 - 10)) = 24\n",
        "Input: 1 4 8 8\n",
        "Steps:\n",
        "8 / 4 = 2 (left: 1 2 8)\n",
        "1 + 2 = 3 (left: 3 8)\n",
        "3 * 8 = 24 (left: 24)\n",
        "Answer: (1 + 8 / 4) * 8 = 24\n",
        "Input: 5 5 5 9\n",
        "Steps:\n",
        "5 + 5 = 10 (left: 5 9 10)\n",
        "10 + 5 = 15 (left: 9 15)\n",
        "15 + 9 = 24 (left: 24)\n",
        "Answer: ((5 + 5) + 5) + 9 = 24\n",
        "Input: {input_seq}\n",
        "Steps:\n",
        "{state}\n",
        "'''\n",
        "    return prompt"
      ],
      "metadata": {
        "id": "MKPgHF9C1k3t"
      },
      "execution_count": null,
      "outputs": []
    },
    {
      "cell_type": "code",
      "source": [
        "def get_state_eval_prompt(input_seq: str, state: str) -> str:\n",
        "    \"\"\"Get state evaluation prompt.\n",
        "\n",
        "    Keyword arguments:\n",
        "    input_seq -- the input sequence (comprising four numbers, e.g., '1 1 1 8')\n",
        "    state -- concatenation of all the thoughts so far (separated by '\\n')\n",
        "    \"\"\"\n",
        "\n",
        "    # Reference: https://github.com/princeton-nlp/tree-of-thought-llm/blob/master/src/tot/tasks/game24.py\n",
        "    def get_remaining_numbers(thought: str) -> str:\n",
        "        return thought.split('left: ')[-1].split(')')[0]\n",
        "\n",
        "    last_line = state.strip().split('\\n')[-1]\n",
        "\n",
        "    if 'left: ' not in last_line: # Last (output generation) step.\n",
        "        ans = last_line.lower().replace('answer: ', '')\n",
        "        # Reference: https://github.com/princeton-nlp/tree-of-thought-llm/blob/master/src/tot/prompts/game24.py\n",
        "        prompt = f'''Use numbers and basic arithmetic operations (+ - * /) to obtain 24. Given an input and an answer, give a judgement (sure/impossible) if the answer is correct, i.e. it uses each input exactly once and no other numbers, and reach 24.\n",
        "Input: 4 4 6 8\n",
        "Answer: (4 + 8) * (6 - 4) = 24\n",
        "Judge:\n",
        "sure\n",
        "Input: 2 9 10 12\n",
        "Answer: 2 * 12 * (10 - 9) = 24\n",
        "Judge:\n",
        "sure\n",
        "Input: 4 9 10 13\n",
        "Answer: (13 - 9) * (10 - 4) = 24\n",
        "Judge:\n",
        "sure\n",
        "Input: 4 4 6 8\n",
        "Answer: (4 + 8) * (6 - 4) + 1 = 25\n",
        "Judge:\n",
        "impossible\n",
        "Input: 2 9 10 12\n",
        "Answer: 2 * (12 - 10) = 24\n",
        "Judge:\n",
        "impossible\n",
        "Input: 4 9 10 13\n",
        "Answer: (13 - 4) * (10 - 9) = 24\n",
        "Judge:\n",
        "impossible\n",
        "Input: {input_seq}\n",
        "Answer: {ans}\n",
        "Judge:'''\n",
        "    else: # Intermediate step.\n",
        "        remaining_numbers = get_remaining_numbers(last_line)\n",
        "        # Reference: https://github.com/princeton-nlp/tree-of-thought-llm/blob/master/src/tot/prompts/game24.py\n",
        "        prompt = f'''Evaluate if given numbers can reach 24 (sure/likely/impossible)\n",
        "10 14\n",
        "10 + 14 = 24\n",
        "sure\n",
        "11 12\n",
        "11 + 12 = 23\n",
        "12 - 11 = 1\n",
        "11 * 12 = 132\n",
        "11 / 12 = 0.91\n",
        "impossible\n",
        "4 4 10\n",
        "4 + 4 + 10 = 8 + 10 = 18\n",
        "4 * 10 - 4 = 40 - 4 = 36\n",
        "(10 - 4) * 4 = 6 * 4 = 24\n",
        "sure\n",
        "4 9 11\n",
        "9 + 11 + 4 = 20 + 4 = 24\n",
        "sure\n",
        "5 7 8\n",
        "5 + 7 + 8 = 12 + 8 = 20\n",
        "(8 - 5) * 7 = 3 * 7 = 21\n",
        "I cannot obtain 24 now, but numbers are within a reasonable range\n",
        "likely\n",
        "5 6 6\n",
        "5 + 6 + 6 = 17\n",
        "(6 - 5) * 6 = 1 * 6 = 6\n",
        "I cannot obtain 24 now, but numbers are within a reasonable range\n",
        "likely\n",
        "10 10 11\n",
        "10 + 10 + 11 = 31\n",
        "(11 - 10) * 10 = 10\n",
        "10 10 11 are all too big\n",
        "impossible\n",
        "1 3 3\n",
        "1 * 3 * 3 = 9\n",
        "(1 + 3) * 3 = 12\n",
        "1 3 3 are all too small\n",
        "impossible\n",
        "{remaining_numbers}\n",
        "'''\n",
        "    return prompt"
      ],
      "metadata": {
        "id": "Zmpp4GySQno-"
      },
      "execution_count": null,
      "outputs": []
    },
    {
      "cell_type": "code",
      "source": [
        "# Reference: https://github.com/princeton-nlp/tree-of-thought-llm/blob/master/src/tot/tasks/game24.py\n",
        "def heuristic_calculator(state: str, state_evals: List[str]) -> float:\n",
        "    if len(state.strip().split('\\n')) == 4 and 'answer' not in state.lower(): # Such a state is undesirable.\n",
        "        return 0\n",
        "    value_names = [_.split('\\n')[-1].lower() for _ in state_evals] # A list containing 'impossible' / 'likely' / 'sure' values.\n",
        "    value_map = {'impossible': 0.001, 'likely': 1, 'sure': 20} # Ad hoc.\n",
        "    value = sum(value * value_names.count(name) for name, value in value_map.items())\n",
        "    return value"
      ],
      "metadata": {
        "id": "06GxeIlWSf0h"
      },
      "execution_count": null,
      "outputs": []
    },
    {
      "cell_type": "code",
      "source": [
        "system_prompt = \"\"\"Your task is to role-play a particular type of tree search algorithm.\n",
        "\n",
        "To help you mimic this algorithm successfully, you will be provided few-shot examples. Study these examples carefully to learn how to mimic the algorithm successfully.\n",
        "You must adhere to the reasoning style and choice of words in these few-shot examples. Do not use any new words that aren't present in the few-shot examples.\n",
        "\n",
        "If at any point, you think that you have found the final solution (i.e., the search is over), you must still backtrack all the way up the tree, and then outside the tree (as shown in the few-shot examples). Do not fail to do this.\"\"\""
      ],
      "metadata": {
        "id": "1nYVbmIkUspE"
      },
      "execution_count": null,
      "outputs": []
    },
    {
      "cell_type": "code",
      "source": [
        "messages = [{'role': \"system\", 'content': system_prompt}]"
      ],
      "metadata": {
        "id": "x7AkBLPo-Ha-"
      },
      "execution_count": null,
      "outputs": []
    },
    {
      "cell_type": "code",
      "source": [
        "# input_seq1 = '1 1 9 9'\n",
        "input_seq1 = '''Four numbers: 1 1 9 9\n",
        "\n",
        "Search parameters:-\n",
        "Heuristic threshold: 3.0\n",
        "Level limit: 3'''"
      ],
      "metadata": {
        "id": "hlJmKta6bRf7"
      },
      "execution_count": null,
      "outputs": []
    },
    {
      "cell_type": "code",
      "source": [
        "messages.append({'role': \"user\", 'content': input_seq1})"
      ],
      "metadata": {
        "id": "WQLtxehpE8BJ"
      },
      "execution_count": null,
      "outputs": []
    },
    {
      "cell_type": "code",
      "source": [
        "assistant_msg1 = \"\"\"The four numbers are: 1 1 9 9\n",
        "\n",
        "The minimum required heuristic threshold is: 3.0\n",
        "The level limit is: 3\n",
        "\n",
        "Starting the tree search...\n",
        "---\n",
        "~~~\n",
        "Current level: 0\n",
        "Index of current node: 0\n",
        "State of current node:\n",
        "'' (empty string; no thoughts have been generated yet as we're still at the root node)\n",
        "\n",
        "Using the thought generator tool to obtain thought candidates...\n",
        "\n",
        "Action: thought_generator('', '0')\n",
        "\n",
        "Observation:\n",
        "\"\"\""
      ],
      "metadata": {
        "id": "M4qkSDSj-PVP"
      },
      "execution_count": null,
      "outputs": []
    },
    {
      "cell_type": "code",
      "source": [
        "user_msg1 = \"\"\"1 + 1 = 2 (left: 2 9 9)\n",
        "1 * 1 = 1 (left: 1 9 9)\n",
        "9 - 1 = 8 (left: 1 8 9)\n",
        "9 / 1 = 9 (left: 1 9 9)\n",
        "9 + 1 = 10 (left: 1 9 10)\n",
        "9 * 1 = 9 (left: 1 9 9)\"\"\""
      ],
      "metadata": {
        "id": "C0kMbXGe-5eQ"
      },
      "execution_count": null,
      "outputs": []
    },
    {
      "cell_type": "code",
      "source": [
        "messages.append({'role': \"assistant\", 'content': assistant_msg1})\n",
        "messages.append({'role': \"user\", 'content': user_msg1})"
      ],
      "metadata": {
        "id": "TpQQrdcc-Jny"
      },
      "execution_count": null,
      "outputs": []
    },
    {
      "cell_type": "code",
      "source": [
        "assistant_msg2 = \"\"\"\n",
        "\n",
        "Each of the above thought candidates has been added as a child node of the current node:\n",
        "\n",
        "Node 0_0: 1 + 1 = 2 (left: 2 9 9)\n",
        "Node 0_1: 1 * 1 = 1 (left: 1 9 9)\n",
        "Node 0_2: 9 - 1 = 8 (left: 1 8 9)\n",
        "Node 0_3: 9 / 1 = 9 (left: 1 9 9)\n",
        "Node 0_4: 9 + 1 = 10 (left: 1 9 10)\n",
        "Node 0_5: 9 * 1 = 9 (left: 1 9 9)\n",
        "\n",
        "Looping through the child nodes one at a time...\n",
        "---\n",
        "Reminder:-\n",
        "Current level: 0\n",
        "Index of current node: 0\n",
        "State of current node:\n",
        "'' (empty string; no thoughts have been generated yet as we're still at the root node)\n",
        "\n",
        "Index of current child: 0_0\n",
        "State of current child:\n",
        "1 + 1 = 2 (left: 2 9 9)\n",
        "\n",
        "Using the state evaluator tool to obtain heuristic value...\n",
        "\n",
        "Action: state_evaluator('''1 + 1 = 2 (left: 2 9 9)''', '''0_0''')\n",
        "\n",
        "Observation:\n",
        "\"\"\""
      ],
      "metadata": {
        "id": "NYNm1XBHAwQn"
      },
      "execution_count": null,
      "outputs": []
    },
    {
      "cell_type": "code",
      "source": [
        "user_msg2 = \"\"\"2.001\"\"\""
      ],
      "metadata": {
        "id": "ufYkYVQdA77O"
      },
      "execution_count": null,
      "outputs": []
    },
    {
      "cell_type": "code",
      "source": [
        "messages.append({'role': \"assistant\", 'content': assistant_msg2})\n",
        "messages.append({'role': \"user\", 'content': user_msg2})"
      ],
      "metadata": {
        "id": "h2x31rDUBDEq"
      },
      "execution_count": null,
      "outputs": []
    },
    {
      "cell_type": "code",
      "source": [
        "assistant_msg3 = \"\"\"\n",
        "\n",
        "Heuristic value of current child: 2.001\n",
        "\n",
        "2.001 < 3.0\n",
        "\n",
        "Heuristic value fails to satisfy the minimum required threshold of 3.0. Moving on to the next child.\n",
        "---\n",
        "Reminder:-\n",
        "Current level: 0\n",
        "Index of current node: 0\n",
        "State of current node:\n",
        "'' (empty string; no thoughts have been generated yet as we're still at the root node)\n",
        "\n",
        "Index of current child: 0_1\n",
        "State of current child:\n",
        "1 * 1 = 1 (left: 1 9 9)\n",
        "\n",
        "Using the state evaluator tool to obtain heuristic value...\n",
        "\n",
        "Action: state_evaluator('''1 * 1 = 1 (left: 1 9 9)''', '''0_1''')\n",
        "\n",
        "Observation:\n",
        "\"\"\""
      ],
      "metadata": {
        "id": "5llYl3OfBJI9"
      },
      "execution_count": null,
      "outputs": []
    },
    {
      "cell_type": "code",
      "source": [
        "user_msg3 = \"\"\"0.003\"\"\""
      ],
      "metadata": {
        "id": "zwsYgizRBZpH"
      },
      "execution_count": null,
      "outputs": []
    },
    {
      "cell_type": "code",
      "source": [
        "messages.append({'role': \"assistant\", 'content': assistant_msg3})\n",
        "messages.append({'role': \"user\", 'content': user_msg3})"
      ],
      "metadata": {
        "id": "QJBvgDlqBfjh"
      },
      "execution_count": null,
      "outputs": []
    },
    {
      "cell_type": "code",
      "source": [
        "assistant_msg4 = \"\"\"\n",
        "\n",
        "Heuristic value of current child: 0.003\n",
        "\n",
        "0.003 < 3.0\n",
        "\n",
        "Heuristic value fails to satisfy the minimum required threshold of 3.0. Moving on to the next child.\n",
        "---\n",
        "Reminder:-\n",
        "Current level: 0\n",
        "Index of current node: 0\n",
        "State of current node:\n",
        "'' (empty string; no thoughts have been generated yet as we're still at the root node)\n",
        "\n",
        "Index of current child: 0_2\n",
        "State of current child:\n",
        "9 - 1 = 8 (left: 1 8 9)\n",
        "\n",
        "Using the state evaluator tool to obtain heuristic value...\n",
        "\n",
        "Action: state_evaluator('''9 - 1 = 8 (left: 1 8 9)''', '''0_2''')\n",
        "\n",
        "Observation:\n",
        "\"\"\""
      ],
      "metadata": {
        "id": "rRYsGcTYBlLp"
      },
      "execution_count": null,
      "outputs": []
    },
    {
      "cell_type": "code",
      "source": [
        "user_msg4 = \"\"\"1.002\"\"\""
      ],
      "metadata": {
        "id": "1FiPfJo2Bunc"
      },
      "execution_count": null,
      "outputs": []
    },
    {
      "cell_type": "code",
      "source": [
        "messages.append({'role': \"assistant\", 'content': assistant_msg4})\n",
        "messages.append({'role': \"user\", 'content': user_msg4})"
      ],
      "metadata": {
        "id": "fpJK8NaIFeAL"
      },
      "execution_count": null,
      "outputs": []
    },
    {
      "cell_type": "code",
      "source": [
        "assistant_msg5 = \"\"\"\n",
        "\n",
        "Heuristic value of current child: 1.002\n",
        "\n",
        "1.002 < 3.0\n",
        "\n",
        "Heuristic value fails to satisfy the minimum required threshold of 3.0. Moving on to the next child.\n",
        "---\n",
        "Reminder:-\n",
        "Current level: 0\n",
        "Index of current node: 0\n",
        "State of current node:\n",
        "'' (empty string; no thoughts have been generated yet as we're still at the root node)\n",
        "\n",
        "Index of current child: 0_3\n",
        "State of current child:\n",
        "9 / 1 = 9 (left: 1 9 9)\n",
        "\n",
        "Using the state evaluator tool to obtain heuristic value...\n",
        "\n",
        "Action: state_evaluator('''9 / 1 = 9 (left: 1 9 9)''', '''0_3''')\n",
        "\n",
        "Observation:\n",
        "\"\"\""
      ],
      "metadata": {
        "id": "BtBFkc_UB_Xk"
      },
      "execution_count": null,
      "outputs": []
    },
    {
      "cell_type": "code",
      "source": [
        "user_msg5 = \"\"\"1.002\"\"\""
      ],
      "metadata": {
        "id": "DieIRvONCMlc"
      },
      "execution_count": null,
      "outputs": []
    },
    {
      "cell_type": "code",
      "source": [
        "messages.append({'role': \"assistant\", 'content': assistant_msg5})\n",
        "messages.append({'role': \"user\", 'content': user_msg5})"
      ],
      "metadata": {
        "id": "s3lR5esXCPWG"
      },
      "execution_count": null,
      "outputs": []
    },
    {
      "cell_type": "code",
      "source": [
        "assistant_msg6 = \"\"\"\n",
        "\n",
        "Heuristic value of current child: 1.002\n",
        "\n",
        "1.002 < 3.0\n",
        "\n",
        "Heuristic value fails to satisfy the minimum required threshold of 3.0. Moving on to the next child.\n",
        "---\n",
        "Reminder:-\n",
        "Current level: 0\n",
        "Index of current node: 0\n",
        "State of current node:\n",
        "'' (empty string; no thoughts have been generated yet as we're still at the root node)\n",
        "\n",
        "Index of current child: 0_4\n",
        "State of current child:\n",
        "9 + 1 = 10 (left: 1 9 10)\n",
        "\n",
        "Using the state evaluator tool to obtain heuristic value...\n",
        "\n",
        "Action: state_evaluator('''9 + 1 = 10 (left: 1 9 10)''', '''0_4''')\n",
        "\n",
        "Observation:\n",
        "\"\"\""
      ],
      "metadata": {
        "id": "-7iVjR9JCUV1"
      },
      "execution_count": null,
      "outputs": []
    },
    {
      "cell_type": "code",
      "source": [
        "user_msg6 = \"\"\"3.0\"\"\""
      ],
      "metadata": {
        "id": "9bkeFMqFCb8Y"
      },
      "execution_count": null,
      "outputs": []
    },
    {
      "cell_type": "code",
      "source": [
        "messages.append({'role': \"assistant\", 'content': assistant_msg6})\n",
        "messages.append({'role': \"user\", 'content': user_msg6})"
      ],
      "metadata": {
        "id": "hc-m0P1CCgpM"
      },
      "execution_count": null,
      "outputs": []
    },
    {
      "cell_type": "code",
      "source": [
        "assistant_msg7 = \"\"\"\n",
        "\n",
        "Heuristic value of current child: 3.0\n",
        "\n",
        "3.0 >= 3.0\n",
        "\n",
        "Heuristic value satisfies the minimum required threshold of 3.0.\n",
        "\n",
        "Checking whether the current level is greater than or equal to the level limit...\n",
        "\n",
        "Current level: 0\n",
        "\n",
        "Level limit: 3\n",
        "\n",
        "0 < 3\n",
        "\n",
        "No it isn't. The search isn't over yet. Searching subtree.\n",
        "---\n",
        "~~~\n",
        "Current level: 1\n",
        "Index of current node: 0_4\n",
        "State of current node:\n",
        "9 + 1 = 10 (left: 1 9 10)\n",
        "\n",
        "Using the thought generator tool to obtain thought candidates...\n",
        "\n",
        "Action: thought_generator('''9 + 1 = 10 (left: 1 9 10)''', '''0_4''')\n",
        "\n",
        "Observation:\n",
        "\"\"\""
      ],
      "metadata": {
        "id": "6Vrh-5oLClDT"
      },
      "execution_count": null,
      "outputs": []
    },
    {
      "cell_type": "code",
      "source": [
        "user_msg7 = \"\"\"1 + 9 = 10 (left: 10 10)\n",
        "9 - 1 = 8 (left: 8 10)\n",
        "10 - 9 = 1 (left: 1 1)\n",
        "10 / 1 = 10 (left: 9 10)\n",
        "10 - 1 = 9 (left: 9 9)\"\"\""
      ],
      "metadata": {
        "id": "LkhHR0tPCvov"
      },
      "execution_count": null,
      "outputs": []
    },
    {
      "cell_type": "code",
      "source": [
        "messages.append({'role': \"assistant\", 'content': assistant_msg7})\n",
        "messages.append({'role': \"user\", 'content': user_msg7})"
      ],
      "metadata": {
        "id": "QXactZ1pC0my"
      },
      "execution_count": null,
      "outputs": []
    },
    {
      "cell_type": "code",
      "source": [
        "assistant_msg8 = \"\"\"\n",
        "\n",
        "Each of the above thought candidates has been added as a child node of the current node:\n",
        "\n",
        "Node 0_4_0: 1 + 9 = 10 (left: 10 10)\n",
        "Node 0_4_1: 9 - 1 = 8 (left: 8 10)\n",
        "Node 0_4_2: 10 - 9 = 1 (left: 1 1)\n",
        "Node 0_4_3: 10 / 1 = 10 (left: 9 10)\n",
        "Node 0_4_4: 10 - 1 = 9 (left: 9 9)\n",
        "\n",
        "Looping through the child nodes one at a time...\n",
        "---\n",
        "Reminder:-\n",
        "Current level: 1\n",
        "Index of current node: 0_4\n",
        "State of current node:\n",
        "9 + 1 = 10 (left: 1 9 10)\n",
        "\n",
        "Index of current child: 0_4_0\n",
        "State of current child:\n",
        "9 + 1 = 10 (left: 1 9 10)\n",
        "1 + 9 = 10 (left: 10 10)\n",
        "\n",
        "Using the state evaluator tool to obtain heuristic value...\n",
        "\n",
        "Action: state_evaluator('''9 + 1 = 10 (left: 1 9 10)\\n1 + 9 = 10 (left: 10 10)''', '''0_4_0''')\n",
        "\n",
        "Observation:\n",
        "\"\"\""
      ],
      "metadata": {
        "id": "JbpU962BC8Tr"
      },
      "execution_count": null,
      "outputs": []
    },
    {
      "cell_type": "code",
      "source": [
        "user_msg8 = \"\"\"0.003\"\"\""
      ],
      "metadata": {
        "id": "s4wAL_9DDJkb"
      },
      "execution_count": null,
      "outputs": []
    },
    {
      "cell_type": "code",
      "source": [
        "messages.append({'role': \"assistant\", 'content': assistant_msg8})\n",
        "messages.append({'role': \"user\", 'content': user_msg8})"
      ],
      "metadata": {
        "id": "aAGHCpVMDNRJ"
      },
      "execution_count": null,
      "outputs": []
    },
    {
      "cell_type": "code",
      "source": [
        "assistant_msg9 = \"\"\"\n",
        "\n",
        "Heuristic value of current child: 0.003\n",
        "\n",
        "0.003 < 3.0\n",
        "\n",
        "Heuristic value fails to satisfy the minimum required threshold of 3.0. Moving on to the next child.\n",
        "---\n",
        "Reminder:-\n",
        "Current level: 1\n",
        "Index of current node: 0_4\n",
        "State of current node:\n",
        "9 + 1 = 10 (left: 1 9 10)\n",
        "\n",
        "Index of current child: 0_4_1\n",
        "State of current child:\n",
        "9 + 1 = 10 (left: 1 9 10)\n",
        "9 - 1 = 8 (left: 8 10)\n",
        "\n",
        "Using the state evaluator tool to obtain heuristic value...\n",
        "\n",
        "Action: state_evaluator('''9 + 1 = 10 (left: 1 9 10)\\n9 - 1 = 8 (left: 8 10)''', '''0_4_1''')\n",
        "\n",
        "Observation:\n",
        "\"\"\""
      ],
      "metadata": {
        "id": "u8uJWq2rDQjF"
      },
      "execution_count": null,
      "outputs": []
    },
    {
      "cell_type": "code",
      "source": [
        "user_msg9 = \"\"\"0.003\"\"\""
      ],
      "metadata": {
        "id": "cOdECDjVDZDJ"
      },
      "execution_count": null,
      "outputs": []
    },
    {
      "cell_type": "code",
      "source": [
        "messages.append({'role': \"assistant\", 'content': assistant_msg9})\n",
        "messages.append({'role': \"user\", 'content': user_msg9})"
      ],
      "metadata": {
        "id": "aErV1SVNDdNN"
      },
      "execution_count": null,
      "outputs": []
    },
    {
      "cell_type": "code",
      "source": [
        "assistant_msg10 = \"\"\"\n",
        "\n",
        "Heuristic value of current child: 0.003\n",
        "\n",
        "0.003 < 3.0\n",
        "\n",
        "Heuristic value fails to satisfy the minimum required threshold of 3.0. Moving on to the next child.\n",
        "---\n",
        "Reminder:-\n",
        "Current level: 1\n",
        "Index of current node: 0_4\n",
        "State of current node:\n",
        "9 + 1 = 10 (left: 1 9 10)\n",
        "\n",
        "Index of current child: 0_4_2\n",
        "State of current child:\n",
        "9 + 1 = 10 (left: 1 9 10)\n",
        "10 - 9 = 1 (left: 1 1)\n",
        "\n",
        "Using the state evaluator tool to obtain heuristic value...\n",
        "\n",
        "Action: state_evaluator('''9 + 1 = 10 (left: 1 9 10)\\n10 - 9 = 1 (left: 1 1)''', '''0_4_2''')\n",
        "\n",
        "Observation:\n",
        "\"\"\""
      ],
      "metadata": {
        "id": "U56zxkrSDhe4"
      },
      "execution_count": null,
      "outputs": []
    },
    {
      "cell_type": "code",
      "source": [
        "user_msg10 = \"\"\"0.003\"\"\""
      ],
      "metadata": {
        "id": "37MWXrQPDvav"
      },
      "execution_count": null,
      "outputs": []
    },
    {
      "cell_type": "code",
      "source": [
        "messages.append({'role': \"assistant\", 'content': assistant_msg10})\n",
        "messages.append({'role': \"user\", 'content': user_msg10})"
      ],
      "metadata": {
        "id": "P33ZiFeTDzq4"
      },
      "execution_count": null,
      "outputs": []
    },
    {
      "cell_type": "code",
      "source": [
        "assistant_msg11 = \"\"\"\n",
        "\n",
        "Heuristic value of current child: 0.003\n",
        "\n",
        "0.003 < 3.0\n",
        "\n",
        "Heuristic value fails to satisfy the minimum required threshold of 3.0. Moving on to the next child.\n",
        "---\n",
        "Reminder:-\n",
        "Current level: 1\n",
        "Index of current node: 0_4\n",
        "State of current node:\n",
        "9 + 1 = 10 (left: 1 9 10)\n",
        "\n",
        "Index of current child: 0_4_3\n",
        "State of current child:\n",
        "9 + 1 = 10 (left: 1 9 10)\n",
        "10 / 1 = 10 (left: 9 10)\n",
        "\n",
        "Using the state evaluator tool to obtain heuristic value...\n",
        "\n",
        "Action: state_evaluator('''9 + 1 = 10 (left: 1 9 10)\\n10 / 1 = 10 (left: 9 10)''', '''0_4_3''')\n",
        "\n",
        "Observation:\n",
        "\"\"\""
      ],
      "metadata": {
        "id": "yNVLCX8xD3rA"
      },
      "execution_count": null,
      "outputs": []
    },
    {
      "cell_type": "code",
      "source": [
        "user_msg11 = \"\"\"0.003\"\"\""
      ],
      "metadata": {
        "id": "NgRuiMwAD-m9"
      },
      "execution_count": null,
      "outputs": []
    },
    {
      "cell_type": "code",
      "source": [
        "messages.append({'role': \"assistant\", 'content': assistant_msg11})\n",
        "messages.append({'role': \"user\", 'content': user_msg11})"
      ],
      "metadata": {
        "id": "1HMb1Go0EFFm"
      },
      "execution_count": null,
      "outputs": []
    },
    {
      "cell_type": "code",
      "source": [
        "assistant_msg12 = \"\"\"\n",
        "\n",
        "Heuristic value of current child: 0.003\n",
        "\n",
        "0.003 < 3.0\n",
        "\n",
        "Heuristic value fails to satisfy the minimum required threshold of 3.0. Moving on to the next child.\n",
        "---\n",
        "Reminder:-\n",
        "Current level: 1\n",
        "Index of current node: 0_4\n",
        "State of current node:\n",
        "9 + 1 = 10 (left: 1 9 10)\n",
        "\n",
        "Index of current child: 0_4_4\n",
        "State of current child:\n",
        "9 + 1 = 10 (left: 1 9 10)\n",
        "10 - 1 = 9 (left: 9 9)\n",
        "\n",
        "Using the state evaluator tool to obtain heuristic value...\n",
        "\n",
        "Action: state_evaluator('''9 + 1 = 10 (left: 1 9 10)\\n10 - 1 = 9 (left: 9 9)''', '''0_4_4''')\n",
        "\n",
        "Observation:\n",
        "\"\"\""
      ],
      "metadata": {
        "id": "KedP1i2SEISL"
      },
      "execution_count": null,
      "outputs": []
    },
    {
      "cell_type": "code",
      "source": [
        "user_msg12 = \"\"\"0.003\"\"\""
      ],
      "metadata": {
        "id": "Z-3SNElVEO3V"
      },
      "execution_count": null,
      "outputs": []
    },
    {
      "cell_type": "code",
      "source": [
        "messages.append({'role': \"assistant\", 'content': assistant_msg12})\n",
        "messages.append({'role': \"user\", 'content': user_msg12})"
      ],
      "metadata": {
        "id": "IrIk5F8kET8f"
      },
      "execution_count": null,
      "outputs": []
    },
    {
      "cell_type": "code",
      "source": [
        "assistant_msg13 = \"\"\"\n",
        "\n",
        "Heuristic value of current child: 0.003\n",
        "\n",
        "0.003 < 3.0\n",
        "\n",
        "Heuristic value fails to satisfy the minimum required threshold of 3.0. Moving on to the next child.\n",
        "---\n",
        "No more children remaining. All child nodes have been traversed.\n",
        "\n",
        "None of the child nodes led to success. Seems like a dead end.\n",
        "\n",
        "Reminder:-\n",
        "Current level: 1\n",
        "Index of current node: 0_4\n",
        "\n",
        "Backtracking with flag 'FALSE'.\n",
        "Action: backtracking('''False''', '''0_4''', '''0''')\n",
        "\n",
        "Observation:\n",
        "\"\"\""
      ],
      "metadata": {
        "id": "wjdsrXFBEXjF"
      },
      "execution_count": null,
      "outputs": []
    },
    {
      "cell_type": "code",
      "source": [
        "user_msg13  = \"\"\"Ok.\"\"\""
      ],
      "metadata": {
        "id": "nnRiSVbG_Nrd"
      },
      "execution_count": null,
      "outputs": []
    },
    {
      "cell_type": "code",
      "source": [
        "messages.append({'role': \"assistant\", 'content': assistant_msg13})\n",
        "messages.append({'role': \"user\", 'content': user_msg13})"
      ],
      "metadata": {
        "id": "ofPQcmc6_foa"
      },
      "execution_count": null,
      "outputs": []
    },
    {
      "cell_type": "code",
      "source": [
        "assistant_msg14 = \"\"\"\n",
        "---\n",
        "~~~\n",
        "We're back at node: 0\n",
        "\n",
        "Flag received: 'FALSE'\n",
        "\n",
        "That is, searching the subtree starting at child node 0_4 was unsuccessful!\n",
        "\n",
        "Trying the next child.\n",
        "---\n",
        "Reminder:-\n",
        "Current level: 0\n",
        "Index of current node: 0\n",
        "State of current node:\n",
        "'' (empty string; no thoughts have been generated yet as we're still at the root node)\n",
        "\n",
        "Index of current child: 0_5\n",
        "State of current child:\n",
        "9 * 1 = 9 (left: 1 9 9)\n",
        "\n",
        "Using the state evaluator tool to obtain heuristic value...\n",
        "\n",
        "Action: state_evaluator('''9 * 1 = 9 (left: 1 9 9)''', '''0_5''')\n",
        "\n",
        "Observation:\n",
        "\"\"\""
      ],
      "metadata": {
        "id": "wM4VflZBEmnk"
      },
      "execution_count": null,
      "outputs": []
    },
    {
      "cell_type": "code",
      "source": [
        "user_msg14 = \"\"\"1.002\"\"\""
      ],
      "metadata": {
        "id": "X7r0lO3bEgmw"
      },
      "execution_count": null,
      "outputs": []
    },
    {
      "cell_type": "code",
      "source": [
        "messages.append({'role': \"assistant\", 'content': assistant_msg14})\n",
        "messages.append({'role': \"user\", 'content': user_msg14})"
      ],
      "metadata": {
        "id": "q5iDytgw_-ol"
      },
      "execution_count": null,
      "outputs": []
    },
    {
      "cell_type": "code",
      "source": [
        "assistant_msg15 = \"\"\"\n",
        "\n",
        "Heuristic value of current child: 1.002\n",
        "\n",
        "1.002 < 3.0\n",
        "\n",
        "Heuristic value fails to satisfy the minimum required threshold of 3.0. Moving on to the next child.\n",
        "---\n",
        "No more children remaining. All child nodes have been traversed.\n",
        "\n",
        "None of the child nodes led to success. Seems like a dead end.\n",
        "\n",
        "Reminder:-\n",
        "Current level: 0\n",
        "Index of current node: 0\n",
        "\n",
        "Backtracking with flag 'FALSE'.\n",
        "Action: backtracking('''False''', '''0''', '''None''')\n",
        "\n",
        "Observation:\n",
        "\"\"\""
      ],
      "metadata": {
        "id": "E6RXEX1_9tAU"
      },
      "execution_count": null,
      "outputs": []
    },
    {
      "cell_type": "code",
      "source": [
        "user_msg15 = \"\"\"Ok.\"\"\""
      ],
      "metadata": {
        "id": "Au4DQaLFAMvb"
      },
      "execution_count": null,
      "outputs": []
    },
    {
      "cell_type": "code",
      "source": [
        "messages.append({'role': \"assistant\", 'content': assistant_msg15})\n",
        "messages.append({'role': \"user\", 'content': user_msg15})"
      ],
      "metadata": {
        "id": "s825qYIeAMzb"
      },
      "execution_count": null,
      "outputs": []
    },
    {
      "cell_type": "code",
      "source": [
        "assistant_msg16 = \"\"\"\n",
        "---\n",
        "~~~\n",
        "We're now outside the tree.\n",
        "\n",
        "Flag received: False\"\"\""
      ],
      "metadata": {
        "id": "r8L29XtAAVRn"
      },
      "execution_count": null,
      "outputs": []
    },
    {
      "cell_type": "code",
      "source": [
        "messages.append({'role': \"assistant\", 'content': assistant_msg16})"
      ],
      "metadata": {
        "id": "-2gjl1cLAVVy"
      },
      "execution_count": null,
      "outputs": []
    },
    {
      "cell_type": "code",
      "source": [
        "# input_seq2 = '1 1 4 9'\n",
        "input_seq2 = '''Four numbers: 1 1 4 9\n",
        "\n",
        "Search parameters:-\n",
        "Heuristic threshold: 3.0\n",
        "Level limit: 3'''"
      ],
      "metadata": {
        "id": "2Idz4K86bD0h"
      },
      "execution_count": null,
      "outputs": []
    },
    {
      "cell_type": "code",
      "source": [
        "messages.append({'role': \"user\", 'content': input_seq2})"
      ],
      "metadata": {
        "id": "4tL31lvpGUOE"
      },
      "execution_count": null,
      "outputs": []
    },
    {
      "cell_type": "code",
      "source": [
        "assistant_msg1_ = \"\"\"The four numbers are: 1 1 4 9\n",
        "\n",
        "The minimum required heuristic threshold is: 3.0\n",
        "The level limit is: 3\n",
        "\n",
        "Starting the tree search...\n",
        "---\n",
        "~~~\n",
        "Current level: 0\n",
        "Index of current node: 0\n",
        "State of current node:\n",
        "'' (empty string; no thoughts have been generated yet as we're still at the root node)\n",
        "\n",
        "Using the thought generator tool to obtain thought candidates...\n",
        "\n",
        "Action: thought_generator('', '0')\n",
        "\n",
        "Observation:\n",
        "\"\"\""
      ],
      "metadata": {
        "id": "TefcwqL0OW4h"
      },
      "execution_count": null,
      "outputs": []
    },
    {
      "cell_type": "code",
      "source": [
        "user_msg1_ = \"\"\"1 + 1 = 2 (left: 2 4 9)\n",
        "4 - 1 = 3 (left: 1 3 9)\n",
        "9 - 1 = 8 (left: 1 4 8)\n",
        "1 * 1 = 1 (left: 1 4 9)\n",
        "9 / 1 = 9 (left: 1 4 9)\n",
        "4 / 1 = 4 (left: 1 4 9)\n",
        "9 - 4 = 5 (left: 1 1 5)\n",
        "4 - 1 = 3 (left: 1 3 9)\"\"\""
      ],
      "metadata": {
        "id": "xiR6QfOYPOOS"
      },
      "execution_count": null,
      "outputs": []
    },
    {
      "cell_type": "code",
      "source": [
        "messages.append({'role': \"assistant\", 'content': assistant_msg1_})\n",
        "messages.append({'role': \"user\", 'content': user_msg1_})"
      ],
      "metadata": {
        "id": "U_uvIIgCPXuk"
      },
      "execution_count": null,
      "outputs": []
    },
    {
      "cell_type": "code",
      "source": [
        "assistant_msg2_ = \"\"\"\n",
        "\n",
        "Each of the above thought candidates has been added as a child node of the current node:\n",
        "\n",
        "Node 0_0: 1 + 1 = 2 (left: 2 4 9)\n",
        "Node 0_1: 4 - 1 = 3 (left: 1 3 9)\n",
        "Node 0_2: 9 - 1 = 8 (left: 1 4 8)\n",
        "Node 0_3: 1 * 1 = 1 (left: 1 4 9)\n",
        "Node 0_4: 9 / 1 = 9 (left: 1 4 9)\n",
        "Node 0_5: 4 / 1 = 4 (left: 1 4 9)\n",
        "Node 0_6: 9 - 4 = 5 (left: 1 1 5)\n",
        "Node 0_7: 4 - 1 = 3 (left: 1 3 9)\n",
        "\n",
        "Looping through the child nodes one at a time...\n",
        "---\n",
        "Reminder:-\n",
        "Current level: 0\n",
        "Index of current node: 0\n",
        "State of current node:\n",
        "'' (empty string; no thoughts have been generated yet as we're still at the root node)\n",
        "\n",
        "Index of current child: 0_0\n",
        "State of current child:\n",
        "1 + 1 = 2 (left: 2 4 9)\n",
        "\n",
        "Using the state evaluator tool to obtain heuristic value...\n",
        "\n",
        "Action: state_evaluator('''1 + 1 = 2 (left: 2 4 9)''', '''0_0''')\n",
        "\n",
        "Observation:\n",
        "\"\"\""
      ],
      "metadata": {
        "id": "rzaMyUTcPZ6c"
      },
      "execution_count": null,
      "outputs": []
    },
    {
      "cell_type": "code",
      "source": [
        "user_msg2_ = \"\"\"3.0\"\"\""
      ],
      "metadata": {
        "id": "uHF9KJUEPkOA"
      },
      "execution_count": null,
      "outputs": []
    },
    {
      "cell_type": "code",
      "source": [
        "messages.append({'role': \"assistant\", 'content': assistant_msg2_})\n",
        "messages.append({'role': \"user\", 'content': user_msg2_})"
      ],
      "metadata": {
        "id": "H1tTPXmFPpBW"
      },
      "execution_count": null,
      "outputs": []
    },
    {
      "cell_type": "code",
      "source": [
        "assistant_msg3_ = \"\"\"\n",
        "\n",
        "Heuristic value of current child: 3.0\n",
        "\n",
        "3.0 >= 3.0\n",
        "\n",
        "Heuristic value satisfies the minimum required threshold of 3.0.\n",
        "\n",
        "Checking whether the current level is greater than or equal to the level limit...\n",
        "\n",
        "Current level: 0\n",
        "\n",
        "Level limit: 3\n",
        "\n",
        "0 < 3\n",
        "\n",
        "No it isn't. The search isn't over yet. Searching subtree.\n",
        "---\n",
        "~~~\n",
        "Current level: 1\n",
        "Index of current node: 0_0\n",
        "State of current node:\n",
        "1 + 1 = 2 (left: 2 4 9)\n",
        "\n",
        "Using the thought generator tool to obtain thought candidates...\n",
        "\n",
        "Action: thought_generator('''1 + 1 = 2 (left: 2 4 9)''', '''0_0''')\n",
        "\n",
        "Observation:\n",
        "\"\"\""
      ],
      "metadata": {
        "id": "45nxIEJCPruA"
      },
      "execution_count": null,
      "outputs": []
    },
    {
      "cell_type": "code",
      "source": [
        "user_msg3_ = \"\"\"2 + 4 = 6 (left: 6 9)\n",
        "4 - 2 = 2 (left: 2 9)\n",
        "9 - 2 = 7 (left: 4 7)\n",
        "9 - 4 = 5 (left: 2 5)\n",
        "2 * 4 = 8 (left: 8 9)\n",
        "9 / 2 = 4.5 (left: 4 4.5)\n",
        "9 / 4 = 2.25 (left: 2 2.25)\n",
        "4 * 2 = 8 (left: 8 9)\"\"\""
      ],
      "metadata": {
        "id": "io2Bn5RbP1qJ"
      },
      "execution_count": null,
      "outputs": []
    },
    {
      "cell_type": "code",
      "source": [
        "messages.append({'role': \"assistant\", 'content': assistant_msg3_})\n",
        "messages.append({'role': \"user\", 'content': user_msg3_})"
      ],
      "metadata": {
        "id": "obbcq4zPP9ha"
      },
      "execution_count": null,
      "outputs": []
    },
    {
      "cell_type": "code",
      "source": [
        "assistant_msg4_ = \"\"\"\n",
        "\n",
        "Each of the above thought candidates has been added as a child node of the current node:\n",
        "\n",
        "Node 0_0_0: 2 + 4 = 6 (left: 6 9)\n",
        "Node 0_0_1: 4 - 2 = 2 (left: 2 9)\n",
        "Node 0_0_2: 9 - 2 = 7 (left: 4 7)\n",
        "Node 0_0_3: 9 - 4 = 5 (left: 2 5)\n",
        "Node 0_0_4: 2 * 4 = 8 (left: 8 9)\n",
        "Node 0_0_5: 9 / 2 = 4.5 (left: 4 4.5)\n",
        "Node 0_0_6: 9 / 4 = 2.25 (left: 2 2.25)\n",
        "Node 0_0_7: 4 * 2 = 8 (left: 8 9)\n",
        "\n",
        "Looping through the child nodes one at a time...\n",
        "---\n",
        "Reminder:-\n",
        "Current level: 1\n",
        "Index of current node: 0_0\n",
        "State of current node:\n",
        "1 + 1 = 2 (left: 2 4 9)\n",
        "\n",
        "Index of current child: 0_0_0\n",
        "State of current child:\n",
        "1 + 1 = 2 (left: 2 4 9)\n",
        "2 + 4 = 6 (left: 6 9)\n",
        "\n",
        "Using the state evaluator tool to obtain heuristic value...\n",
        "\n",
        "Action: state_evaluator('''1 + 1 = 2 (left: 2 4 9)\\n2 + 4 = 6 (left: 6 9)''', '''0_0_0''')\n",
        "\n",
        "Observation:\n",
        "\"\"\""
      ],
      "metadata": {
        "id": "vFqLFDOQQBZT"
      },
      "execution_count": null,
      "outputs": []
    },
    {
      "cell_type": "code",
      "source": [
        "user_msg4_ = \"\"\"0.003\"\"\""
      ],
      "metadata": {
        "id": "lRpYB9pZQMRE"
      },
      "execution_count": null,
      "outputs": []
    },
    {
      "cell_type": "code",
      "source": [
        "messages.append({'role': \"assistant\", 'content': assistant_msg4_})\n",
        "messages.append({'role': \"user\", 'content': user_msg4_})"
      ],
      "metadata": {
        "id": "0CANpICVQQY9"
      },
      "execution_count": null,
      "outputs": []
    },
    {
      "cell_type": "code",
      "source": [
        "assistant_msg5_ = \"\"\"\n",
        "\n",
        "Heuristic value of current child: 0.003\n",
        "\n",
        "0.003 < 3.0\n",
        "\n",
        "Heuristic value fails to satisfy the minimum required threshold of 3.0. Moving on to the next child.\n",
        "---\n",
        "Reminder:-\n",
        "Current level: 1\n",
        "Index of current node: 0_0\n",
        "State of current node:\n",
        "1 + 1 = 2 (left: 2 4 9)\n",
        "\n",
        "Index of current child: 0_0_1\n",
        "State of current child:\n",
        "1 + 1 = 2 (left: 2 4 9)\n",
        "4 - 2 = 2 (left: 2 9)\n",
        "\n",
        "Using the state evaluator tool to obtain heuristic value...\n",
        "\n",
        "Action: state_evaluator('''1 + 1 = 2 (left: 2 4 9)\\n4 - 2 = 2 (left: 2 9)''', '''0_0_1''')\n",
        "\n",
        "Observation:\n",
        "\"\"\""
      ],
      "metadata": {
        "id": "4K_1ZS59QTyc"
      },
      "execution_count": null,
      "outputs": []
    },
    {
      "cell_type": "code",
      "source": [
        "user_msg5_ = \"\"\"0.003\"\"\""
      ],
      "metadata": {
        "id": "v6NwvPiiQajn"
      },
      "execution_count": null,
      "outputs": []
    },
    {
      "cell_type": "code",
      "source": [
        "messages.append({'role': \"assistant\", 'content': assistant_msg5_})\n",
        "messages.append({'role': \"user\", 'content': user_msg5_})"
      ],
      "metadata": {
        "id": "c5Myv89gQf8c"
      },
      "execution_count": null,
      "outputs": []
    },
    {
      "cell_type": "code",
      "source": [
        "assistant_msg6_ = \"\"\"\n",
        "\n",
        "Heuristic value of current child: 0.003\n",
        "\n",
        "0.003 < 3.0\n",
        "\n",
        "Heuristic value fails to satisfy the minimum required threshold of 3.0. Moving on to the next child.\n",
        "---\n",
        "Reminder:-\n",
        "Current level: 1\n",
        "Index of current node: 0_0\n",
        "State of current node:\n",
        "1 + 1 = 2 (left: 2 4 9)\n",
        "\n",
        "Index of current child: 0_0_2\n",
        "State of current child:\n",
        "1 + 1 = 2 (left: 2 4 9)\n",
        "9 - 2 = 7 (left: 4 7)\n",
        "\n",
        "Using the state evaluator tool to obtain heuristic value...\n",
        "\n",
        "Action: state_evaluator('''1 + 1 = 2 (left: 2 4 9)\\n9 - 2 = 7 (left: 4 7)''', '''0_0_2''')\n",
        "\n",
        "Observation:\n",
        "\"\"\""
      ],
      "metadata": {
        "id": "oEbevLBpQjQw"
      },
      "execution_count": null,
      "outputs": []
    },
    {
      "cell_type": "code",
      "source": [
        "user_msg6_ = \"\"\"0.003\"\"\""
      ],
      "metadata": {
        "id": "ZkRgEPRWQsev"
      },
      "execution_count": null,
      "outputs": []
    },
    {
      "cell_type": "code",
      "source": [
        "messages.append({'role': \"assistant\", 'content': assistant_msg6_})\n",
        "messages.append({'role': \"user\", 'content': user_msg6_})"
      ],
      "metadata": {
        "id": "AFu23zBQQwvI"
      },
      "execution_count": null,
      "outputs": []
    },
    {
      "cell_type": "code",
      "source": [
        "assistant_msg7_ = \"\"\"\n",
        "\n",
        "Heuristic value of current child: 0.003\n",
        "\n",
        "0.003 < 3.0\n",
        "\n",
        "Heuristic value fails to satisfy the minimum required threshold of 3.0. Moving on to the next child.\n",
        "---\n",
        "Reminder:-\n",
        "Current level: 1\n",
        "Index of current node: 0_0\n",
        "State of current node:\n",
        "1 + 1 = 2 (left: 2 4 9)\n",
        "\n",
        "Index of current child: 0_0_3\n",
        "State of current child:\n",
        "1 + 1 = 2 (left: 2 4 9)\n",
        "9 - 4 = 5 (left: 2 5)\n",
        "\n",
        "Using the state evaluator tool to obtain heuristic value...\n",
        "\n",
        "Action: state_evaluator('''1 + 1 = 2 (left: 2 4 9)\\n9 - 4 = 5 (left: 2 5)''', '''0_0_3''')\n",
        "\n",
        "Observation:\n",
        "\"\"\""
      ],
      "metadata": {
        "id": "QVFWBBxtQz3e"
      },
      "execution_count": null,
      "outputs": []
    },
    {
      "cell_type": "code",
      "source": [
        "user_msg7_ = \"\"\"0.003\"\"\""
      ],
      "metadata": {
        "id": "egT6ynWUQ6Mw"
      },
      "execution_count": null,
      "outputs": []
    },
    {
      "cell_type": "code",
      "source": [
        "messages.append({'role': \"assistant\", 'content': assistant_msg7_})\n",
        "messages.append({'role': \"user\", 'content': user_msg7_})"
      ],
      "metadata": {
        "id": "fNnMoXuMQ-Zq"
      },
      "execution_count": null,
      "outputs": []
    },
    {
      "cell_type": "code",
      "source": [
        "assistant_msg8_ = \"\"\"\n",
        "\n",
        "Heuristic value of current child: 0.003\n",
        "\n",
        "0.003 < 3.0\n",
        "\n",
        "Heuristic value fails to satisfy the minimum required threshold of 3.0. Moving on to the next child.\n",
        "---\n",
        "Reminder:-\n",
        "Current level: 1\n",
        "Index of current node: 0_0\n",
        "State of current node:\n",
        "1 + 1 = 2 (left: 2 4 9)\n",
        "\n",
        "Index of current child: 0_0_4\n",
        "State of current child:\n",
        "1 + 1 = 2 (left: 2 4 9)\n",
        "2 * 4 = 8 (left: 8 9)\n",
        "\n",
        "Using the state evaluator tool to obtain heuristic value...\n",
        "\n",
        "Action: state_evaluator('''1 + 1 = 2 (left: 2 4 9)\\n2 * 4 = 8 (left: 8 9)''', '''0_0_4''')\n",
        "\n",
        "Observation:\n",
        "\"\"\""
      ],
      "metadata": {
        "id": "2FKp6AH8RBhg"
      },
      "execution_count": null,
      "outputs": []
    },
    {
      "cell_type": "code",
      "source": [
        "user_msg8_ = \"\"\"0.003\"\"\""
      ],
      "metadata": {
        "id": "6aSo3GhPRJPk"
      },
      "execution_count": null,
      "outputs": []
    },
    {
      "cell_type": "code",
      "source": [
        "messages.append({'role': \"assistant\", 'content': assistant_msg8_})\n",
        "messages.append({'role': \"user\", 'content': user_msg8_})"
      ],
      "metadata": {
        "id": "orJXpYNGRNtW"
      },
      "execution_count": null,
      "outputs": []
    },
    {
      "cell_type": "code",
      "source": [
        "assistant_msg9_ = \"\"\"\n",
        "\n",
        "Heuristic value of current child: 0.003\n",
        "\n",
        "0.003 < 3.0\n",
        "\n",
        "Heuristic value fails to satisfy the minimum required threshold of 3.0. Moving on to the next child.\n",
        "---\n",
        "Reminder:-\n",
        "Current level: 1\n",
        "Index of current node: 0_0\n",
        "State of current node:\n",
        "1 + 1 = 2 (left: 2 4 9)\n",
        "\n",
        "Index of current child: 0_0_5\n",
        "State of current child:\n",
        "1 + 1 = 2 (left: 2 4 9)\n",
        "9 / 2 = 4.5 (left: 4 4.5)\n",
        "\n",
        "Using the state evaluator tool to obtain heuristic value...\n",
        "\n",
        "Action: state_evaluator('''1 + 1 = 2 (left: 2 4 9)\\n9 / 2 = 4.5 (left: 4 4.5)''', '''0_0_5''')\n",
        "\n",
        "Observation:\n",
        "\"\"\""
      ],
      "metadata": {
        "id": "bYlYamqORRL-"
      },
      "execution_count": null,
      "outputs": []
    },
    {
      "cell_type": "code",
      "source": [
        "user_msg9_ = \"\"\"0.003\"\"\""
      ],
      "metadata": {
        "id": "BRmWkp0zRYSC"
      },
      "execution_count": null,
      "outputs": []
    },
    {
      "cell_type": "code",
      "source": [
        "messages.append({'role': \"assistant\", 'content': assistant_msg9_})\n",
        "messages.append({'role': \"user\", 'content': user_msg9_})"
      ],
      "metadata": {
        "id": "60GML4vwRcQ_"
      },
      "execution_count": null,
      "outputs": []
    },
    {
      "cell_type": "code",
      "source": [
        "assistant_msg10_ = \"\"\"\n",
        "\n",
        "Heuristic value of current child: 0.003\n",
        "\n",
        "0.003 < 3.0\n",
        "\n",
        "Heuristic value fails to satisfy the minimum required threshold of 3.0. Moving on to the next child.\n",
        "---\n",
        "Reminder:-\n",
        "Current level: 1\n",
        "Index of current node: 0_0\n",
        "State of current node:\n",
        "1 + 1 = 2 (left: 2 4 9)\n",
        "\n",
        "Index of current child: 0_0_6\n",
        "State of current child:\n",
        "1 + 1 = 2 (left: 2 4 9)\n",
        "9 / 4 = 2.25 (left: 2 2.25)\n",
        "\n",
        "Using the state evaluator tool to obtain heuristic value...\n",
        "\n",
        "Action: state_evaluator('''1 + 1 = 2 (left: 2 4 9)\\n9 / 4 = 2.25 (left: 2 2.25)''', '''0_0_6''')\n",
        "\n",
        "Observation:\n",
        "\"\"\""
      ],
      "metadata": {
        "id": "k46t4OWwRflI"
      },
      "execution_count": null,
      "outputs": []
    },
    {
      "cell_type": "code",
      "source": [
        "user_msg10_ = \"\"\"0.003\"\"\""
      ],
      "metadata": {
        "id": "410pgUD0RmEU"
      },
      "execution_count": null,
      "outputs": []
    },
    {
      "cell_type": "code",
      "source": [
        "messages.append({'role': \"assistant\", 'content': assistant_msg10_})\n",
        "messages.append({'role': \"user\", 'content': user_msg10_})"
      ],
      "metadata": {
        "id": "1Z7gqMXqRpxd"
      },
      "execution_count": null,
      "outputs": []
    },
    {
      "cell_type": "code",
      "source": [
        "assistant_msg11_ = \"\"\"\n",
        "\n",
        "Heuristic value of current child: 0.003\n",
        "\n",
        "0.003 < 3.0\n",
        "\n",
        "Heuristic value fails to satisfy the minimum required threshold of 3.0. Moving on to the next child.\n",
        "---\n",
        "Reminder:-\n",
        "Current level: 1\n",
        "Index of current node: 0_0\n",
        "State of current node:\n",
        "1 + 1 = 2 (left: 2 4 9)\n",
        "\n",
        "Index of current child: 0_0_7\n",
        "State of current child:\n",
        "1 + 1 = 2 (left: 2 4 9)\n",
        "4 * 2 = 8 (left: 8 9)\n",
        "\n",
        "Using the state evaluator tool to obtain heuristic value...\n",
        "\n",
        "Action: state_evaluator('''1 + 1 = 2 (left: 2 4 9)\\n4 * 2 = 8 (left: 8 9)''', '''0_0_7''')\n",
        "\n",
        "Observation:\n",
        "\"\"\""
      ],
      "metadata": {
        "id": "g2BQZjmiRtJR"
      },
      "execution_count": null,
      "outputs": []
    },
    {
      "cell_type": "code",
      "source": [
        "user_msg11_ = \"\"\"0.003\"\"\""
      ],
      "metadata": {
        "id": "Pp9N8owbRze_"
      },
      "execution_count": null,
      "outputs": []
    },
    {
      "cell_type": "code",
      "source": [
        "messages.append({'role': \"assistant\", 'content': assistant_msg11_})\n",
        "messages.append({'role': \"user\", 'content': user_msg11_})"
      ],
      "metadata": {
        "id": "nayg26Y4R3Xf"
      },
      "execution_count": null,
      "outputs": []
    },
    {
      "cell_type": "code",
      "source": [
        "assistant_msg12_ = \"\"\"\n",
        "\n",
        "Heuristic value of current child: 0.003\n",
        "\n",
        "0.003 < 3.0\n",
        "\n",
        "Heuristic value fails to satisfy the minimum required threshold of 3.0. Moving on to the next child.\n",
        "---\n",
        "No more children remaining. All child nodes have been traversed.\n",
        "\n",
        "None of the child nodes led to success. Seems like a dead end.\n",
        "\n",
        "Reminder:-\n",
        "Current level: 1\n",
        "Index of current node: 0_0\n",
        "\n",
        "Backtracking with flag 'FALSE'.\n",
        "Action: backtracking('''False''', '''0_0''', '''0''')\n",
        "\n",
        "Observation:\n",
        "\"\"\""
      ],
      "metadata": {
        "id": "PEZBm90FR6P6"
      },
      "execution_count": null,
      "outputs": []
    },
    {
      "cell_type": "code",
      "source": [
        "user_msg12_ = \"\"\"Ok.\"\"\""
      ],
      "metadata": {
        "id": "bklKmVwXA_c7"
      },
      "execution_count": null,
      "outputs": []
    },
    {
      "cell_type": "code",
      "source": [
        "messages.append({'role': \"assistant\", 'content': assistant_msg12_})\n",
        "messages.append({'role': \"user\", 'content': user_msg12_})"
      ],
      "metadata": {
        "id": "MSjSPtQISHrM"
      },
      "execution_count": null,
      "outputs": []
    },
    {
      "cell_type": "code",
      "source": [
        "assistant_msg13_ = \"\"\"\n",
        "---\n",
        "~~~\n",
        "We're back at node: 0\n",
        "\n",
        "Flag received: 'FALSE'\n",
        "\n",
        "That is, searching the subtree starting at child node 0_0 was unsuccessful!\n",
        "\n",
        "Trying the next child.\n",
        "---\n",
        "Reminder:-\n",
        "Current level: 0\n",
        "Index of current node: 0\n",
        "State of current node:\n",
        "'' (empty string; no thoughts have been generated yet as we're still at the root node)\n",
        "\n",
        "Index of current child: 0_1\n",
        "State of current child:\n",
        "4 - 1 = 3 (left: 1 3 9)\n",
        "\n",
        "Using the state evaluator tool to obtain heuristic value...\n",
        "\n",
        "Action: state_evaluator('''4 - 1 = 3 (left: 1 3 9)''', '''0_1''')\n",
        "\n",
        "Observation:\n",
        "\"\"\""
      ],
      "metadata": {
        "id": "bzHOHhI6BC8J"
      },
      "execution_count": null,
      "outputs": []
    },
    {
      "cell_type": "code",
      "source": [
        "user_msg13_ = \"\"\"41.0\"\"\""
      ],
      "metadata": {
        "id": "6I8G8XVkSD35"
      },
      "execution_count": null,
      "outputs": []
    },
    {
      "cell_type": "code",
      "source": [
        "messages.append({'role': \"assistant\", 'content': assistant_msg13_})\n",
        "messages.append({'role': \"user\", 'content': user_msg13_})"
      ],
      "metadata": {
        "id": "aDuVbbJwBSrX"
      },
      "execution_count": null,
      "outputs": []
    },
    {
      "cell_type": "code",
      "source": [
        "assistant_msg14_ = \"\"\"\n",
        "\n",
        "Heuristic value of current child: 41.0\n",
        "\n",
        "41.0 >= 3.0\n",
        "\n",
        "Heuristic value satisfies the minimum required threshold of 3.0.\n",
        "\n",
        "Checking whether the current level is greater than or equal to the level limit...\n",
        "\n",
        "Current level: 0\n",
        "\n",
        "Level limit: 3\n",
        "\n",
        "0 < 3\n",
        "\n",
        "No it isn't. The search isn't over yet. Searching subtree.\n",
        "---\n",
        "~~~\n",
        "Current level: 1\n",
        "Index of current node: 0_1\n",
        "State of current node:\n",
        "4 - 1 = 3 (left: 1 3 9)\n",
        "\n",
        "Using the thought generator tool to obtain thought candidates...\n",
        "\n",
        "Action: thought_generator('''4 - 1 = 3 (left: 1 3 9)''', '''0_1''')\n",
        "\n",
        "Observation:\n",
        "\"\"\""
      ],
      "metadata": {
        "id": "hRVLvV26SKgV"
      },
      "execution_count": null,
      "outputs": []
    },
    {
      "cell_type": "code",
      "source": [
        "user_msg14_ = \"\"\"1 + 3 = 4 (left: 4 9)\n",
        "3 - 1 = 2 (left: 2 9)\n",
        "9 - 1 = 8 (left: 3 8)\n",
        "9 - 3 = 6 (left: 1 6)\n",
        "9 / 3 = 3 (left: 1 3)\n",
        "3 * 1 = 3 (left: 3 9)\n",
        "9 / 1 = 9 (left: 3 9)\n",
        "1 * 3 = 3 (left: 3 9)\"\"\""
      ],
      "metadata": {
        "id": "m71RaFFuSQX0"
      },
      "execution_count": null,
      "outputs": []
    },
    {
      "cell_type": "code",
      "source": [
        "messages.append({'role': \"assistant\", 'content': assistant_msg14_})\n",
        "messages.append({'role': \"user\", 'content': user_msg14_})"
      ],
      "metadata": {
        "id": "UYb42b09SV2x"
      },
      "execution_count": null,
      "outputs": []
    },
    {
      "cell_type": "code",
      "source": [
        "assistant_msg15_ = \"\"\"\n",
        "\n",
        "Each of the above thought candidates has been added as a child node of the current node:\n",
        "\n",
        "Node 0_1_0: 1 + 3 = 4 (left: 4 9)\n",
        "Node 0_1_1: 3 - 1 = 2 (left: 2 9)\n",
        "Node 0_1_2: 9 - 1 = 8 (left: 3 8)\n",
        "Node 0_1_3: 9 - 3 = 6 (left: 1 6)\n",
        "Node 0_1_4: 9 / 3 = 3 (left: 1 3)\n",
        "Node 0_1_5: 3 * 1 = 3 (left: 3 9)\n",
        "Node 0_1_6: 9 / 1 = 9 (left: 3 9)\n",
        "Node 0_1_7: 1 * 3 = 3 (left: 3 9)\n",
        "\n",
        "Looping through the child nodes one at a time...\n",
        "---\n",
        "Reminder:-\n",
        "Current level: 1\n",
        "Index of current node: 0_1\n",
        "State of current node:\n",
        "4 - 1 = 3 (left: 1 3 9)\n",
        "\n",
        "Index of current child: 0_1_0\n",
        "State of current child:\n",
        "4 - 1 = 3 (left: 1 3 9)\n",
        "1 + 3 = 4 (left: 4 9)\n",
        "\n",
        "Using the state evaluator tool to obtain heuristic value...\n",
        "\n",
        "Action: state_evaluator('''4 - 1 = 3 (left: 1 3 9)\\n1 + 3 = 4 (left: 4 9)''', '''0_1_0''')\n",
        "\n",
        "Observation:\n",
        "\"\"\""
      ],
      "metadata": {
        "id": "BHCW70dOSY0x"
      },
      "execution_count": null,
      "outputs": []
    },
    {
      "cell_type": "code",
      "source": [
        "user_msg15_ = \"\"\"0.003\"\"\""
      ],
      "metadata": {
        "id": "rs-01K5rSfh8"
      },
      "execution_count": null,
      "outputs": []
    },
    {
      "cell_type": "code",
      "source": [
        "messages.append({'role': \"assistant\", 'content': assistant_msg15_})\n",
        "messages.append({'role': \"user\", 'content': user_msg15_})"
      ],
      "metadata": {
        "id": "iwFTcZrJSjo_"
      },
      "execution_count": null,
      "outputs": []
    },
    {
      "cell_type": "code",
      "source": [
        "assistant_msg16_ = \"\"\"\n",
        "\n",
        "Heuristic value of current child: 0.003\n",
        "\n",
        "0.003 < 3.0\n",
        "\n",
        "Heuristic value fails to satisfy the minimum required threshold of 3.0. Moving on to the next child.\n",
        "---\n",
        "Reminder:-\n",
        "Current level: 1\n",
        "Index of current node: 0_1\n",
        "State of current node:\n",
        "4 - 1 = 3 (left: 1 3 9)\n",
        "\n",
        "Index of current child: 0_1_1\n",
        "State of current child:\n",
        "4 - 1 = 3 (left: 1 3 9)\n",
        "3 - 1 = 2 (left: 2 9)\n",
        "\n",
        "Using the state evaluator tool to obtain heuristic value...\n",
        "\n",
        "Action: state_evaluator('''4 - 1 = 3 (left: 1 3 9)\\n3 - 1 = 2 (left: 2 9)''', '''0_1_1''')\n",
        "\n",
        "Observation:\n",
        "\"\"\""
      ],
      "metadata": {
        "id": "lECkeyHMSm6B"
      },
      "execution_count": null,
      "outputs": []
    },
    {
      "cell_type": "code",
      "source": [
        "user_msg16_ = \"\"\"0.003\"\"\""
      ],
      "metadata": {
        "id": "xOW75XtOSs-1"
      },
      "execution_count": null,
      "outputs": []
    },
    {
      "cell_type": "code",
      "source": [
        "messages.append({'role': \"assistant\", 'content': assistant_msg16_})\n",
        "messages.append({'role': \"user\", 'content': user_msg16_})"
      ],
      "metadata": {
        "id": "fgl-u2xKSxg2"
      },
      "execution_count": null,
      "outputs": []
    },
    {
      "cell_type": "code",
      "source": [
        "assistant_msg17_ = \"\"\"\n",
        "\n",
        "Heuristic value of current child: 0.003\n",
        "\n",
        "0.003 < 3.0\n",
        "\n",
        "Heuristic value fails to satisfy the minimum required threshold of 3.0. Moving on to the next child.\n",
        "---\n",
        "Reminder:-\n",
        "Current level: 1\n",
        "Index of current node: 0_1\n",
        "State of current node:\n",
        "4 - 1 = 3 (left: 1 3 9)\n",
        "\n",
        "Index of current child: 0_1_2\n",
        "State of current child:\n",
        "4 - 1 = 3 (left: 1 3 9)\n",
        "9 - 1 = 8 (left: 3 8)\n",
        "\n",
        "Using the state evaluator tool to obtain heuristic value...\n",
        "\n",
        "Action: state_evaluator('''4 - 1 = 3 (left: 1 3 9)\\n9 - 1 = 8 (left: 3 8)''', '''0_1_2''')\n",
        "\n",
        "Observation:\n",
        "\"\"\""
      ],
      "metadata": {
        "id": "ySZoGONVS0a3"
      },
      "execution_count": null,
      "outputs": []
    },
    {
      "cell_type": "code",
      "source": [
        "user_msg17_ = \"\"\"60.0\"\"\""
      ],
      "metadata": {
        "id": "iwa9agktS6TE"
      },
      "execution_count": null,
      "outputs": []
    },
    {
      "cell_type": "code",
      "source": [
        "messages.append({'role': \"assistant\", 'content': assistant_msg17_})\n",
        "messages.append({'role': \"user\", 'content': user_msg17_})"
      ],
      "metadata": {
        "id": "p5l83Y8GS-TD"
      },
      "execution_count": null,
      "outputs": []
    },
    {
      "cell_type": "code",
      "source": [
        "assistant_msg18_ = \"\"\"\n",
        "\n",
        "Heuristic value of current child: 60.0\n",
        "\n",
        "60.0 >= 3.0\n",
        "\n",
        "Heuristic value satisfies the minimum required threshold of 3.0.\n",
        "\n",
        "Checking whether the current level is greater than or equal to the level limit...\n",
        "\n",
        "Current level: 1\n",
        "\n",
        "Level limit: 3\n",
        "\n",
        "1 < 3\n",
        "\n",
        "No it isn't. The search isn't over yet. Searching subtree.\n",
        "---\n",
        "~~~\n",
        "Current level: 2\n",
        "Index of current node: 0_1_2\n",
        "State of current node:\n",
        "4 - 1 = 3 (left: 1 3 9)\n",
        "9 - 1 = 8 (left: 3 8)\n",
        "\n",
        "Using the thought generator tool to obtain thought candidates...\n",
        "\n",
        "Action: thought_generator('''4 - 1 = 3 (left: 1 3 9)\\n9 - 1 = 8 (left: 3 8)''', '''0_1_2''')\n",
        "\n",
        "Observation:\n",
        "\"\"\""
      ],
      "metadata": {
        "id": "QPtJaly8TEry"
      },
      "execution_count": null,
      "outputs": []
    },
    {
      "cell_type": "code",
      "source": [
        "user_msg18_ = \"\"\"3 + 8 = 11 (left: 11)\n",
        "8 - 3 = 5 (left: 5)\n",
        "8 / 3 = 2.67 (left: 2.67)\n",
        "3 * 8 = 24 (left: 24)\"\"\""
      ],
      "metadata": {
        "id": "3Lxov28KTKQR"
      },
      "execution_count": null,
      "outputs": []
    },
    {
      "cell_type": "code",
      "source": [
        "messages.append({'role': \"assistant\", 'content': assistant_msg18_})\n",
        "messages.append({'role': \"user\", 'content': user_msg18_})"
      ],
      "metadata": {
        "id": "EcX3lLELTP2A"
      },
      "execution_count": null,
      "outputs": []
    },
    {
      "cell_type": "code",
      "source": [
        "assistant_msg19_ = \"\"\"\n",
        "\n",
        "Each of the above thought candidates has been added as a child node of the current node:\n",
        "\n",
        "Node 0_1_2_0: 3 + 8 = 11 (left: 11)\n",
        "Node 0_1_2_1: 8 - 3 = 5 (left: 5)\n",
        "Node 0_1_2_2: 8 / 3 = 2.67 (left: 2.67)\n",
        "Node 0_1_2_3: 3 * 8 = 24 (left: 24)\n",
        "\n",
        "Looping through the child nodes one at a time...\n",
        "---\n",
        "Reminder:-\n",
        "Current level: 2\n",
        "Index of current node: 0_1_2\n",
        "State of current node:\n",
        "4 - 1 = 3 (left: 1 3 9)\n",
        "9 - 1 = 8 (left: 3 8)\n",
        "\n",
        "Index of current child: 0_1_2_0\n",
        "State of current child:\n",
        "4 - 1 = 3 (left: 1 3 9)\n",
        "9 - 1 = 8 (left: 3 8)\n",
        "3 + 8 = 11 (left: 11)\n",
        "\n",
        "Using the state evaluator tool to obtain heuristic value...\n",
        "\n",
        "Action: state_evaluator('''4 - 1 = 3 (left: 1 3 9)\\n9 - 1 = 8 (left: 3 8)\\n3 + 8 = 11 (left: 11)''', '''0_1_2_0''')\n",
        "\n",
        "Observation:\n",
        "\"\"\""
      ],
      "metadata": {
        "id": "ZCdNkHtoTTEq"
      },
      "execution_count": null,
      "outputs": []
    },
    {
      "cell_type": "code",
      "source": [
        "user_msg19_ = \"\"\"0.003\"\"\""
      ],
      "metadata": {
        "id": "kD0i34PYTYtn"
      },
      "execution_count": null,
      "outputs": []
    },
    {
      "cell_type": "code",
      "source": [
        "messages.append({'role': \"assistant\", 'content': assistant_msg19_})\n",
        "messages.append({'role': \"user\", 'content': user_msg19_})"
      ],
      "metadata": {
        "id": "IzVzU-u9TdNg"
      },
      "execution_count": null,
      "outputs": []
    },
    {
      "cell_type": "code",
      "source": [
        "assistant_msg20_ = \"\"\"\n",
        "\n",
        "Heuristic value of current child: 0.003\n",
        "\n",
        "0.003 < 3.0\n",
        "\n",
        "Heuristic value fails to satisfy the minimum required threshold of 3.0. Moving on to the next child.\n",
        "---\n",
        "Reminder:-\n",
        "Current level: 2\n",
        "Index of current node: 0_1_2\n",
        "State of current node:\n",
        "4 - 1 = 3 (left: 1 3 9)\n",
        "9 - 1 = 8 (left: 3 8)\n",
        "\n",
        "Index of current child: 0_1_2_1\n",
        "State of current child:\n",
        "4 - 1 = 3 (left: 1 3 9)\n",
        "9 - 1 = 8 (left: 3 8)\n",
        "8 - 3 = 5 (left: 5)\n",
        "\n",
        "Using the state evaluator tool to obtain heuristic value...\n",
        "\n",
        "Action: state_evaluator('''4 - 1 = 3 (left: 1 3 9)\\n9 - 1 = 8 (left: 3 8)\\n8 - 3 = 5 (left: 5)''', '''0_1_2_1''')\n",
        "\n",
        "Observation:\n",
        "\"\"\""
      ],
      "metadata": {
        "id": "c1CxyZCPTgtv"
      },
      "execution_count": null,
      "outputs": []
    },
    {
      "cell_type": "code",
      "source": [
        "user_msg20_ = \"\"\"0.003\"\"\""
      ],
      "metadata": {
        "id": "3UNFfGaQTmdD"
      },
      "execution_count": null,
      "outputs": []
    },
    {
      "cell_type": "code",
      "source": [
        "messages.append({'role': \"assistant\", 'content': assistant_msg20_})\n",
        "messages.append({'role': \"user\", 'content': user_msg20_})"
      ],
      "metadata": {
        "id": "yTZWPy3jTric"
      },
      "execution_count": null,
      "outputs": []
    },
    {
      "cell_type": "code",
      "source": [
        "assistant_msg21_ = \"\"\"\n",
        "\n",
        "Heuristic value of current child: 0.003\n",
        "\n",
        "0.003 < 3.0\n",
        "\n",
        "Heuristic value fails to satisfy the minimum required threshold of 3.0. Moving on to the next child.\n",
        "---\n",
        "Reminder:-\n",
        "Current level: 2\n",
        "Index of current node: 0_1_2\n",
        "State of current node:\n",
        "4 - 1 = 3 (left: 1 3 9)\n",
        "9 - 1 = 8 (left: 3 8)\n",
        "\n",
        "Index of current child: 0_1_2_2\n",
        "State of current child:\n",
        "4 - 1 = 3 (left: 1 3 9)\n",
        "9 - 1 = 8 (left: 3 8)\n",
        "8 / 3 = 2.67 (left: 2.67)\n",
        "\n",
        "Using the state evaluator tool to obtain heuristic value...\n",
        "\n",
        "Action: state_evaluator('''4 - 1 = 3 (left: 1 3 9)\\n9 - 1 = 8 (left: 3 8)\\n8 / 3 = 2.67 (left: 2.67)''', '''0_1_2_2''')\n",
        "\n",
        "Observation:\n",
        "\"\"\""
      ],
      "metadata": {
        "id": "vGg8MNieTvFP"
      },
      "execution_count": null,
      "outputs": []
    },
    {
      "cell_type": "code",
      "source": [
        "user_msg21_ = \"\"\"0.003\"\"\""
      ],
      "metadata": {
        "id": "3DoFJTDKT2JX"
      },
      "execution_count": null,
      "outputs": []
    },
    {
      "cell_type": "code",
      "source": [
        "messages.append({'role': \"assistant\", 'content': assistant_msg21_})\n",
        "messages.append({'role': \"user\", 'content': user_msg21_})"
      ],
      "metadata": {
        "id": "sV0vyyoMT6lE"
      },
      "execution_count": null,
      "outputs": []
    },
    {
      "cell_type": "code",
      "source": [
        "assistant_msg22_ = \"\"\"\n",
        "\n",
        "Heuristic value of current child: 0.003\n",
        "\n",
        "0.003 < 3.0\n",
        "\n",
        "Heuristic value fails to satisfy the minimum required threshold of 3.0. Moving on to the next child.\n",
        "---\n",
        "Reminder:-\n",
        "Current level: 2\n",
        "Index of current node: 0_1_2\n",
        "State of current node:\n",
        "4 - 1 = 3 (left: 1 3 9)\n",
        "9 - 1 = 8 (left: 3 8)\n",
        "\n",
        "Index of current child: 0_1_2_3\n",
        "State of current child:\n",
        "4 - 1 = 3 (left: 1 3 9)\n",
        "9 - 1 = 8 (left: 3 8)\n",
        "3 * 8 = 24 (left: 24)\n",
        "\n",
        "Using the state evaluator tool to obtain heuristic value...\n",
        "\n",
        "Action: state_evaluator('''4 - 1 = 3 (left: 1 3 9)\\n9 - 1 = 8 (left: 3 8)\\n3 * 8 = 24 (left: 24)''', '''0_1_2_3''')\n",
        "\n",
        "Observation:\n",
        "\"\"\""
      ],
      "metadata": {
        "id": "IVudkLl8T982"
      },
      "execution_count": null,
      "outputs": []
    },
    {
      "cell_type": "code",
      "source": [
        "user_msg22_ = \"\"\"60.0\"\"\""
      ],
      "metadata": {
        "id": "qQgEeoj8UEGJ"
      },
      "execution_count": null,
      "outputs": []
    },
    {
      "cell_type": "code",
      "source": [
        "messages.append({'role': \"assistant\", 'content': assistant_msg22_})\n",
        "messages.append({'role': \"user\", 'content': user_msg22_})"
      ],
      "metadata": {
        "id": "ZJ_u02bRUIMu"
      },
      "execution_count": null,
      "outputs": []
    },
    {
      "cell_type": "code",
      "source": [
        "assistant_msg23_ = \"\"\"\n",
        "\n",
        "Heuristic value of current child: 60.0\n",
        "\n",
        "60.0 >= 3.0\n",
        "\n",
        "Heuristic value satisfies the minimum required threshold of 3.0.\n",
        "\n",
        "Checking whether the current level is greater than or equal to the level limit...\n",
        "\n",
        "Current level: 2\n",
        "\n",
        "Level limit: 3\n",
        "\n",
        "2 < 3\n",
        "\n",
        "No it isn't. The search isn't over yet. Searching subtree.\n",
        "---\n",
        "~~~\n",
        "Current level: 3\n",
        "Index of current node: 0_1_2_3\n",
        "State of current node:\n",
        "4 - 1 = 3 (left: 1 3 9)\n",
        "9 - 1 = 8 (left: 3 8)\n",
        "3 * 8 = 24 (left: 24)\n",
        "\n",
        "Using the thought generator tool to obtain thought candidates...\n",
        "\n",
        "Action: thought_generator('''4 - 1 = 3 (left: 1 3 9)\\n9 - 1 = 8 (left: 3 8)\\n3 * 8 = 24 (left: 24)''', '''0_1_2_3''')\n",
        "\n",
        "Observation:\n",
        "\"\"\""
      ],
      "metadata": {
        "id": "ZFp6LUqQULNV"
      },
      "execution_count": null,
      "outputs": []
    },
    {
      "cell_type": "code",
      "source": [
        "user_msg23_ = \"\"\"Answer: (4 - 1) * (9 - 1) = 24\"\"\""
      ],
      "metadata": {
        "id": "08q01-4iUQwo"
      },
      "execution_count": null,
      "outputs": []
    },
    {
      "cell_type": "code",
      "source": [
        "messages.append({'role': \"assistant\", 'content': assistant_msg23_})\n",
        "messages.append({'role': \"user\", 'content': user_msg23_})"
      ],
      "metadata": {
        "id": "UYdUJFuxUXsL"
      },
      "execution_count": null,
      "outputs": []
    },
    {
      "cell_type": "code",
      "source": [
        "assistant_msg24_ = \"\"\"\n",
        "\n",
        "Each of the above thought candidates has been added as a child node of the current node:\n",
        "\n",
        "Node 0_1_2_3_0: Answer: (4 - 1) * (9 - 1) = 24\n",
        "\n",
        "Looping through the child nodes one at a time...\n",
        "---\n",
        "Reminder:-\n",
        "Current level: 3\n",
        "Index of current node: 0_1_2_3\n",
        "State of current node:\n",
        "4 - 1 = 3 (left: 1 3 9)\n",
        "9 - 1 = 8 (left: 3 8)\n",
        "3 * 8 = 24 (left: 24)\n",
        "\n",
        "Index of current child: 0_1_2_3_0\n",
        "State of current child:\n",
        "4 - 1 = 3 (left: 1 3 9)\n",
        "9 - 1 = 8 (left: 3 8)\n",
        "3 * 8 = 24 (left: 24)\n",
        "Answer: (4 - 1) * (9 - 1) = 24\n",
        "\n",
        "Using the state evaluator tool to obtain heuristic value...\n",
        "\n",
        "Action: state_evaluator('''4 - 1 = 3 (left: 1 3 9)\\n9 - 1 = 8 (left: 3 8)\\n3 * 8 = 24 (left: 24)\\nAnswer: (4 - 1) * (9 - 1) = 24''', '''0_1_2_3_0''')\n",
        "\n",
        "Observation:\n",
        "\"\"\""
      ],
      "metadata": {
        "id": "fPWScAmUUbQY"
      },
      "execution_count": null,
      "outputs": []
    },
    {
      "cell_type": "code",
      "source": [
        "user_msg24_ = \"\"\"60.0\"\"\""
      ],
      "metadata": {
        "id": "UeKuy02fUiiV"
      },
      "execution_count": null,
      "outputs": []
    },
    {
      "cell_type": "code",
      "source": [
        "messages.append({'role': \"assistant\", 'content': assistant_msg24_})\n",
        "messages.append({'role': \"user\", 'content': user_msg24_})"
      ],
      "metadata": {
        "id": "T-CTol_xUnPZ"
      },
      "execution_count": null,
      "outputs": []
    },
    {
      "cell_type": "code",
      "source": [
        "assistant_msg25_ = \"\"\"\n",
        "\n",
        "Heuristic value of current child: 60.0\n",
        "\n",
        "60.0 >= 3.0\n",
        "\n",
        "Heuristic value satisfies the minimum required threshold of 3.0.\n",
        "\n",
        "Checking whether the current level is greater than or equal to the level limit...\n",
        "\n",
        "Current level: 3\n",
        "\n",
        "Level limit: 3\n",
        "\n",
        "3 >= 3\n",
        "\n",
        "Yes it is. The search is over. Printing the state of the current child as the final solution...\n",
        "\n",
        "Final solution:-\n",
        "4 - 1 = 3 (left: 1 3 9)\n",
        "9 - 1 = 8 (left: 3 8)\n",
        "3 * 8 = 24 (left: 24)\n",
        "Answer: (4 - 1) * (9 - 1) = 24\n",
        "\n",
        "Reminder:-\n",
        "Current level: 3\n",
        "Index of current node: 0_1_2_3\n",
        "\n",
        "Backtracking with flag 'TRUE'.\n",
        "Action: backtracking('''True''', '''0_1_2_3''', '''0_1_2''')\n",
        "\n",
        "Observation:\n",
        "\"\"\""
      ],
      "metadata": {
        "id": "MhDOjWlpUr0L"
      },
      "execution_count": null,
      "outputs": []
    },
    {
      "cell_type": "code",
      "source": [
        "user_msg25_ = \"\"\"Ok.\"\"\""
      ],
      "metadata": {
        "id": "Lncu_7jWCTLE"
      },
      "execution_count": null,
      "outputs": []
    },
    {
      "cell_type": "code",
      "source": [
        "messages.append({'role': \"assistant\", 'content': assistant_msg25_})\n",
        "messages.append({'role': \"user\", 'content': user_msg25_})"
      ],
      "metadata": {
        "id": "YYqHBpKGDDwP"
      },
      "execution_count": null,
      "outputs": []
    },
    {
      "cell_type": "code",
      "source": [
        "assistant_msg26_ = \"\"\"\n",
        "---\n",
        "~~~\n",
        "We're back at node: 0_1_2\n",
        "\n",
        "Flag received: 'TRUE'\n",
        "\n",
        "That is, searching the subtree starting at child node 0_1_2_3 was successful!\n",
        "\n",
        "Reminder:-\n",
        "Current level: 2\n",
        "Index of current node: 0_1_2\n",
        "\n",
        "Backtracking with flag 'TRUE'.\n",
        "Action: backtracking('''True''', '''0_1_2''', '''0_1''')\n",
        "\n",
        "Observation:\n",
        "\"\"\""
      ],
      "metadata": {
        "id": "snDpAH51CTOi"
      },
      "execution_count": null,
      "outputs": []
    },
    {
      "cell_type": "code",
      "source": [
        "user_msg26_ = \"\"\"Ok.\"\"\""
      ],
      "metadata": {
        "id": "TPF0VL3wCTSN"
      },
      "execution_count": null,
      "outputs": []
    },
    {
      "cell_type": "code",
      "source": [
        "messages.append({'role': \"assistant\", 'content': assistant_msg26_})\n",
        "messages.append({'role': \"user\", 'content': user_msg26_})"
      ],
      "metadata": {
        "id": "YVM12U6ADHrU"
      },
      "execution_count": null,
      "outputs": []
    },
    {
      "cell_type": "code",
      "source": [
        "assistant_msg27_ = \"\"\"\n",
        "---\n",
        "~~~\n",
        "We're back at node: 0_1\n",
        "\n",
        "Flag received: 'TRUE'\n",
        "\n",
        "That is, searching the subtree starting at child node 0_1_2 was successful!\n",
        "\n",
        "Reminder:-\n",
        "Current level: 1\n",
        "Index of current node: 0_1\n",
        "\n",
        "Backtracking with flag 'TRUE'.\n",
        "Action: backtracking('''True''', '''0_1''', '''0''')\n",
        "\n",
        "Observation:\n",
        "\"\"\""
      ],
      "metadata": {
        "id": "AnCyIzvbCTV5"
      },
      "execution_count": null,
      "outputs": []
    },
    {
      "cell_type": "code",
      "source": [
        "user_msg27_ = \"\"\"Ok.\"\"\""
      ],
      "metadata": {
        "id": "VtnSQWzuCrF3"
      },
      "execution_count": null,
      "outputs": []
    },
    {
      "cell_type": "code",
      "source": [
        "messages.append({'role': \"assistant\", 'content': assistant_msg27_})\n",
        "messages.append({'role': \"user\", 'content': user_msg27_})"
      ],
      "metadata": {
        "id": "cAebkdFYDMOm"
      },
      "execution_count": null,
      "outputs": []
    },
    {
      "cell_type": "code",
      "source": [
        "assistant_msg28_ = \"\"\"\n",
        "---\n",
        "~~~\n",
        "We're back at node: 0\n",
        "\n",
        "Flag received: 'TRUE'\n",
        "\n",
        "That is, searching the subtree starting at child node 0_1 was successful!\n",
        "\n",
        "Reminder:-\n",
        "Current level: 0\n",
        "Index of current node: 0\n",
        "\n",
        "Backtracking with flag 'TRUE'.\n",
        "Action: backtracking('''True''', '''0''', '''None''')\n",
        "\n",
        "Observation:\n",
        "\"\"\""
      ],
      "metadata": {
        "id": "HCQVRNzECrJo"
      },
      "execution_count": null,
      "outputs": []
    },
    {
      "cell_type": "code",
      "source": [
        "user_msg28_ = \"\"\"Ok.\"\"\""
      ],
      "metadata": {
        "id": "2B-5lVqJCrNo"
      },
      "execution_count": null,
      "outputs": []
    },
    {
      "cell_type": "code",
      "source": [
        "messages.append({'role': \"assistant\", 'content': assistant_msg28_})\n",
        "messages.append({'role': \"user\", 'content': user_msg28_})"
      ],
      "metadata": {
        "id": "x7kpXRFTlDcY"
      },
      "execution_count": null,
      "outputs": []
    },
    {
      "cell_type": "code",
      "source": [
        "assistant_msg29_ = \"\"\"\n",
        "---\n",
        "~~~\n",
        "We're now outside the tree.\n",
        "\n",
        "Flag received: 'TRUE'\"\"\""
      ],
      "metadata": {
        "id": "5l7yaJN7CrRL"
      },
      "execution_count": null,
      "outputs": []
    },
    {
      "cell_type": "code",
      "source": [
        "messages.append({'role': \"assistant\", 'content': assistant_msg29_})"
      ],
      "metadata": {
        "id": "2D-Hi7KbBHoM"
      },
      "execution_count": null,
      "outputs": []
    },
    {
      "cell_type": "code",
      "source": [
        "# input_seq3 = '4 6 8 11'\n",
        "input_seq3 = '''Four numbers: 4 6 8 11\n",
        "\n",
        "Search parameters:-\n",
        "Heuristic threshold: 3.0\n",
        "Level limit: 3'''"
      ],
      "metadata": {
        "id": "Of4W-EE_9WVY"
      },
      "execution_count": null,
      "outputs": []
    },
    {
      "cell_type": "code",
      "source": [
        "messages.append({'role': \"user\", 'content': input_seq3})"
      ],
      "metadata": {
        "id": "GZgO8A5N9aYF"
      },
      "execution_count": null,
      "outputs": []
    },
    {
      "cell_type": "code",
      "source": [
        "assistant_msg1__ = \"\"\"The four numbers are: 4 6 8 11\n",
        "\n",
        "The minimum required heuristic threshold is: 3.0\n",
        "The level limit is: 3\n",
        "\n",
        "Starting the tree search...\n",
        "---\n",
        "~~~\n",
        "Current level: 0\n",
        "Index of current node: 0\n",
        "State of current node:\n",
        "'' (empty string; no thoughts have been generated yet as we're still at the root node)\n",
        "\n",
        "Using the thought generator tool to obtain thought candidates...\n",
        "\n",
        "Action: thought_generator('', '0')\n",
        "\n",
        "Observation:\n",
        "\"\"\""
      ],
      "metadata": {
        "id": "zxP3F0fnBm9_"
      },
      "execution_count": null,
      "outputs": []
    },
    {
      "cell_type": "code",
      "source": [
        "user_msg1__ = \"\"\"4 + 6 = 10 (left: 8 10 11)\n",
        "6 - 4 = 2 (left: 2 8 11)\n",
        "11 - 4 = 7 (left: 6 7 8)\n",
        "4 * 6 = 24 (left: 8 11 24)\n",
        "8 / 4 = 2 (left: 2 6 11)\n",
        "11 + 4 = 15 (left: 6 8 15)\n",
        "6 * 4 = 24 (left: 8 11 24)\n",
        "8 - 4 = 4 (left: 4 6 11)\"\"\""
      ],
      "metadata": {
        "id": "SyX8gER2WbVh"
      },
      "execution_count": null,
      "outputs": []
    },
    {
      "cell_type": "code",
      "source": [
        "messages.append({'role': \"assistant\", 'content': assistant_msg1__})\n",
        "messages.append({'role': \"user\", 'content': user_msg1__})"
      ],
      "metadata": {
        "id": "7G7RtCYAWfNh"
      },
      "execution_count": null,
      "outputs": []
    },
    {
      "cell_type": "code",
      "source": [
        "assistant_msg2__ = \"\"\"\n",
        "\n",
        "Each of the above thought candidates has been added as a child node of the current node:\n",
        "\n",
        "Node 0_0: 4 + 6 = 10 (left: 8 10 11)\n",
        "Node 0_1: 6 - 4 = 2 (left: 2 8 11)\n",
        "Node 0_2: 11 - 4 = 7 (left: 6 7 8)\n",
        "Node 0_3: 4 * 6 = 24 (left: 8 11 24)\n",
        "Node 0_4: 8 / 4 = 2 (left: 2 6 11)\n",
        "Node 0_5: 11 + 4 = 15 (left: 6 8 15)\n",
        "Node 0_6: 6 * 4 = 24 (left: 8 11 24)\n",
        "Node 0_7: 8 - 4 = 4 (left: 4 6 11)\n",
        "\n",
        "Looping through the child nodes one at a time...\n",
        "---\n",
        "Reminder:-\n",
        "Current level: 0\n",
        "Index of current node: 0\n",
        "State of current node:\n",
        "'' (empty string; no thoughts have been generated yet as we're still at the root node)\n",
        "\n",
        "Index of current child: 0_0\n",
        "State of current child:\n",
        "4 + 6 = 10 (left: 8 10 11)\n",
        "\n",
        "Using the state evaluator tool to obtain heuristic value...\n",
        "\n",
        "Action: state_evaluator('''4 + 6 = 10 (left: 8 10 11)''', '''0_0''')\n",
        "\n",
        "Observation:\n",
        "\"\"\""
      ],
      "metadata": {
        "id": "PQzlKfE_WiD_"
      },
      "execution_count": null,
      "outputs": []
    },
    {
      "cell_type": "code",
      "source": [
        "user_msg2__ = \"\"\"2.001\"\"\""
      ],
      "metadata": {
        "id": "ZKOUi9QZWlP_"
      },
      "execution_count": null,
      "outputs": []
    },
    {
      "cell_type": "code",
      "source": [
        "messages.append({'role': \"assistant\", 'content': assistant_msg2__})\n",
        "messages.append({'role': \"user\", 'content': user_msg2__})"
      ],
      "metadata": {
        "id": "FgYavMXfWnrb"
      },
      "execution_count": null,
      "outputs": []
    },
    {
      "cell_type": "code",
      "source": [
        "assistant_msg3__ = \"\"\"\n",
        "\n",
        "Heuristic value of current child: 2.001\n",
        "\n",
        "2.001 < 3.0\n",
        "\n",
        "Heuristic value fails to satisfy the minimum required threshold of 3.0. Moving on to the next child.\n",
        "---\n",
        "Reminder:-\n",
        "Current level: 0\n",
        "Index of current node: 0\n",
        "State of current node:\n",
        "'' (empty string; no thoughts have been generated yet as we're still at the root node)\n",
        "\n",
        "Index of current child: 0_1\n",
        "State of current child:\n",
        "6 - 4 = 2 (left: 2 8 11)\n",
        "\n",
        "Using the state evaluator tool to obtain heuristic value...\n",
        "\n",
        "Action: state_evaluator('''6 - 4 = 2 (left: 2 8 11)''', '''0_1''')\n",
        "\n",
        "Observation:\n",
        "\"\"\""
      ],
      "metadata": {
        "id": "46D36EY4WqAJ"
      },
      "execution_count": null,
      "outputs": []
    },
    {
      "cell_type": "code",
      "source": [
        "user_msg3__ = \"\"\"1.002\"\"\""
      ],
      "metadata": {
        "id": "BR33iNvTWu6I"
      },
      "execution_count": null,
      "outputs": []
    },
    {
      "cell_type": "code",
      "source": [
        "messages.append({'role': \"assistant\", 'content': assistant_msg3__})\n",
        "messages.append({'role': \"user\", 'content': user_msg3__})"
      ],
      "metadata": {
        "id": "WkziG2qoWxAx"
      },
      "execution_count": null,
      "outputs": []
    },
    {
      "cell_type": "code",
      "source": [
        "assistant_msg4__ = \"\"\"\n",
        "\n",
        "Heuristic value of current child: 1.002\n",
        "\n",
        "1.002 < 3.0\n",
        "\n",
        "Heuristic value fails to satisfy the minimum required threshold of 3.0. Moving on to the next child.\n",
        "---\n",
        "Reminder:-\n",
        "Current level: 0\n",
        "Index of current node: 0\n",
        "State of current node:\n",
        "'' (empty string; no thoughts have been generated yet as we're still at the root node)\n",
        "\n",
        "Index of current child: 0_2\n",
        "State of current child:\n",
        "11 - 4 = 7 (left: 6 7 8)\n",
        "\n",
        "Using the state evaluator tool to obtain heuristic value...\n",
        "\n",
        "Action: state_evaluator('''11 - 4 = 7 (left: 6 7 8)''', '''0_2''')\n",
        "\n",
        "Observation:\n",
        "\"\"\""
      ],
      "metadata": {
        "id": "CPNFouO9WzjX"
      },
      "execution_count": null,
      "outputs": []
    },
    {
      "cell_type": "code",
      "source": [
        "user_msg4__ = \"\"\"3.0\"\"\""
      ],
      "metadata": {
        "id": "37Vhdnw-W2QX"
      },
      "execution_count": null,
      "outputs": []
    },
    {
      "cell_type": "code",
      "source": [
        "messages.append({'role': \"assistant\", 'content': assistant_msg4__})\n",
        "messages.append({'role': \"user\", 'content': user_msg4__})"
      ],
      "metadata": {
        "id": "96cdMCPgW4YH"
      },
      "execution_count": null,
      "outputs": []
    },
    {
      "cell_type": "code",
      "source": [
        "assistant_msg5__ = \"\"\"\n",
        "\n",
        "Heuristic value of current child: 3.0\n",
        "\n",
        "3.0 >= 3.0\n",
        "\n",
        "Heuristic value satisfies the minimum required threshold of 3.0.\n",
        "\n",
        "Checking whether the current level is greater than or equal to the level limit...\n",
        "\n",
        "Current level: 0\n",
        "\n",
        "Level limit: 3\n",
        "\n",
        "0 < 3\n",
        "\n",
        "No it isn't. The search isn't over yet. Searching subtree.\n",
        "---\n",
        "~~~\n",
        "Current level: 1\n",
        "Index of current node: 0_2\n",
        "State of current node:\n",
        "11 - 4 = 7 (left: 6 7 8)\n",
        "\n",
        "Using the thought generator tool to obtain thought candidates...\n",
        "\n",
        "Action: thought_generator('''11 - 4 = 7 (left: 6 7 8)''', '''0_2''')\n",
        "\n",
        "Observation:\n",
        "\"\"\""
      ],
      "metadata": {
        "id": "NF9UwJHCW6v8"
      },
      "execution_count": null,
      "outputs": []
    },
    {
      "cell_type": "code",
      "source": [
        "user_msg5__ = \"\"\"6 + 7 = 13 (left: 8 13)\n",
        "7 - 6 = 1 (left: 1 8)\n",
        "8 - 6 = 2 (left: 2 7)\n",
        "8 - 7 = 1 (left: 1 6)\n",
        "6 * 7 = 42 (left: 8 42)\n",
        "7 / 6 = 1.17 (left: 1.17 8)\n",
        "8 / 6 = 1.33 (left: 1.33 7)\n",
        "8 / 7 = 1.14 (left: 1.14 6)\"\"\""
      ],
      "metadata": {
        "id": "9CSavbENW-JN"
      },
      "execution_count": null,
      "outputs": []
    },
    {
      "cell_type": "code",
      "source": [
        "messages.append({'role': \"assistant\", 'content': assistant_msg5__})\n",
        "messages.append({'role': \"user\", 'content': user_msg5__})"
      ],
      "metadata": {
        "id": "DkEkbNRlXAPK"
      },
      "execution_count": null,
      "outputs": []
    },
    {
      "cell_type": "code",
      "source": [
        "assistant_msg6__ = \"\"\"\n",
        "\n",
        "Each of the above thought candidates has been added as a child node of the current node:\n",
        "\n",
        "Node 0_2_0: 6 + 7 = 13 (left: 8 13)\n",
        "Node 0_2_1: 7 - 6 = 1 (left: 1 8)\n",
        "Node 0_2_2: 8 - 6 = 2 (left: 2 7)\n",
        "Node 0_2_3: 8 - 7 = 1 (left: 1 6)\n",
        "Node 0_2_4: 6 * 7 = 42 (left: 8 42)\n",
        "Node 0_2_5: 7 / 6 = 1.17 (left: 1.17 8)\n",
        "Node 0_2_6: 8 / 6 = 1.33 (left: 1.33 7)\n",
        "Node 0_2_7: 8 / 7 = 1.14 (left: 1.14 6)\n",
        "\n",
        "Looping through the child nodes one at a time...\n",
        "---\n",
        "Reminder:-\n",
        "Current level: 1\n",
        "Index of current node: 0_2\n",
        "State of current node:\n",
        "11 - 4 = 7 (left: 6 7 8)\n",
        "\n",
        "Index of current child: 0_2_0\n",
        "State of current child:\n",
        "11 - 4 = 7 (left: 6 7 8)\n",
        "6 + 7 = 13 (left: 8 13)\n",
        "\n",
        "Using the state evaluator tool to obtain heuristic value...\n",
        "\n",
        "Action: state_evaluator('''11 - 4 = 7 (left: 6 7 8)\\n6 + 7 = 13 (left: 8 13)''', '''0_2_0''')\n",
        "\n",
        "Observation:\n",
        "\"\"\""
      ],
      "metadata": {
        "id": "PQmqvX84XCgt"
      },
      "execution_count": null,
      "outputs": []
    },
    {
      "cell_type": "code",
      "source": [
        "user_msg6__ = \"\"\"0.003\"\"\""
      ],
      "metadata": {
        "id": "YLJIF5iGXGio"
      },
      "execution_count": null,
      "outputs": []
    },
    {
      "cell_type": "code",
      "source": [
        "messages.append({'role': \"assistant\", 'content': assistant_msg6__})\n",
        "messages.append({'role': \"user\", 'content': user_msg6__})"
      ],
      "metadata": {
        "id": "bIUi6y6sXImb"
      },
      "execution_count": null,
      "outputs": []
    },
    {
      "cell_type": "code",
      "source": [
        "assistant_msg7__ = \"\"\"\n",
        "\n",
        "Heuristic value of current child: 0.003\n",
        "\n",
        "0.003 < 3.0\n",
        "\n",
        "Heuristic value fails to satisfy the minimum required threshold of 3.0. Moving on to the next child.\n",
        "---\n",
        "Reminder:-\n",
        "Current level: 1\n",
        "Index of current node: 0_2\n",
        "State of current node:\n",
        "11 - 4 = 7 (left: 6 7 8)\n",
        "\n",
        "Index of current child: 0_2_1\n",
        "State of current child:\n",
        "11 - 4 = 7 (left: 6 7 8)\n",
        "7 - 6 = 1 (left: 1 8)\n",
        "\n",
        "Using the state evaluator tool to obtain heuristic value...\n",
        "\n",
        "Action: state_evaluator('''11 - 4 = 7 (left: 6 7 8)\\n7 - 6 = 1 (left: 1 8)''', '''0_2_1''')\n",
        "\n",
        "Observation:\n",
        "\"\"\""
      ],
      "metadata": {
        "id": "mKY7E7_yXKz8"
      },
      "execution_count": null,
      "outputs": []
    },
    {
      "cell_type": "code",
      "source": [
        "user_msg7__ = \"\"\"0.003\"\"\""
      ],
      "metadata": {
        "id": "rhj83QndXSAr"
      },
      "execution_count": null,
      "outputs": []
    },
    {
      "cell_type": "code",
      "source": [
        "messages.append({'role': \"assistant\", 'content': assistant_msg7__})\n",
        "messages.append({'role': \"user\", 'content': user_msg7__})"
      ],
      "metadata": {
        "id": "iCLncBLJXUdI"
      },
      "execution_count": null,
      "outputs": []
    },
    {
      "cell_type": "code",
      "source": [
        "assistant_msg8__ = \"\"\"\n",
        "\n",
        "Heuristic value of current child: 0.003\n",
        "\n",
        "0.003 < 3.0\n",
        "\n",
        "Heuristic value fails to satisfy the minimum required threshold of 3.0. Moving on to the next child.\n",
        "---\n",
        "Reminder:-\n",
        "Current level: 1\n",
        "Index of current node: 0_2\n",
        "State of current node:\n",
        "11 - 4 = 7 (left: 6 7 8)\n",
        "\n",
        "Index of current child: 0_2_2\n",
        "State of current child:\n",
        "11 - 4 = 7 (left: 6 7 8)\n",
        "8 - 6 = 2 (left: 2 7)\n",
        "\n",
        "Using the state evaluator tool to obtain heuristic value...\n",
        "\n",
        "Action: state_evaluator('''11 - 4 = 7 (left: 6 7 8)\\n8 - 6 = 2 (left: 2 7)''', '''0_2_2''')\n",
        "\n",
        "Observation:\n",
        "\"\"\""
      ],
      "metadata": {
        "id": "gk4JuXu8XXDP"
      },
      "execution_count": null,
      "outputs": []
    },
    {
      "cell_type": "code",
      "source": [
        "user_msg8__ = \"\"\"0.003\"\"\""
      ],
      "metadata": {
        "id": "W_eCqvmmXbDo"
      },
      "execution_count": null,
      "outputs": []
    },
    {
      "cell_type": "code",
      "source": [
        "messages.append({'role': \"assistant\", 'content': assistant_msg8__})\n",
        "messages.append({'role': \"user\", 'content': user_msg8__})"
      ],
      "metadata": {
        "id": "jjEnQLo4XfOi"
      },
      "execution_count": null,
      "outputs": []
    },
    {
      "cell_type": "code",
      "source": [
        "assistant_msg9__ = \"\"\"\n",
        "\n",
        "Heuristic value of current child: 0.003\n",
        "\n",
        "0.003 < 3.0\n",
        "\n",
        "Heuristic value fails to satisfy the minimum required threshold of 3.0. Moving on to the next child.\n",
        "---\n",
        "Reminder:-\n",
        "Current level: 1\n",
        "Index of current node: 0_2\n",
        "State of current node:\n",
        "11 - 4 = 7 (left: 6 7 8)\n",
        "\n",
        "Index of current child: 0_2_3\n",
        "State of current child:\n",
        "11 - 4 = 7 (left: 6 7 8)\n",
        "8 - 7 = 1 (left: 1 6)\n",
        "\n",
        "Using the state evaluator tool to obtain heuristic value...\n",
        "\n",
        "Action: state_evaluator('''11 - 4 = 7 (left: 6 7 8)\\n8 - 7 = 1 (left: 1 6)''', '''0_2_3''')\n",
        "\n",
        "Observation:\n",
        "\"\"\""
      ],
      "metadata": {
        "id": "JbdA-t7cXh7K"
      },
      "execution_count": null,
      "outputs": []
    },
    {
      "cell_type": "code",
      "source": [
        "user_msg9__ = \"\"\"0.003\"\"\""
      ],
      "metadata": {
        "id": "Mvd3FReBXnIS"
      },
      "execution_count": null,
      "outputs": []
    },
    {
      "cell_type": "code",
      "source": [
        "messages.append({'role': \"assistant\", 'content': assistant_msg9__})\n",
        "messages.append({'role': \"user\", 'content': user_msg9__})"
      ],
      "metadata": {
        "id": "qb0bkd8EXpK_"
      },
      "execution_count": null,
      "outputs": []
    },
    {
      "cell_type": "code",
      "source": [
        "assistant_msg10__ = \"\"\"\n",
        "\n",
        "Heuristic value of current child: 0.003\n",
        "\n",
        "0.003 < 3.0\n",
        "\n",
        "Heuristic value fails to satisfy the minimum required threshold of 3.0. Moving on to the next child.\n",
        "---\n",
        "Reminder:-\n",
        "Current level: 1\n",
        "Index of current node: 0_2\n",
        "State of current node:\n",
        "11 - 4 = 7 (left: 6 7 8)\n",
        "\n",
        "Index of current child: 0_2_4\n",
        "State of current child:\n",
        "11 - 4 = 7 (left: 6 7 8)\n",
        "6 * 7 = 42 (left: 8 42)\n",
        "\n",
        "Using the state evaluator tool to obtain heuristic value...\n",
        "\n",
        "Action: state_evaluator('''11 - 4 = 7 (left: 6 7 8)\\n6 * 7 = 42 (left: 8 42)''', '''0_2_4''')\n",
        "\n",
        "Observation:\n",
        "\"\"\""
      ],
      "metadata": {
        "id": "myJk6-E2XrlI"
      },
      "execution_count": null,
      "outputs": []
    },
    {
      "cell_type": "code",
      "source": [
        "user_msg10__ = \"\"\"0.003\"\"\""
      ],
      "metadata": {
        "id": "QWn4wI7dXvYK"
      },
      "execution_count": null,
      "outputs": []
    },
    {
      "cell_type": "code",
      "source": [
        "messages.append({'role': \"assistant\", 'content': assistant_msg10__})\n",
        "messages.append({'role': \"user\", 'content': user_msg10__})"
      ],
      "metadata": {
        "id": "OuBkoJkvXxyK"
      },
      "execution_count": null,
      "outputs": []
    },
    {
      "cell_type": "code",
      "source": [
        "assistant_msg11__ = \"\"\"\n",
        "\n",
        "Heuristic value of current child: 0.003\n",
        "\n",
        "0.003 < 3.0\n",
        "\n",
        "Heuristic value fails to satisfy the minimum required threshold of 3.0. Moving on to the next child.\n",
        "---\n",
        "Reminder:-\n",
        "Current level: 1\n",
        "Index of current node: 0_2\n",
        "State of current node:\n",
        "11 - 4 = 7 (left: 6 7 8)\n",
        "\n",
        "Index of current child: 0_2_5\n",
        "State of current child:\n",
        "11 - 4 = 7 (left: 6 7 8)\n",
        "7 / 6 = 1.17 (left: 1.17 8)\n",
        "\n",
        "Using the state evaluator tool to obtain heuristic value...\n",
        "\n",
        "Action: state_evaluator('''11 - 4 = 7 (left: 6 7 8)\\n7 / 6 = 1.17 (left: 1.17 8)''', '''0_2_5''')\n",
        "\n",
        "Observation:\n",
        "\"\"\""
      ],
      "metadata": {
        "id": "ThKSpOHpX1bN"
      },
      "execution_count": null,
      "outputs": []
    },
    {
      "cell_type": "code",
      "source": [
        "user_msg11__ = \"\"\"0.003\"\"\""
      ],
      "metadata": {
        "id": "avQ13tWAX39e"
      },
      "execution_count": null,
      "outputs": []
    },
    {
      "cell_type": "code",
      "source": [
        "messages.append({'role': \"assistant\", 'content': assistant_msg11__})\n",
        "messages.append({'role': \"user\", 'content': user_msg11__})"
      ],
      "metadata": {
        "id": "2PCFNfg3X6Ap"
      },
      "execution_count": null,
      "outputs": []
    },
    {
      "cell_type": "code",
      "source": [
        "assistant_msg12__ = \"\"\"\n",
        "\n",
        "Heuristic value of current child: 0.003\n",
        "\n",
        "0.003 < 3.0\n",
        "\n",
        "Heuristic value fails to satisfy the minimum required threshold of 3.0. Moving on to the next child.\n",
        "---\n",
        "Reminder:-\n",
        "Current level: 1\n",
        "Index of current node: 0_2\n",
        "State of current node:\n",
        "11 - 4 = 7 (left: 6 7 8)\n",
        "\n",
        "Index of current child: 0_2_6\n",
        "State of current child:\n",
        "11 - 4 = 7 (left: 6 7 8)\n",
        "8 / 6 = 1.33 (left: 1.33 7)\n",
        "\n",
        "Using the state evaluator tool to obtain heuristic value...\n",
        "\n",
        "Action: state_evaluator('''11 - 4 = 7 (left: 6 7 8)\\n8 / 6 = 1.33 (left: 1.33 7)''', '''0_2_6''')\n",
        "\n",
        "Observation:\n",
        "\"\"\""
      ],
      "metadata": {
        "id": "j8jZVQl9X84s"
      },
      "execution_count": null,
      "outputs": []
    },
    {
      "cell_type": "code",
      "source": [
        "user_msg12__ = \"\"\"0.003\"\"\""
      ],
      "metadata": {
        "id": "F1vJ5IrEYAjk"
      },
      "execution_count": null,
      "outputs": []
    },
    {
      "cell_type": "code",
      "source": [
        "messages.append({'role': \"assistant\", 'content': assistant_msg12__})\n",
        "messages.append({'role': \"user\", 'content': user_msg12__})"
      ],
      "metadata": {
        "id": "DpVFCzT7YC6A"
      },
      "execution_count": null,
      "outputs": []
    },
    {
      "cell_type": "code",
      "source": [
        "assistant_msg13__ = \"\"\"\n",
        "\n",
        "Heuristic value of current child: 0.003\n",
        "\n",
        "0.003 < 3.0\n",
        "\n",
        "Heuristic value fails to satisfy the minimum required threshold of 3.0. Moving on to the next child.\n",
        "---\n",
        "Reminder:-\n",
        "Current level: 1\n",
        "Index of current node: 0_2\n",
        "State of current node:\n",
        "11 - 4 = 7 (left: 6 7 8)\n",
        "\n",
        "Index of current child: 0_2_7\n",
        "State of current child:\n",
        "11 - 4 = 7 (left: 6 7 8)\n",
        "8 / 7 = 1.14 (left: 1.14 6)\n",
        "\n",
        "Using the state evaluator tool to obtain heuristic value...\n",
        "\n",
        "Action: state_evaluator('''11 - 4 = 7 (left: 6 7 8)\\n8 / 7 = 1.14 (left: 1.14 6)''', '''0_2_7''')\n",
        "\n",
        "Observation:\n",
        "\"\"\""
      ],
      "metadata": {
        "id": "qkKbSTqrYFJq"
      },
      "execution_count": null,
      "outputs": []
    },
    {
      "cell_type": "code",
      "source": [
        "user_msg13__ = \"\"\"0.003\"\"\""
      ],
      "metadata": {
        "id": "E-qNqYgoYHUG"
      },
      "execution_count": null,
      "outputs": []
    },
    {
      "cell_type": "code",
      "source": [
        "messages.append({'role': \"assistant\", 'content': assistant_msg13__})\n",
        "messages.append({'role': \"user\", 'content': user_msg13__})"
      ],
      "metadata": {
        "id": "ozI9KUO1YJX_"
      },
      "execution_count": null,
      "outputs": []
    },
    {
      "cell_type": "code",
      "source": [
        "assistant_msg14__ = \"\"\"\n",
        "\n",
        "Heuristic value of current child: 0.003\n",
        "\n",
        "0.003 < 3.0\n",
        "\n",
        "Heuristic value fails to satisfy the minimum required threshold of 3.0. Moving on to the next child.\n",
        "---\n",
        "No more children remaining. All child nodes have been traversed.\n",
        "\n",
        "None of the child nodes led to success. Seems like a dead end.\n",
        "\n",
        "Reminder:-\n",
        "Current level: 1\n",
        "Index of current node: 0_2\n",
        "\n",
        "Backtracking with flag 'FALSE'.\n",
        "Action: backtracking('''False''', '''0_2''', '''0''')\n",
        "\n",
        "Observation:\n",
        "\"\"\""
      ],
      "metadata": {
        "id": "qJ63WM4mYLcA"
      },
      "execution_count": null,
      "outputs": []
    },
    {
      "cell_type": "code",
      "source": [
        "user_msg14__ = \"\"\"Ok.\"\"\""
      ],
      "metadata": {
        "id": "gfGlK5o8DtCw"
      },
      "execution_count": null,
      "outputs": []
    },
    {
      "cell_type": "code",
      "source": [
        "messages.append({'role': \"assistant\", 'content': assistant_msg14__})\n",
        "messages.append({'role': \"user\", 'content': user_msg14__})"
      ],
      "metadata": {
        "id": "KISaWpBtYRik"
      },
      "execution_count": null,
      "outputs": []
    },
    {
      "cell_type": "code",
      "source": [
        "assistant_msg15__ = \"\"\"\n",
        "---\n",
        "~~~\n",
        "We're back at node: 0\n",
        "\n",
        "Flag received: 'FALSE'\n",
        "\n",
        "That is, searching the subtree starting at child node 0_2 was unsuccessful!\n",
        "\n",
        "Trying the next child.\n",
        "---\n",
        "Reminder:-\n",
        "Current level: 0\n",
        "Index of current node: 0\n",
        "State of current node:\n",
        "'' (empty string; no thoughts have been generated yet as we're still at the root node)\n",
        "\n",
        "Index of current child: 0_3\n",
        "State of current child:\n",
        "4 * 6 = 24 (left: 8 11 24)\n",
        "\n",
        "Using the state evaluator tool to obtain heuristic value...\n",
        "\n",
        "Action: state_evaluator('''4 * 6 = 24 (left: 8 11 24)''', '''0_3''')\n",
        "\n",
        "Observation:\n",
        "\"\"\""
      ],
      "metadata": {
        "id": "IVxFk7MeD0n7"
      },
      "execution_count": null,
      "outputs": []
    },
    {
      "cell_type": "code",
      "source": [
        "user_msg15__ = \"\"\"1.002\"\"\""
      ],
      "metadata": {
        "id": "ah4TNkTcYPaC"
      },
      "execution_count": null,
      "outputs": []
    },
    {
      "cell_type": "code",
      "source": [
        "messages.append({'role': \"assistant\", 'content': assistant_msg15__})\n",
        "messages.append({'role': \"user\", 'content': user_msg15__})"
      ],
      "metadata": {
        "id": "DFMocvXYD6m7"
      },
      "execution_count": null,
      "outputs": []
    },
    {
      "cell_type": "code",
      "source": [
        "assistant_msg16__ = \"\"\"\n",
        "\n",
        "Heuristic value of current child: 1.002\n",
        "\n",
        "1.002 < 3.0\n",
        "\n",
        "Heuristic value fails to satisfy the minimum required threshold of 3.0. Moving on to the next child.\n",
        "---\n",
        "Reminder:-\n",
        "Current level: 0\n",
        "Index of current node: 0\n",
        "State of current node:\n",
        "'' (empty string; no thoughts have been generated yet as we're still at the root node)\n",
        "\n",
        "Index of current child: 0_4\n",
        "State of current child:\n",
        "8 / 4 = 2 (left: 2 6 11)\n",
        "\n",
        "Using the state evaluator tool to obtain heuristic value...\n",
        "\n",
        "Action: state_evaluator('''8 / 4 = 2 (left: 2 6 11)''', '''0_4''')\n",
        "\n",
        "Observation:\n",
        "\"\"\""
      ],
      "metadata": {
        "id": "2owsSSGMYT7A"
      },
      "execution_count": null,
      "outputs": []
    },
    {
      "cell_type": "code",
      "source": [
        "user_msg16__ = \"\"\"1.002\"\"\""
      ],
      "metadata": {
        "id": "kUa6NvvlYWSB"
      },
      "execution_count": null,
      "outputs": []
    },
    {
      "cell_type": "code",
      "source": [
        "messages.append({'role': \"assistant\", 'content': assistant_msg16__})\n",
        "messages.append({'role': \"user\", 'content': user_msg16__})"
      ],
      "metadata": {
        "id": "328E16DGYYDP"
      },
      "execution_count": null,
      "outputs": []
    },
    {
      "cell_type": "code",
      "source": [
        "assistant_msg17__ = \"\"\"\n",
        "\n",
        "Heuristic value of current child: 1.002\n",
        "\n",
        "1.002 < 3.0\n",
        "\n",
        "Heuristic value fails to satisfy the minimum required threshold of 3.0. Moving on to the next child.\n",
        "---\n",
        "Reminder:-\n",
        "Current level: 0\n",
        "Index of current node: 0\n",
        "State of current node:\n",
        "'' (empty string; no thoughts have been generated yet as we're still at the root node)\n",
        "\n",
        "Index of current child: 0_5\n",
        "State of current child:\n",
        "11 + 4 = 15 (left: 6 8 15)\n",
        "\n",
        "Using the state evaluator tool to obtain heuristic value...\n",
        "\n",
        "Action: state_evaluator('''11 + 4 = 15 (left: 6 8 15)''', '''0_5''')\n",
        "\n",
        "Observation:\n",
        "\"\"\""
      ],
      "metadata": {
        "id": "jco4GjNqYaED"
      },
      "execution_count": null,
      "outputs": []
    },
    {
      "cell_type": "code",
      "source": [
        "user_msg17__ = \"\"\"3.0\"\"\""
      ],
      "metadata": {
        "id": "0hwJafdsYcHu"
      },
      "execution_count": null,
      "outputs": []
    },
    {
      "cell_type": "code",
      "source": [
        "messages.append({'role': \"assistant\", 'content': assistant_msg17__})\n",
        "messages.append({'role': \"user\", 'content': user_msg17__})"
      ],
      "metadata": {
        "id": "PebUqOKdYfj9"
      },
      "execution_count": null,
      "outputs": []
    },
    {
      "cell_type": "code",
      "source": [
        "assistant_msg18__ = \"\"\"\n",
        "\n",
        "Heuristic value of current child: 3.0\n",
        "\n",
        "3.0 >= 3.0\n",
        "\n",
        "Heuristic value satisfies the minimum required threshold of 3.0.\n",
        "\n",
        "Checking whether the current level is greater than or equal to the level limit...\n",
        "\n",
        "Current level: 0\n",
        "\n",
        "Level limit: 3\n",
        "\n",
        "0 < 3\n",
        "\n",
        "No it isn't. The search isn't over yet. Searching subtree.\n",
        "---\n",
        "~~~\n",
        "Current level: 1\n",
        "Index of current node: 0_5\n",
        "State of current node:\n",
        "11 + 4 = 15 (left: 6 8 15)\n",
        "\n",
        "Using the thought generator tool to obtain thought candidates...\n",
        "\n",
        "Action: thought_generator('''11 + 4 = 15 (left: 6 8 15)''', '''0_5''')\n",
        "\n",
        "Observation:\n",
        "\"\"\""
      ],
      "metadata": {
        "id": "iycreBguYhdH"
      },
      "execution_count": null,
      "outputs": []
    },
    {
      "cell_type": "code",
      "source": [
        "user_msg18__ = \"\"\"6 + 8 = 14 (left: 14 15)\n",
        "8 - 6 = 2 (left: 2 15)\n",
        "15 - 6 = 9 (left: 8 9)\n",
        "15 / 3 = 5 (left: 5 8)\n",
        "15 - 8 = 7 (left: 6 7)\n",
        "8 * 6 = 48 (left: 15 48)\n",
        "15 + 6 = 21 (left: 8 21)\n",
        "8 + 6 = 14 (left: 14 15)\"\"\""
      ],
      "metadata": {
        "id": "EHY3S1NGYjt9"
      },
      "execution_count": null,
      "outputs": []
    },
    {
      "cell_type": "code",
      "source": [
        "messages.append({'role': \"assistant\", 'content': assistant_msg18__})\n",
        "messages.append({'role': \"user\", 'content': user_msg18__})"
      ],
      "metadata": {
        "id": "OsGeo7lOYl7G"
      },
      "execution_count": null,
      "outputs": []
    },
    {
      "cell_type": "code",
      "source": [
        "assistant_msg19__ = \"\"\"\n",
        "\n",
        "Each of the above thought candidates has been added as a child node of the current node:\n",
        "\n",
        "Node 0_5_0: 6 + 8 = 14 (left: 14 15)\n",
        "Node 0_5_1: 8 - 6 = 2 (left: 2 15)\n",
        "Node 0_5_2: 15 - 6 = 9 (left: 8 9)\n",
        "Node 0_5_3: 15 / 3 = 5 (left: 5 8)\n",
        "Node 0_5_4: 15 - 8 = 7 (left: 6 7)\n",
        "Node 0_5_5: 8 * 6 = 48 (left: 15 48)\n",
        "Node 0_5_6: 15 + 6 = 21 (left: 8 21)\n",
        "Node 0_5_7: 8 + 6 = 14 (left: 14 15)\n",
        "\n",
        "Looping through the child nodes one at a time...\n",
        "---\n",
        "Reminder:-\n",
        "Current level: 1\n",
        "Index of current node: 0_5\n",
        "State of current node:\n",
        "11 + 4 = 15 (left: 6 8 15)\n",
        "\n",
        "Index of current child: 0_5_0\n",
        "State of current child:\n",
        "11 + 4 = 15 (left: 6 8 15)\n",
        "6 + 8 = 14 (left: 14 15)\n",
        "\n",
        "Using the state evaluator tool to obtain heuristic value...\n",
        "\n",
        "Action: state_evaluator('''11 + 4 = 15 (left: 6 8 15)\\n6 + 8 = 14 (left: 14 15)''', '''0_5_0''')\n",
        "\n",
        "Observation:\n",
        "\"\"\""
      ],
      "metadata": {
        "id": "1PjPZSycYohA"
      },
      "execution_count": null,
      "outputs": []
    },
    {
      "cell_type": "code",
      "source": [
        "user_msg19__ = \"\"\"0.003\"\"\""
      ],
      "metadata": {
        "id": "7M5C2krhYrDU"
      },
      "execution_count": null,
      "outputs": []
    },
    {
      "cell_type": "code",
      "source": [
        "messages.append({'role': \"assistant\", 'content': assistant_msg19__})\n",
        "messages.append({'role': \"user\", 'content': user_msg19__})"
      ],
      "metadata": {
        "id": "vHlo0RvwYs44"
      },
      "execution_count": null,
      "outputs": []
    },
    {
      "cell_type": "code",
      "source": [
        "assistant_msg20__ = \"\"\"\n",
        "\n",
        "Heuristic value of current child: 0.003\n",
        "\n",
        "0.003 < 3.0\n",
        "\n",
        "Heuristic value fails to satisfy the minimum required threshold of 3.0. Moving on to the next child.\n",
        "---\n",
        "Reminder:-\n",
        "Current level: 1\n",
        "Index of current node: 0_5\n",
        "State of current node:\n",
        "11 + 4 = 15 (left: 6 8 15)\n",
        "\n",
        "Index of current child: 0_5_1\n",
        "State of current child:\n",
        "11 + 4 = 15 (left: 6 8 15)\n",
        "8 - 6 = 2 (left: 2 15)\n",
        "\n",
        "Using the state evaluator tool to obtain heuristic value...\n",
        "\n",
        "Action: state_evaluator('''11 + 4 = 15 (left: 6 8 15)\\n8 - 6 = 2 (left: 2 15)''', '''0_5_1''')\n",
        "\n",
        "Observation:\n",
        "\"\"\""
      ],
      "metadata": {
        "id": "eJ8nkbN2YvQ7"
      },
      "execution_count": null,
      "outputs": []
    },
    {
      "cell_type": "code",
      "source": [
        "user_msg20__ = \"\"\"0.003\"\"\""
      ],
      "metadata": {
        "id": "BFN3TizBYyzB"
      },
      "execution_count": null,
      "outputs": []
    },
    {
      "cell_type": "code",
      "source": [
        "messages.append({'role': \"assistant\", 'content': assistant_msg20__})\n",
        "messages.append({'role': \"user\", 'content': user_msg20__})"
      ],
      "metadata": {
        "id": "nGAD4zzDY0tH"
      },
      "execution_count": null,
      "outputs": []
    },
    {
      "cell_type": "code",
      "source": [
        "assistant_msg21__ = \"\"\"\n",
        "\n",
        "Heuristic value of current child: 0.003\n",
        "\n",
        "0.003 < 3.0\n",
        "\n",
        "Heuristic value fails to satisfy the minimum required threshold of 3.0. Moving on to the next child.\n",
        "---\n",
        "Reminder:-\n",
        "Current level: 1\n",
        "Index of current node: 0_5\n",
        "State of current node:\n",
        "11 + 4 = 15 (left: 6 8 15)\n",
        "\n",
        "Index of current child: 0_5_2\n",
        "State of current child:\n",
        "11 + 4 = 15 (left: 6 8 15)\n",
        "15 - 6 = 9 (left: 8 9)\n",
        "\n",
        "Using the state evaluator tool to obtain heuristic value...\n",
        "\n",
        "Action: state_evaluator('''11 + 4 = 15 (left: 6 8 15)\\n15 - 6 = 9 (left: 8 9)''', '''0_5_2''')\n",
        "\n",
        "Observation:\n",
        "\"\"\""
      ],
      "metadata": {
        "id": "Oj3uu2L7Y3AT"
      },
      "execution_count": null,
      "outputs": []
    },
    {
      "cell_type": "code",
      "source": [
        "user_msg21__ = \"\"\"0.003\"\"\""
      ],
      "metadata": {
        "id": "EfcIlElAY5Vl"
      },
      "execution_count": null,
      "outputs": []
    },
    {
      "cell_type": "code",
      "source": [
        "messages.append({'role': \"assistant\", 'content': assistant_msg21__})\n",
        "messages.append({'role': \"user\", 'content': user_msg21__})"
      ],
      "metadata": {
        "id": "jjJG_hRCY7PD"
      },
      "execution_count": null,
      "outputs": []
    },
    {
      "cell_type": "code",
      "source": [
        "assistant_msg22__ = \"\"\"\n",
        "\n",
        "Heuristic value of current child: 0.003\n",
        "\n",
        "0.003 < 3.0\n",
        "\n",
        "Heuristic value fails to satisfy the minimum required threshold of 3.0. Moving on to the next child.\n",
        "---\n",
        "Reminder:-\n",
        "Current level: 1\n",
        "Index of current node: 0_5\n",
        "State of current node:\n",
        "11 + 4 = 15 (left: 6 8 15)\n",
        "\n",
        "Index of current child: 0_5_3\n",
        "State of current child:\n",
        "11 + 4 = 15 (left: 6 8 15)\n",
        "15 / 3 = 5 (left: 5 8)\n",
        "\n",
        "Using the state evaluator tool to obtain heuristic value...\n",
        "\n",
        "Action: state_evaluator('''11 + 4 = 15 (left: 6 8 15)\\n15 / 3 = 5 (left: 5 8)''', '''0_5_3''')\n",
        "\n",
        "Observation:\n",
        "\"\"\""
      ],
      "metadata": {
        "id": "Tej-2UFyY9pY"
      },
      "execution_count": null,
      "outputs": []
    },
    {
      "cell_type": "code",
      "source": [
        "user_msg22__ = \"\"\"0.003\"\"\""
      ],
      "metadata": {
        "id": "wokP6sQgZBCI"
      },
      "execution_count": null,
      "outputs": []
    },
    {
      "cell_type": "code",
      "source": [
        "messages.append({'role': \"assistant\", 'content': assistant_msg22__})\n",
        "messages.append({'role': \"user\", 'content': user_msg22__})"
      ],
      "metadata": {
        "id": "mZgnnJ8fZC3C"
      },
      "execution_count": null,
      "outputs": []
    },
    {
      "cell_type": "code",
      "source": [
        "assistant_msg23__ = \"\"\"\n",
        "\n",
        "Heuristic value of current child: 0.003\n",
        "\n",
        "0.003 < 3.0\n",
        "\n",
        "Heuristic value fails to satisfy the minimum required threshold of 3.0. Moving on to the next child.\n",
        "---\n",
        "Reminder:-\n",
        "Current level: 1\n",
        "Index of current node: 0_5\n",
        "State of current node:\n",
        "11 + 4 = 15 (left: 6 8 15)\n",
        "\n",
        "Index of current child: 0_5_4\n",
        "State of current child:\n",
        "11 + 4 = 15 (left: 6 8 15)\n",
        "15 - 8 = 7 (left: 6 7)\n",
        "\n",
        "Using the state evaluator tool to obtain heuristic value...\n",
        "\n",
        "Action: state_evaluator('''11 + 4 = 15 (left: 6 8 15)\\n15 - 8 = 7 (left: 6 7)''', '''0_5_4''')\n",
        "\n",
        "Observation:\n",
        "\"\"\""
      ],
      "metadata": {
        "id": "0aVrcM6RZE6K"
      },
      "execution_count": null,
      "outputs": []
    },
    {
      "cell_type": "code",
      "source": [
        "user_msg23__ = \"\"\"0.003\"\"\""
      ],
      "metadata": {
        "id": "qmZL3PYPZHLt"
      },
      "execution_count": null,
      "outputs": []
    },
    {
      "cell_type": "code",
      "source": [
        "messages.append({'role': \"assistant\", 'content': assistant_msg23__})\n",
        "messages.append({'role': \"user\", 'content': user_msg23__})"
      ],
      "metadata": {
        "id": "D7o9LJ2sZJch"
      },
      "execution_count": null,
      "outputs": []
    },
    {
      "cell_type": "code",
      "source": [
        "assistant_msg24__ = \"\"\"\n",
        "\n",
        "Heuristic value of current child: 0.003\n",
        "\n",
        "0.003 < 3.0\n",
        "\n",
        "Heuristic value fails to satisfy the minimum required threshold of 3.0. Moving on to the next child.\n",
        "---\n",
        "Reminder:-\n",
        "Current level: 1\n",
        "Index of current node: 0_5\n",
        "State of current node:\n",
        "11 + 4 = 15 (left: 6 8 15)\n",
        "\n",
        "Index of current child: 0_5_5\n",
        "State of current child:\n",
        "11 + 4 = 15 (left: 6 8 15)\n",
        "8 * 6 = 48 (left: 15 48)\n",
        "\n",
        "Using the state evaluator tool to obtain heuristic value...\n",
        "\n",
        "Action: state_evaluator('''11 + 4 = 15 (left: 6 8 15)\\n8 * 6 = 48 (left: 15 48)''', '''0_5_5''')\n",
        "\n",
        "Observation:\n",
        "\"\"\""
      ],
      "metadata": {
        "id": "BGpgkgSQZLeT"
      },
      "execution_count": null,
      "outputs": []
    },
    {
      "cell_type": "code",
      "source": [
        "user_msg24__ = \"\"\"0.003\"\"\""
      ],
      "metadata": {
        "id": "V3a-tTADZOf2"
      },
      "execution_count": null,
      "outputs": []
    },
    {
      "cell_type": "code",
      "source": [
        "messages.append({'role': \"assistant\", 'content': assistant_msg24__})\n",
        "messages.append({'role': \"user\", 'content': user_msg24__})"
      ],
      "metadata": {
        "id": "Vt0B9cDtZQsp"
      },
      "execution_count": null,
      "outputs": []
    },
    {
      "cell_type": "code",
      "source": [
        "assistant_msg25__ = \"\"\"\n",
        "\n",
        "Heuristic value of current child: 0.003\n",
        "\n",
        "0.003 < 3.0\n",
        "\n",
        "Heuristic value fails to satisfy the minimum required threshold of 3.0. Moving on to the next child.\n",
        "---\n",
        "Reminder:-\n",
        "Current level: 1\n",
        "Index of current node: 0_5\n",
        "State of current node:\n",
        "11 + 4 = 15 (left: 6 8 15)\n",
        "\n",
        "Index of current child: 0_5_6\n",
        "State of current child:\n",
        "11 + 4 = 15 (left: 6 8 15)\n",
        "15 + 6 = 21 (left: 8 21)\n",
        "\n",
        "Using the state evaluator tool to obtain heuristic value...\n",
        "\n",
        "Action: state_evaluator('''11 + 4 = 15 (left: 6 8 15)\\n15 + 6 = 21 (left: 8 21)''', '''0_5_6''')\n",
        "\n",
        "Observation:\n",
        "\"\"\""
      ],
      "metadata": {
        "id": "XhdqShGeZUBT"
      },
      "execution_count": null,
      "outputs": []
    },
    {
      "cell_type": "code",
      "source": [
        "user_msg25__ = \"\"\"0.003\"\"\""
      ],
      "metadata": {
        "id": "kDlDGoLxZWjR"
      },
      "execution_count": null,
      "outputs": []
    },
    {
      "cell_type": "code",
      "source": [
        "messages.append({'role': \"assistant\", 'content': assistant_msg25__})\n",
        "messages.append({'role': \"user\", 'content': user_msg25__})"
      ],
      "metadata": {
        "id": "nSzDjE90ZY8W"
      },
      "execution_count": null,
      "outputs": []
    },
    {
      "cell_type": "code",
      "source": [
        "assistant_msg26__ = \"\"\"\n",
        "\n",
        "Heuristic value of current child: 0.003\n",
        "\n",
        "0.003 < 3.0\n",
        "\n",
        "Heuristic value fails to satisfy the minimum required threshold of 3.0. Moving on to the next child.\n",
        "---\n",
        "Reminder:-\n",
        "Current level: 1\n",
        "Index of current node: 0_5\n",
        "State of current node:\n",
        "11 + 4 = 15 (left: 6 8 15)\n",
        "\n",
        "Index of current child: 0_5_7\n",
        "State of current child:\n",
        "11 + 4 = 15 (left: 6 8 15)\n",
        "8 + 6 = 14 (left: 14 15)\n",
        "\n",
        "Using the state evaluator tool to obtain heuristic value...\n",
        "\n",
        "Action: state_evaluator('''11 + 4 = 15 (left: 6 8 15)\\n8 + 6 = 14 (left: 14 15)''', '''0_5_7''')\n",
        "\n",
        "Observation:\n",
        "\"\"\""
      ],
      "metadata": {
        "id": "kEjqatR0Za6P"
      },
      "execution_count": null,
      "outputs": []
    },
    {
      "cell_type": "code",
      "source": [
        "user_msg26__ = \"\"\"0.003\"\"\""
      ],
      "metadata": {
        "id": "vILeDh86ZdFg"
      },
      "execution_count": null,
      "outputs": []
    },
    {
      "cell_type": "code",
      "source": [
        "messages.append({'role': \"assistant\", 'content': assistant_msg26__})\n",
        "messages.append({'role': \"user\", 'content': user_msg26__})"
      ],
      "metadata": {
        "id": "fouhBKYxZfJQ"
      },
      "execution_count": null,
      "outputs": []
    },
    {
      "cell_type": "code",
      "source": [
        "assistant_msg27__ = \"\"\"\n",
        "\n",
        "Heuristic value of current child: 0.003\n",
        "\n",
        "0.003 < 3.0\n",
        "\n",
        "Heuristic value fails to satisfy the minimum required threshold of 3.0. Moving on to the next child.\n",
        "---\n",
        "No more children remaining. All child nodes have been traversed.\n",
        "\n",
        "None of the child nodes led to success. Seems like a dead end.\n",
        "\n",
        "Reminder:-\n",
        "Current level: 1\n",
        "Index of current node: 0_5\n",
        "\n",
        "Backtracking with flag 'FALSE'.\n",
        "Action: backtracking('''False''', '''0_5''', '''0''')\n",
        "\n",
        "Observation:\n",
        "\"\"\""
      ],
      "metadata": {
        "id": "iTEaMR9gZhZF"
      },
      "execution_count": null,
      "outputs": []
    },
    {
      "cell_type": "code",
      "source": [
        "user_msg27__ = \"\"\"Ok.\"\"\""
      ],
      "metadata": {
        "id": "hVEop5sWE4jp"
      },
      "execution_count": null,
      "outputs": []
    },
    {
      "cell_type": "code",
      "source": [
        "messages.append({'role': \"assistant\", 'content': assistant_msg27__})\n",
        "messages.append({'role': \"user\", 'content': user_msg27__})"
      ],
      "metadata": {
        "id": "_5bupRY8ZnCi"
      },
      "execution_count": null,
      "outputs": []
    },
    {
      "cell_type": "code",
      "source": [
        "assistant_msg28__ = \"\"\"\n",
        "---\n",
        "~~~\n",
        "We're back at node: 0\n",
        "\n",
        "Flag received: 'FALSE'\n",
        "\n",
        "That is, searching the subtree starting at child node 0_5 was unsuccessful!\n",
        "\n",
        "Trying the next child.\n",
        "---\n",
        "Reminder:-\n",
        "Current level: 0\n",
        "Index of current node: 0\n",
        "State of current node:\n",
        "'' (empty string; no thoughts have been generated yet as we're still at the root node)\n",
        "\n",
        "Index of current child: 0_6\n",
        "State of current child:\n",
        "6 * 4 = 24 (left: 8 11 24)\n",
        "\n",
        "Using the state evaluator tool to obtain heuristic value...\n",
        "\n",
        "Action: state_evaluator('''6 * 4 = 24 (left: 8 11 24)''', '''0_6''')\n",
        "\n",
        "Observation:\n",
        "\"\"\""
      ],
      "metadata": {
        "id": "i2hm0lv8E-4-"
      },
      "execution_count": null,
      "outputs": []
    },
    {
      "cell_type": "code",
      "source": [
        "user_msg28__ = \"\"\"2.001\"\"\""
      ],
      "metadata": {
        "id": "2XaBmiBiZlOX"
      },
      "execution_count": null,
      "outputs": []
    },
    {
      "cell_type": "code",
      "source": [
        "messages.append({'role': \"assistant\", 'content': assistant_msg28__})\n",
        "messages.append({'role': \"user\", 'content': user_msg28__})"
      ],
      "metadata": {
        "id": "mTjqoIjdFGuw"
      },
      "execution_count": null,
      "outputs": []
    },
    {
      "cell_type": "code",
      "source": [
        "assistant_msg29__ = \"\"\"\n",
        "\n",
        "Heuristic value of current child: 2.001\n",
        "\n",
        "2.001 < 3.0\n",
        "\n",
        "Heuristic value fails to satisfy the minimum required threshold of 3.0. Moving on to the next child.\n",
        "---\n",
        "Reminder:-\n",
        "Current level: 0\n",
        "Index of current node: 0\n",
        "State of current node:\n",
        "'' (empty string; no thoughts have been generated yet as we're still at the root node)\n",
        "\n",
        "Index of current child: 0_7\n",
        "State of current child:\n",
        "8 - 4 = 4 (left: 4 6 11)\n",
        "\n",
        "Using the state evaluator tool to obtain heuristic value...\n",
        "\n",
        "Action: state_evaluator('''8 - 4 = 4 (left: 4 6 11)''', '''0_7''')\n",
        "\n",
        "Observation:\n",
        "\"\"\""
      ],
      "metadata": {
        "id": "-8g-tXCKZo6s"
      },
      "execution_count": null,
      "outputs": []
    },
    {
      "cell_type": "code",
      "source": [
        "user_msg29__ = \"\"\"3.0\"\"\""
      ],
      "metadata": {
        "id": "TNxiIH-hZrPR"
      },
      "execution_count": null,
      "outputs": []
    },
    {
      "cell_type": "code",
      "source": [
        "messages.append({'role': \"assistant\", 'content': assistant_msg29__})\n",
        "messages.append({'role': \"user\", 'content': user_msg29__})"
      ],
      "metadata": {
        "id": "3GZerop_ZtN2"
      },
      "execution_count": null,
      "outputs": []
    },
    {
      "cell_type": "code",
      "source": [
        "assistant_msg30__ = \"\"\"\n",
        "\n",
        "Heuristic value of current child: 3.0\n",
        "\n",
        "3.0 >= 3.0\n",
        "\n",
        "Heuristic value satisfies the minimum required threshold of 3.0.\n",
        "\n",
        "Checking whether the current level is greater than or equal to the level limit...\n",
        "\n",
        "Current level: 0\n",
        "\n",
        "Level limit: 3\n",
        "\n",
        "0 < 3\n",
        "\n",
        "No it isn't. The search isn't over yet. Searching subtree.\n",
        "---\n",
        "~~~\n",
        "Current level: 1\n",
        "Index of current node: 0_7\n",
        "State of current node:\n",
        "8 - 4 = 4 (left: 4 6 11)\n",
        "\n",
        "Using the thought generator tool to obtain thought candidates...\n",
        "\n",
        "Action: thought_generator('''8 - 4 = 4 (left: 4 6 11)''', '''0_7''')\n",
        "\n",
        "Observation:\n",
        "\"\"\""
      ],
      "metadata": {
        "id": "z2wvKiwCZvgy"
      },
      "execution_count": null,
      "outputs": []
    },
    {
      "cell_type": "code",
      "source": [
        "user_msg30__ = \"\"\"4 + 6 = 10 (left: 10 11)\n",
        "6 - 4 = 2 (left: 2 11)\n",
        "11 - 4 = 7 (left: 6 7)\n",
        "11 - 6 = 5 (left: 4 5)\n",
        "4 * 6 = 24 (left: 11 24)\n",
        "11 / 4 = 2.75 (left: 2.75 6)\n",
        "6 / 4 = 1.5 (left: 1.5 11)\"\"\""
      ],
      "metadata": {
        "id": "FZphVGVuZyFW"
      },
      "execution_count": null,
      "outputs": []
    },
    {
      "cell_type": "code",
      "source": [
        "messages.append({'role': \"assistant\", 'content': assistant_msg30__})\n",
        "messages.append({'role': \"user\", 'content': user_msg30__})"
      ],
      "metadata": {
        "id": "gOOjNU_iZ1X9"
      },
      "execution_count": null,
      "outputs": []
    },
    {
      "cell_type": "code",
      "source": [
        "assistant_msg31__ = \"\"\"\n",
        "\n",
        "Each of the above thought candidates has been added as a child node of the current node:\n",
        "\n",
        "Node 0_7_0: 4 + 6 = 10 (left: 10 11)\n",
        "Node 0_7_1: 6 - 4 = 2 (left: 2 11)\n",
        "Node 0_7_2: 11 - 4 = 7 (left: 6 7)\n",
        "Node 0_7_3: 11 - 6 = 5 (left: 4 5)\n",
        "Node 0_7_4: 4 * 6 = 24 (left: 11 24)\n",
        "Node 0_7_5: 11 / 4 = 2.75 (left: 2.75 6)\n",
        "Node 0_7_6: 6 / 4 = 1.5 (left: 1.5 11)\n",
        "\n",
        "Looping through the child nodes one at a time...\n",
        "---\n",
        "Reminder:-\n",
        "Current level: 1\n",
        "Index of current node: 0_7\n",
        "State of current node:\n",
        "8 - 4 = 4 (left: 4 6 11)\n",
        "\n",
        "Index of current child: 0_7_0\n",
        "State of current child:\n",
        "8 - 4 = 4 (left: 4 6 11)\n",
        "4 + 6 = 10 (left: 10 11)\n",
        "\n",
        "Using the state evaluator tool to obtain heuristic value...\n",
        "\n",
        "Action: state_evaluator('''8 - 4 = 4 (left: 4 6 11)\\n4 + 6 = 10 (left: 10 11)''', '''0_7_0''')\n",
        "\n",
        "Observation:\n",
        "\"\"\""
      ],
      "metadata": {
        "id": "rp_SIQIyZ3bQ"
      },
      "execution_count": null,
      "outputs": []
    },
    {
      "cell_type": "code",
      "source": [
        "user_msg31__ = \"\"\"0.003\"\"\""
      ],
      "metadata": {
        "id": "ZAoLfJMfZ6Z9"
      },
      "execution_count": null,
      "outputs": []
    },
    {
      "cell_type": "code",
      "source": [
        "messages.append({'role': \"assistant\", 'content': assistant_msg31__})\n",
        "messages.append({'role': \"user\", 'content': user_msg31__})"
      ],
      "metadata": {
        "id": "RP3U8hvSZ8YC"
      },
      "execution_count": null,
      "outputs": []
    },
    {
      "cell_type": "code",
      "source": [
        "assistant_msg32__ = \"\"\"\n",
        "\n",
        "Heuristic value of current child: 0.003\n",
        "\n",
        "0.003 < 3.0\n",
        "\n",
        "Heuristic value fails to satisfy the minimum required threshold of 3.0. Moving on to the next child.\n",
        "---\n",
        "Reminder:-\n",
        "Current level: 1\n",
        "Index of current node: 0_7\n",
        "State of current node:\n",
        "8 - 4 = 4 (left: 4 6 11)\n",
        "\n",
        "Index of current child: 0_7_1\n",
        "State of current child:\n",
        "8 - 4 = 4 (left: 4 6 11)\n",
        "6 - 4 = 2 (left: 2 11)\n",
        "\n",
        "Using the state evaluator tool to obtain heuristic value...\n",
        "\n",
        "Action: state_evaluator('''8 - 4 = 4 (left: 4 6 11)\\n6 - 4 = 2 (left: 2 11)''', '''0_7_1''')\n",
        "\n",
        "Observation:\n",
        "\"\"\""
      ],
      "metadata": {
        "id": "XSFI8FjIZ-3F"
      },
      "execution_count": null,
      "outputs": []
    },
    {
      "cell_type": "code",
      "source": [
        "user_msg32__ = \"\"\"0.003\"\"\""
      ],
      "metadata": {
        "id": "kOhE8f_BaA_f"
      },
      "execution_count": null,
      "outputs": []
    },
    {
      "cell_type": "code",
      "source": [
        "messages.append({'role': \"assistant\", 'content': assistant_msg32__})\n",
        "messages.append({'role': \"user\", 'content': user_msg32__})"
      ],
      "metadata": {
        "id": "Hk7-WLJjaC_J"
      },
      "execution_count": null,
      "outputs": []
    },
    {
      "cell_type": "code",
      "source": [
        "assistant_msg33__ = \"\"\"\n",
        "\n",
        "Heuristic value of current child: 0.003\n",
        "\n",
        "0.003 < 3.0\n",
        "\n",
        "Heuristic value fails to satisfy the minimum required threshold of 3.0. Moving on to the next child.\n",
        "---\n",
        "Reminder:-\n",
        "Current level: 1\n",
        "Index of current node: 0_7\n",
        "State of current node:\n",
        "8 - 4 = 4 (left: 4 6 11)\n",
        "\n",
        "Index of current child: 0_7_2\n",
        "State of current child:\n",
        "8 - 4 = 4 (left: 4 6 11)\n",
        "11 - 4 = 7 (left: 6 7)\n",
        "\n",
        "Using the state evaluator tool to obtain heuristic value...\n",
        "\n",
        "Action: state_evaluator('''8 - 4 = 4 (left: 4 6 11)\\n11 - 4 = 7 (left: 6 7)''', '''0_7_2''')\n",
        "\n",
        "Observation:\n",
        "\"\"\""
      ],
      "metadata": {
        "id": "PZiOU0SyaEz3"
      },
      "execution_count": null,
      "outputs": []
    },
    {
      "cell_type": "code",
      "source": [
        "user_msg33__ = \"\"\"0.003\"\"\""
      ],
      "metadata": {
        "id": "H2bDHLw9aHP9"
      },
      "execution_count": null,
      "outputs": []
    },
    {
      "cell_type": "code",
      "source": [
        "messages.append({'role': \"assistant\", 'content': assistant_msg33__})\n",
        "messages.append({'role': \"user\", 'content': user_msg33__})"
      ],
      "metadata": {
        "id": "3e9q9mQbaJGF"
      },
      "execution_count": null,
      "outputs": []
    },
    {
      "cell_type": "code",
      "source": [
        "assistant_msg34__ = \"\"\"\n",
        "\n",
        "Heuristic value of current child: 0.003\n",
        "\n",
        "0.003 < 3.0\n",
        "\n",
        "Heuristic value fails to satisfy the minimum required threshold of 3.0. Moving on to the next child.\n",
        "---\n",
        "Reminder:-\n",
        "Current level: 1\n",
        "Index of current node: 0_7\n",
        "State of current node:\n",
        "8 - 4 = 4 (left: 4 6 11)\n",
        "\n",
        "Index of current child: 0_7_3\n",
        "State of current child:\n",
        "8 - 4 = 4 (left: 4 6 11)\n",
        "11 - 6 = 5 (left: 4 5)\n",
        "\n",
        "Using the state evaluator tool to obtain heuristic value...\n",
        "\n",
        "Action: state_evaluator('''8 - 4 = 4 (left: 4 6 11)\\n11 - 6 = 5 (left: 4 5)''', '''0_7_3''')\n",
        "\n",
        "Observation:\n",
        "\"\"\""
      ],
      "metadata": {
        "id": "6FMcyXOaaLJc"
      },
      "execution_count": null,
      "outputs": []
    },
    {
      "cell_type": "code",
      "source": [
        "user_msg34__ = \"\"\"0.003\"\"\""
      ],
      "metadata": {
        "id": "DvRAjLhtaO2-"
      },
      "execution_count": null,
      "outputs": []
    },
    {
      "cell_type": "code",
      "source": [
        "messages.append({'role': \"assistant\", 'content': assistant_msg34__})\n",
        "messages.append({'role': \"user\", 'content': user_msg34__})"
      ],
      "metadata": {
        "id": "gqcqvI20aQvT"
      },
      "execution_count": null,
      "outputs": []
    },
    {
      "cell_type": "code",
      "source": [
        "assistant_msg35__ = \"\"\"\n",
        "\n",
        "Heuristic value of current child: 0.003\n",
        "\n",
        "0.003 < 3.0\n",
        "\n",
        "Heuristic value fails to satisfy the minimum required threshold of 3.0. Moving on to the next child.\n",
        "---\n",
        "Reminder:-\n",
        "Current level: 1\n",
        "Index of current node: 0_7\n",
        "State of current node:\n",
        "8 - 4 = 4 (left: 4 6 11)\n",
        "\n",
        "Index of current child: 0_7_4\n",
        "State of current child:\n",
        "8 - 4 = 4 (left: 4 6 11)\n",
        "4 * 6 = 24 (left: 11 24)\n",
        "\n",
        "Using the state evaluator tool to obtain heuristic value...\n",
        "\n",
        "Action: state_evaluator('''8 - 4 = 4 (left: 4 6 11)\\n4 * 6 = 24 (left: 11 24)''', '''0_7_4''')\n",
        "\n",
        "Observation:\n",
        "\"\"\""
      ],
      "metadata": {
        "id": "rX1lRC_VaTDg"
      },
      "execution_count": null,
      "outputs": []
    },
    {
      "cell_type": "code",
      "source": [
        "user_msg35__ = \"\"\"0.003\"\"\""
      ],
      "metadata": {
        "id": "k_7J78CWaVuN"
      },
      "execution_count": null,
      "outputs": []
    },
    {
      "cell_type": "code",
      "source": [
        "messages.append({'role': \"assistant\", 'content': assistant_msg35__})\n",
        "messages.append({'role': \"user\", 'content': user_msg35__})"
      ],
      "metadata": {
        "id": "yLGwhU51aXvt"
      },
      "execution_count": null,
      "outputs": []
    },
    {
      "cell_type": "code",
      "source": [
        "assistant_msg36__ = \"\"\"\n",
        "\n",
        "Heuristic value of current child: 0.003\n",
        "\n",
        "0.003 < 3.0\n",
        "\n",
        "Heuristic value fails to satisfy the minimum required threshold of 3.0. Moving on to the next child.\n",
        "---\n",
        "Reminder:-\n",
        "Current level: 1\n",
        "Index of current node: 0_7\n",
        "State of current node:\n",
        "8 - 4 = 4 (left: 4 6 11)\n",
        "\n",
        "Index of current child: 0_7_5\n",
        "State of current child:\n",
        "8 - 4 = 4 (left: 4 6 11)\n",
        "11 / 4 = 2.75 (left: 2.75 6)\n",
        "\n",
        "Using the state evaluator tool to obtain heuristic value...\n",
        "\n",
        "Action: state_evaluator('''8 - 4 = 4 (left: 4 6 11)\\n11 / 4 = 2.75 (left: 2.75 6)''', '''0_7_5''')\n",
        "\n",
        "Observation:\n",
        "\"\"\""
      ],
      "metadata": {
        "id": "paZMG3kNaZ60"
      },
      "execution_count": null,
      "outputs": []
    },
    {
      "cell_type": "code",
      "source": [
        "user_msg36__ = \"\"\"2.001\"\"\""
      ],
      "metadata": {
        "id": "ZUvV2WJgacCK"
      },
      "execution_count": null,
      "outputs": []
    },
    {
      "cell_type": "code",
      "source": [
        "messages.append({'role': \"assistant\", 'content': assistant_msg36__})\n",
        "messages.append({'role': \"user\", 'content': user_msg36__})"
      ],
      "metadata": {
        "id": "2FCF3vONadxo"
      },
      "execution_count": null,
      "outputs": []
    },
    {
      "cell_type": "code",
      "source": [
        "assistant_msg37__ = \"\"\"\n",
        "\n",
        "Heuristic value of current child: 2.001\n",
        "\n",
        "2.001 < 3.0\n",
        "\n",
        "Heuristic value fails to satisfy the minimum required threshold of 3.0. Moving on to the next child.\n",
        "---\n",
        "Reminder:-\n",
        "Current level: 1\n",
        "Index of current node: 0_7\n",
        "State of current node:\n",
        "8 - 4 = 4 (left: 4 6 11)\n",
        "\n",
        "Index of current child: 0_7_6\n",
        "State of current child:\n",
        "8 - 4 = 4 (left: 4 6 11)\n",
        "6 / 4 = 1.5 (left: 1.5 11)\n",
        "\n",
        "Using the state evaluator tool to obtain heuristic value...\n",
        "\n",
        "Action: state_evaluator('''8 - 4 = 4 (left: 4 6 11)\\n6 / 4 = 1.5 (left: 1.5 11)''', '''0_7_6''')\n",
        "\n",
        "Observation:\n",
        "\"\"\""
      ],
      "metadata": {
        "id": "2f5z9Pugaf-a"
      },
      "execution_count": null,
      "outputs": []
    },
    {
      "cell_type": "code",
      "source": [
        "user_msg37__ = \"\"\"0.003\"\"\""
      ],
      "metadata": {
        "id": "tWAbxM4lai1o"
      },
      "execution_count": null,
      "outputs": []
    },
    {
      "cell_type": "code",
      "source": [
        "messages.append({'role': \"assistant\", 'content': assistant_msg37__})\n",
        "messages.append({'role': \"user\", 'content': user_msg37__})"
      ],
      "metadata": {
        "id": "EZGxtsWUakvZ"
      },
      "execution_count": null,
      "outputs": []
    },
    {
      "cell_type": "code",
      "source": [
        "assistant_msg38__ = \"\"\"\n",
        "\n",
        "Heuristic value of current child: 0.003\n",
        "\n",
        "0.003 < 3.0\n",
        "\n",
        "Heuristic value fails to satisfy the minimum required threshold of 3.0. Moving on to the next child.\n",
        "---\n",
        "No more children remaining. All child nodes have been traversed.\n",
        "\n",
        "None of the child nodes led to success. Seems like a dead end.\n",
        "\n",
        "Reminder:-\n",
        "Current level: 1\n",
        "Index of current node: 0_7\n",
        "\n",
        "Backtracking with flag 'FALSE'.\n",
        "Action: backtracking('''False''', '''0_7''', '''0''')\n",
        "\n",
        "Observation:\n",
        "\"\"\""
      ],
      "metadata": {
        "id": "R-Kaj4oJanNb"
      },
      "execution_count": null,
      "outputs": []
    },
    {
      "cell_type": "code",
      "source": [
        "user_msg38__ = \"\"\"Ok.\"\"\""
      ],
      "metadata": {
        "id": "j9AieeR8FzJF"
      },
      "execution_count": null,
      "outputs": []
    },
    {
      "cell_type": "code",
      "source": [
        "messages.append({'role': \"assistant\", 'content': assistant_msg38__})\n",
        "messages.append({'role': \"user\", 'content': user_msg38__})"
      ],
      "metadata": {
        "id": "T9eImlRSGGSf"
      },
      "execution_count": null,
      "outputs": []
    },
    {
      "cell_type": "code",
      "source": [
        "assistant_msg39__ = \"\"\"\n",
        "---\n",
        "~~~\n",
        "We're back at node: 0\n",
        "\n",
        "Flag received: 'FALSE'\n",
        "\n",
        "That is, searching the subtree starting at child node 0_7 was unsuccessful!\n",
        "\n",
        "Trying the next child.\n",
        "---\n",
        "No more children remaining. All child nodes have been traversed.\n",
        "\n",
        "None of the child nodes led to success. Seems like a dead end.\n",
        "\n",
        "Reminder:-\n",
        "Current level: 0\n",
        "Index of current node: 0\n",
        "\n",
        "Backtracking with flag 'FALSE'.\n",
        "Action: backtracking('''False''', '''0''', '''None''')\n",
        "\n",
        "Observation:\n",
        "\"\"\""
      ],
      "metadata": {
        "id": "rSkkRGKMF5Zv"
      },
      "execution_count": null,
      "outputs": []
    },
    {
      "cell_type": "code",
      "source": [
        "user_msg39__ = \"\"\"Ok.\"\"\""
      ],
      "metadata": {
        "id": "VYyL1M-OF7AA"
      },
      "execution_count": null,
      "outputs": []
    },
    {
      "cell_type": "code",
      "source": [
        "messages.append({'role': \"assistant\", 'content': assistant_msg39__})\n",
        "messages.append({'role': \"user\", 'content': user_msg39__})"
      ],
      "metadata": {
        "id": "0L9DwPS6F7Dc"
      },
      "execution_count": null,
      "outputs": []
    },
    {
      "cell_type": "code",
      "source": [
        "assistant_msg40__ = \"\"\"\n",
        "---\n",
        "~~~\n",
        "We're now outside the tree.\n",
        "\n",
        "Flag received: 'FALSE'\"\"\""
      ],
      "metadata": {
        "id": "ZHBfbHP4F7G-"
      },
      "execution_count": null,
      "outputs": []
    },
    {
      "cell_type": "code",
      "source": [
        "messages.append({'role': \"assistant\", 'content': assistant_msg40__})"
      ],
      "metadata": {
        "id": "gbDZSkpiap3P"
      },
      "execution_count": null,
      "outputs": []
    },
    {
      "cell_type": "code",
      "source": [
        "# input_seq4 = '2 9 10 12'\n",
        "input_seq4 = '''Four numbers: 2 9 10 12\n",
        "\n",
        "Search parameters:-\n",
        "Heuristic threshold: 3.0\n",
        "Level limit: 3'''"
      ],
      "metadata": {
        "id": "OacqWKFrWNIy"
      },
      "execution_count": null,
      "outputs": []
    },
    {
      "cell_type": "code",
      "source": [
        "messages.append({'role': \"user\", 'content': input_seq4})"
      ],
      "metadata": {
        "id": "fWMEj336WOZX"
      },
      "execution_count": null,
      "outputs": []
    },
    {
      "cell_type": "code",
      "source": [
        "assistant_msg1___ = \"\"\"The four numbers are: 2 9 10 12\n",
        "\n",
        "The minimum required heuristic threshold is: 3.0\n",
        "The level limit is: 3\n",
        "\n",
        "Starting the tree search...\n",
        "---\n",
        "~~~\n",
        "Current level: 0\n",
        "Index of current node: 0\n",
        "State of current node:\n",
        "'' (empty string; no thoughts have been generated yet as we're still at the root node)\n",
        "\n",
        "Using the thought generator tool to obtain thought candidates...\n",
        "\n",
        "Action: thought_generator('', '0')\n",
        "\n",
        "Observation:\n",
        "\"\"\""
      ],
      "metadata": {
        "id": "fr4KOnFDWYBD"
      },
      "execution_count": null,
      "outputs": []
    },
    {
      "cell_type": "code",
      "source": [
        "user_msg1___ = \"\"\"2 + 9 = 11 (left: 10 11 12)\n",
        "12 - 2 = 10 (left: 9 10 10)\n",
        "10 - 2 = 8 (left: 8 9 12)\n",
        "12 / 2 = 6 (left: 6 9 10)\n",
        "10 / 2 = 5 (left: 5 9 12)\n",
        "9 - 2 = 7 (left: 7 10 12)\n",
        "12 - 9 = 3 (left: 2 3 10)\n",
        "10 - 9 = 1 (left: 1 2 12)\"\"\""
      ],
      "metadata": {
        "id": "IM4kc2iuWa-X"
      },
      "execution_count": null,
      "outputs": []
    },
    {
      "cell_type": "code",
      "source": [
        "messages.append({'role': \"assistant\", 'content': assistant_msg1___})\n",
        "messages.append({'role': \"user\", 'content': user_msg1___})"
      ],
      "metadata": {
        "id": "rvZ-Rgm9Wdyl"
      },
      "execution_count": null,
      "outputs": []
    },
    {
      "cell_type": "code",
      "source": [
        "assistant_msg2___ = \"\"\"\n",
        "\n",
        "Each of the above thought candidates has been added as a child node of the current node:\n",
        "\n",
        "Node 0_0: 2 + 9 = 11 (left: 10 11 12)\n",
        "Node 0_1: 12 - 2 = 10 (left: 9 10 10)\n",
        "Node 0_2: 10 - 2 = 8 (left: 8 9 12)\n",
        "Node 0_3: 12 / 2 = 6 (left: 6 9 10)\n",
        "Node 0_4: 10 / 2 = 5 (left: 5 9 12)\n",
        "Node 0_5: 9 - 2 = 7 (left: 7 10 12)\n",
        "Node 0_6: 12 - 9 = 3 (left: 2 3 10)\n",
        "Node 0_7: 10 - 9 = 1 (left: 1 2 12)\n",
        "\n",
        "Looping through the child nodes one at a time...\n",
        "---\n",
        "Reminder:-\n",
        "Current level: 0\n",
        "Index of current node: 0\n",
        "State of current node:\n",
        "'' (empty string; no thoughts have been generated yet as we're still at the root node)\n",
        "\n",
        "Index of current child: 0_0\n",
        "State of current child:\n",
        "2 + 9 = 11 (left: 10 11 12)\n",
        "\n",
        "Using the state evaluator tool to obtain heuristic value...\n",
        "\n",
        "Action: state_evaluator('''2 + 9 = 11 (left: 10 11 12)''', '''0_0''')\n",
        "\n",
        "Observation:\n",
        "\"\"\""
      ],
      "metadata": {
        "id": "BcInKoWNWhSO"
      },
      "execution_count": null,
      "outputs": []
    },
    {
      "cell_type": "code",
      "source": [
        "user_msg2___ = \"\"\"0.003\"\"\""
      ],
      "metadata": {
        "id": "jTyjq5lJWk3a"
      },
      "execution_count": null,
      "outputs": []
    },
    {
      "cell_type": "code",
      "source": [
        "messages.append({'role': \"assistant\", 'content': assistant_msg2___})\n",
        "messages.append({'role': \"user\", 'content': user_msg2___})"
      ],
      "metadata": {
        "id": "xcDvsaDXWmub"
      },
      "execution_count": null,
      "outputs": []
    },
    {
      "cell_type": "code",
      "source": [
        "assistant_msg3___ = \"\"\"\n",
        "\n",
        "Heuristic value of current child: 0.003\n",
        "\n",
        "0.003 < 3.0\n",
        "\n",
        "Heuristic value fails to satisfy the minimum required threshold of 3.0. Moving on to the next child.\n",
        "---\n",
        "Reminder:-\n",
        "Current level: 0\n",
        "Index of current node: 0\n",
        "State of current node:\n",
        "'' (empty string; no thoughts have been generated yet as we're still at the root node)\n",
        "\n",
        "Index of current child: 0_1\n",
        "State of current child:\n",
        "12 - 2 = 10 (left: 9 10 10)\n",
        "\n",
        "Using the state evaluator tool to obtain heuristic value...\n",
        "\n",
        "Action: state_evaluator('''12 - 2 = 10 (left: 9 10 10)''', '''0_1''')\n",
        "\n",
        "Observation:\n",
        "\"\"\""
      ],
      "metadata": {
        "id": "j1ePENx_WpEg"
      },
      "execution_count": null,
      "outputs": []
    },
    {
      "cell_type": "code",
      "source": [
        "user_msg3___ = \"\"\"0.003\"\"\""
      ],
      "metadata": {
        "id": "Ammz0c9WWsE5"
      },
      "execution_count": null,
      "outputs": []
    },
    {
      "cell_type": "code",
      "source": [
        "messages.append({'role': \"assistant\", 'content': assistant_msg3___})\n",
        "messages.append({'role': \"user\", 'content': user_msg3___})"
      ],
      "metadata": {
        "id": "EqMUwzgtWuzG"
      },
      "execution_count": null,
      "outputs": []
    },
    {
      "cell_type": "code",
      "source": [
        "assistant_msg4___ = \"\"\"\n",
        "\n",
        "Heuristic value of current child: 0.003\n",
        "\n",
        "0.003 < 3.0\n",
        "\n",
        "Heuristic value fails to satisfy the minimum required threshold of 3.0. Moving on to the next child.\n",
        "---\n",
        "Reminder:-\n",
        "Current level: 0\n",
        "Index of current node: 0\n",
        "State of current node:\n",
        "'' (empty string; no thoughts have been generated yet as we're still at the root node)\n",
        "\n",
        "Index of current child: 0_2\n",
        "State of current child:\n",
        "10 - 2 = 8 (left: 8 9 12)\n",
        "\n",
        "Using the state evaluator tool to obtain heuristic value...\n",
        "\n",
        "Action: state_evaluator('''10 - 2 = 8 (left: 8 9 12)''', '''0_2''')\n",
        "\n",
        "Observation:\n",
        "\"\"\""
      ],
      "metadata": {
        "id": "qWau-W5dWxJL"
      },
      "execution_count": null,
      "outputs": []
    },
    {
      "cell_type": "code",
      "source": [
        "user_msg4___ = \"\"\"3.0\"\"\""
      ],
      "metadata": {
        "id": "csUtYwZWW037"
      },
      "execution_count": null,
      "outputs": []
    },
    {
      "cell_type": "code",
      "source": [
        "messages.append({'role': \"assistant\", 'content': assistant_msg4___})\n",
        "messages.append({'role': \"user\", 'content': user_msg4___})"
      ],
      "metadata": {
        "id": "OkH0fTU6W292"
      },
      "execution_count": null,
      "outputs": []
    },
    {
      "cell_type": "code",
      "source": [
        "assistant_msg5___ = \"\"\"\n",
        "\n",
        "Heuristic value of current child: 3.0\n",
        "\n",
        "3.0 >= 3.0\n",
        "\n",
        "Heuristic value satisfies the minimum required threshold of 3.0.\n",
        "\n",
        "Checking whether the current level is greater than or equal to the level limit...\n",
        "\n",
        "Current level: 0\n",
        "\n",
        "Level limit: 3\n",
        "\n",
        "0 < 3\n",
        "\n",
        "No it isn't. The search isn't over yet. Searching subtree.\n",
        "---\n",
        "~~~\n",
        "Current level: 1\n",
        "Index of current node: 0_2\n",
        "State of current node:\n",
        "10 - 2 = 8 (left: 8 9 12)\n",
        "\n",
        "Using the thought generator tool to obtain thought candidates...\n",
        "\n",
        "Action: thought_generator('''10 - 2 = 8 (left: 8 9 12)''', '''0_2''')\n",
        "\n",
        "Observation:\n",
        "\"\"\""
      ],
      "metadata": {
        "id": "kbwvnGD_W49R"
      },
      "execution_count": null,
      "outputs": []
    },
    {
      "cell_type": "code",
      "source": [
        "user_msg5___ = \"\"\"8 + 9 = 17 (left: 12 17)\n",
        "9 - 8 = 1 (left: 1 12)\n",
        "12 - 8 = 4 (left: 4 9)\n",
        "12 - 9 = 3 (left: 3 8)\n",
        "12 / 8 = 1.5 (left: 1.5 9)\n",
        "9 * 8 = 72 (left: 12 72)\n",
        "8 * 12 = 96 (left: 9 96)\"\"\""
      ],
      "metadata": {
        "id": "uI8zoaTQW7r5"
      },
      "execution_count": null,
      "outputs": []
    },
    {
      "cell_type": "code",
      "source": [
        "messages.append({'role': \"assistant\", 'content': assistant_msg5___})\n",
        "messages.append({'role': \"user\", 'content': user_msg5___})"
      ],
      "metadata": {
        "id": "lKeBEWUsW-R0"
      },
      "execution_count": null,
      "outputs": []
    },
    {
      "cell_type": "code",
      "source": [
        "assistant_msg6___ = \"\"\"\n",
        "\n",
        "Each of the above thought candidates has been added as a child node of the current node:\n",
        "\n",
        "Node 0_2_0: 8 + 9 = 17 (left: 12 17)\n",
        "Node 0_2_1: 9 - 8 = 1 (left: 1 12)\n",
        "Node 0_2_2: 12 - 8 = 4 (left: 4 9)\n",
        "Node 0_2_3: 12 - 9 = 3 (left: 3 8)\n",
        "Node 0_2_4: 12 / 8 = 1.5 (left: 1.5 9)\n",
        "Node 0_2_5: 9 * 8 = 72 (left: 12 72)\n",
        "Node 0_2_6: 8 * 12 = 96 (left: 9 96)\n",
        "\n",
        "Looping through the child nodes one at a time...\n",
        "---\n",
        "Reminder:-\n",
        "Current level: 1\n",
        "Index of current node: 0_2\n",
        "State of current node:\n",
        "10 - 2 = 8 (left: 8 9 12)\n",
        "\n",
        "Index of current child: 0_2_0\n",
        "State of current child:\n",
        "10 - 2 = 8 (left: 8 9 12)\n",
        "8 + 9 = 17 (left: 12 17)\n",
        "\n",
        "Using the state evaluator tool to obtain heuristic value...\n",
        "\n",
        "Action: state_evaluator('''10 - 2 = 8 (left: 8 9 12)\\n8 + 9 = 17 (left: 12 17)''', '''0_2_0''')\n",
        "\n",
        "Observation:\n",
        "\"\"\""
      ],
      "metadata": {
        "id": "LhKW_HF-XAZs"
      },
      "execution_count": null,
      "outputs": []
    },
    {
      "cell_type": "code",
      "source": [
        "user_msg6___ = \"\"\"0.003\"\"\""
      ],
      "metadata": {
        "id": "-WR9QbgPXDC_"
      },
      "execution_count": null,
      "outputs": []
    },
    {
      "cell_type": "code",
      "source": [
        "messages.append({'role': \"assistant\", 'content': assistant_msg6___})\n",
        "messages.append({'role': \"user\", 'content': user_msg6___})"
      ],
      "metadata": {
        "id": "kJl93cMYXFOC"
      },
      "execution_count": null,
      "outputs": []
    },
    {
      "cell_type": "code",
      "source": [
        "assistant_msg7___ = \"\"\"\n",
        "\n",
        "Heuristic value of current child: 0.003\n",
        "\n",
        "0.003 < 3.0\n",
        "\n",
        "Heuristic value fails to satisfy the minimum required threshold of 3.0. Moving on to the next child.\n",
        "---\n",
        "Reminder:-\n",
        "Current level: 1\n",
        "Index of current node: 0_2\n",
        "State of current node:\n",
        "10 - 2 = 8 (left: 8 9 12)\n",
        "\n",
        "Index of current child: 0_2_1\n",
        "State of current child:\n",
        "10 - 2 = 8 (left: 8 9 12)\n",
        "9 - 8 = 1 (left: 1 12)\n",
        "\n",
        "Using the state evaluator tool to obtain heuristic value...\n",
        "\n",
        "Action: state_evaluator('''10 - 2 = 8 (left: 8 9 12)\\n9 - 8 = 1 (left: 1 12)''', '''0_2_1''')\n",
        "\n",
        "Observation:\n",
        "\"\"\""
      ],
      "metadata": {
        "id": "T5Ei6pHtXHVV"
      },
      "execution_count": null,
      "outputs": []
    },
    {
      "cell_type": "code",
      "source": [
        "user_msg7___ = \"\"\"0.003\"\"\""
      ],
      "metadata": {
        "id": "kxFkvezZXKF0"
      },
      "execution_count": null,
      "outputs": []
    },
    {
      "cell_type": "code",
      "source": [
        "messages.append({'role': \"assistant\", 'content': assistant_msg7___})\n",
        "messages.append({'role': \"user\", 'content': user_msg7___})"
      ],
      "metadata": {
        "id": "KKCAPOqpXMrc"
      },
      "execution_count": null,
      "outputs": []
    },
    {
      "cell_type": "code",
      "source": [
        "assistant_msg8___ = \"\"\"\n",
        "\n",
        "Heuristic value of current child: 0.003\n",
        "\n",
        "0.003 < 3.0\n",
        "\n",
        "Heuristic value fails to satisfy the minimum required threshold of 3.0. Moving on to the next child.\n",
        "---\n",
        "Reminder:-\n",
        "Current level: 1\n",
        "Index of current node: 0_2\n",
        "State of current node:\n",
        "10 - 2 = 8 (left: 8 9 12)\n",
        "\n",
        "Index of current child: 0_2_2\n",
        "State of current child:\n",
        "10 - 2 = 8 (left: 8 9 12)\n",
        "12 - 8 = 4 (left: 4 9)\n",
        "\n",
        "Using the state evaluator tool to obtain heuristic value...\n",
        "\n",
        "Action: state_evaluator('''10 - 2 = 8 (left: 8 9 12)\\n12 - 8 = 4 (left: 4 9)''', '''0_2_2''')\n",
        "\n",
        "Observation:\n",
        "\"\"\""
      ],
      "metadata": {
        "id": "ZieFRXN8XPm3"
      },
      "execution_count": null,
      "outputs": []
    },
    {
      "cell_type": "code",
      "source": [
        "user_msg8___ = \"\"\"0.003\"\"\""
      ],
      "metadata": {
        "id": "1KzvcT5UXSHf"
      },
      "execution_count": null,
      "outputs": []
    },
    {
      "cell_type": "code",
      "source": [
        "messages.append({'role': \"assistant\", 'content': assistant_msg8___})\n",
        "messages.append({'role': \"user\", 'content': user_msg8___})"
      ],
      "metadata": {
        "id": "bHM-6PliXUVA"
      },
      "execution_count": null,
      "outputs": []
    },
    {
      "cell_type": "code",
      "source": [
        "assistant_msg9___ = \"\"\"\n",
        "\n",
        "Heuristic value of current child: 0.003\n",
        "\n",
        "0.003 < 3.0\n",
        "\n",
        "Heuristic value fails to satisfy the minimum required threshold of 3.0. Moving on to the next child.\n",
        "---\n",
        "Reminder:-\n",
        "Current level: 1\n",
        "Index of current node: 0_2\n",
        "State of current node:\n",
        "10 - 2 = 8 (left: 8 9 12)\n",
        "\n",
        "Index of current child: 0_2_3\n",
        "State of current child:\n",
        "10 - 2 = 8 (left: 8 9 12)\n",
        "12 - 9 = 3 (left: 3 8)\n",
        "\n",
        "Using the state evaluator tool to obtain heuristic value...\n",
        "\n",
        "Action: state_evaluator('''10 - 2 = 8 (left: 8 9 12)\\n12 - 9 = 3 (left: 3 8)''', '''0_2_3''')\n",
        "\n",
        "Observation:\n",
        "\"\"\""
      ],
      "metadata": {
        "id": "nnL3FM1qXWqv"
      },
      "execution_count": null,
      "outputs": []
    },
    {
      "cell_type": "code",
      "source": [
        "user_msg9___ = \"\"\"60.0\"\"\""
      ],
      "metadata": {
        "id": "hhLsFIskXZnj"
      },
      "execution_count": null,
      "outputs": []
    },
    {
      "cell_type": "code",
      "source": [
        "messages.append({'role': \"assistant\", 'content': assistant_msg9___})\n",
        "messages.append({'role': \"user\", 'content': user_msg9___})"
      ],
      "metadata": {
        "id": "oreGIWzrXbkN"
      },
      "execution_count": null,
      "outputs": []
    },
    {
      "cell_type": "code",
      "source": [
        "assistant_msg10___ = \"\"\"\n",
        "\n",
        "Heuristic value of current child: 60.0\n",
        "\n",
        "60.0 >= 3.0\n",
        "\n",
        "Heuristic value satisfies the minimum required threshold of 3.0.\n",
        "\n",
        "Checking whether the current level is greater than or equal to the level limit...\n",
        "\n",
        "Current level: 1\n",
        "\n",
        "Level limit: 3\n",
        "\n",
        "1 < 3\n",
        "\n",
        "No it isn't. The search isn't over yet. Searching subtree.\n",
        "---\n",
        "~~~\n",
        "Current level: 2\n",
        "Index of current node: 0_2_3\n",
        "State of current node:\n",
        "10 - 2 = 8 (left: 8 9 12)\n",
        "12 - 9 = 3 (left: 3 8)\n",
        "\n",
        "Using the thought generator tool to obtain thought candidates...\n",
        "\n",
        "Action: thought_generator('''10 - 2 = 8 (left: 8 9 12)\\n12 - 9 = 3 (left: 3 8)''', '''0_2_3''')\n",
        "\n",
        "Observation:\n",
        "\"\"\""
      ],
      "metadata": {
        "id": "W8rVanTMXeGG"
      },
      "execution_count": null,
      "outputs": []
    },
    {
      "cell_type": "code",
      "source": [
        "user_msg10___ = \"\"\"3 + 8 = 11 (left: 11)\n",
        "8 - 3 = 5 (left: 5)\n",
        "3 * 8 = 24 (left: 24)\n",
        "8 / 3 = 2.67 (left: 2.67)\"\"\""
      ],
      "metadata": {
        "id": "GiydEfiHXid7"
      },
      "execution_count": null,
      "outputs": []
    },
    {
      "cell_type": "code",
      "source": [
        "messages.append({'role': \"assistant\", 'content': assistant_msg10___})\n",
        "messages.append({'role': \"user\", 'content': user_msg10___})"
      ],
      "metadata": {
        "id": "af4v_2VIXkeE"
      },
      "execution_count": null,
      "outputs": []
    },
    {
      "cell_type": "code",
      "source": [
        "assistant_msg11___ = \"\"\"\n",
        "\n",
        "Each of the above thought candidates has been added as a child node of the current node:\n",
        "\n",
        "Node 0_2_3_0: 3 + 8 = 11 (left: 11)\n",
        "Node 0_2_3_1: 8 - 3 = 5 (left: 5)\n",
        "Node 0_2_3_2: 3 * 8 = 24 (left: 24)\n",
        "Node 0_2_3_3: 8 / 3 = 2.67 (left: 2.67)\n",
        "\n",
        "Looping through the child nodes one at a time...\n",
        "---\n",
        "Reminder:-\n",
        "Current level: 2\n",
        "Index of current node: 0_2_3\n",
        "State of current node:\n",
        "10 - 2 = 8 (left: 8 9 12)\n",
        "12 - 9 = 3 (left: 3 8)\n",
        "\n",
        "Index of current child: 0_2_3_0\n",
        "State of current child:\n",
        "10 - 2 = 8 (left: 8 9 12)\n",
        "12 - 9 = 3 (left: 3 8)\n",
        "3 + 8 = 11 (left: 11)\n",
        "\n",
        "Using the state evaluator tool to obtain heuristic value...\n",
        "\n",
        "Action: state_evaluator('''10 - 2 = 8 (left: 8 9 12)\\n12 - 9 = 3 (left: 3 8)\\n3 + 8 = 11 (left: 11)''', '''0_2_3_0''')\n",
        "\n",
        "Observation:\n",
        "\"\"\""
      ],
      "metadata": {
        "id": "7AOnTNd1XmhP"
      },
      "execution_count": null,
      "outputs": []
    },
    {
      "cell_type": "code",
      "source": [
        "user_msg11___ = \"\"\"0.003\"\"\""
      ],
      "metadata": {
        "id": "pBZOe1ZBXo-X"
      },
      "execution_count": null,
      "outputs": []
    },
    {
      "cell_type": "code",
      "source": [
        "messages.append({'role': \"assistant\", 'content': assistant_msg11___})\n",
        "messages.append({'role': \"user\", 'content': user_msg11___})"
      ],
      "metadata": {
        "id": "ByufefeoXq7l"
      },
      "execution_count": null,
      "outputs": []
    },
    {
      "cell_type": "code",
      "source": [
        "assistant_msg12___ = \"\"\"\n",
        "\n",
        "Heuristic value of current child: 0.003\n",
        "\n",
        "0.003 < 3.0\n",
        "\n",
        "Heuristic value fails to satisfy the minimum required threshold of 3.0. Moving on to the next child.\n",
        "---\n",
        "Reminder:-\n",
        "Current level: 2\n",
        "Index of current node: 0_2_3\n",
        "State of current node:\n",
        "10 - 2 = 8 (left: 8 9 12)\n",
        "12 - 9 = 3 (left: 3 8)\n",
        "\n",
        "Index of current child: 0_2_3_1\n",
        "State of current child:\n",
        "10 - 2 = 8 (left: 8 9 12)\n",
        "12 - 9 = 3 (left: 3 8)\n",
        "8 - 3 = 5 (left: 5)\n",
        "\n",
        "Using the state evaluator tool to obtain heuristic value...\n",
        "\n",
        "Action: state_evaluator('''10 - 2 = 8 (left: 8 9 12)\\n12 - 9 = 3 (left: 3 8)\\n8 - 3 = 5 (left: 5)''', '''0_2_3_1''')\n",
        "\n",
        "Observation:\n",
        "\"\"\""
      ],
      "metadata": {
        "id": "-LHZ5hPcXs3I"
      },
      "execution_count": null,
      "outputs": []
    },
    {
      "cell_type": "code",
      "source": [
        "user_msg12___ = \"\"\"0.003\"\"\""
      ],
      "metadata": {
        "id": "dv8oJ6YhXvl0"
      },
      "execution_count": null,
      "outputs": []
    },
    {
      "cell_type": "code",
      "source": [
        "messages.append({'role': \"assistant\", 'content': assistant_msg12___})\n",
        "messages.append({'role': \"user\", 'content': user_msg12___})"
      ],
      "metadata": {
        "id": "2A7M6GXnXyAK"
      },
      "execution_count": null,
      "outputs": []
    },
    {
      "cell_type": "code",
      "source": [
        "assistant_msg13___ = \"\"\"\n",
        "\n",
        "Heuristic value of current child: 0.003\n",
        "\n",
        "0.003 < 3.0\n",
        "\n",
        "Heuristic value fails to satisfy the minimum required threshold of 3.0. Moving on to the next child.\n",
        "---\n",
        "Reminder:-\n",
        "Current level: 2\n",
        "Index of current node: 0_2_3\n",
        "State of current node:\n",
        "10 - 2 = 8 (left: 8 9 12)\n",
        "12 - 9 = 3 (left: 3 8)\n",
        "\n",
        "Index of current child: 0_2_3_2\n",
        "State of current child:\n",
        "10 - 2 = 8 (left: 8 9 12)\n",
        "12 - 9 = 3 (left: 3 8)\n",
        "3 * 8 = 24 (left: 24)\n",
        "\n",
        "Using the state evaluator tool to obtain heuristic value...\n",
        "\n",
        "Action: state_evaluator('''10 - 2 = 8 (left: 8 9 12)\\n12 - 9 = 3 (left: 3 8)\\n3 * 8 = 24 (left: 24)''', '''0_2_3_2''')\n",
        "\n",
        "Observation:\n",
        "\"\"\""
      ],
      "metadata": {
        "id": "sWJL3lNTX0mI"
      },
      "execution_count": null,
      "outputs": []
    },
    {
      "cell_type": "code",
      "source": [
        "user_msg13___ = \"\"\"60.0\"\"\""
      ],
      "metadata": {
        "id": "diaUT_vVX3CX"
      },
      "execution_count": null,
      "outputs": []
    },
    {
      "cell_type": "code",
      "source": [
        "messages.append({'role': \"assistant\", 'content': assistant_msg13___})\n",
        "messages.append({'role': \"user\", 'content': user_msg13___})"
      ],
      "metadata": {
        "id": "dxb6lHOMX5VT"
      },
      "execution_count": null,
      "outputs": []
    },
    {
      "cell_type": "code",
      "source": [
        "assistant_msg14___ = \"\"\"\n",
        "\n",
        "Heuristic value of current child: 60.0\n",
        "\n",
        "60.0 >= 3.0\n",
        "\n",
        "Heuristic value satisfies the minimum required threshold of 3.0.\n",
        "\n",
        "Checking whether the current level is greater than or equal to the level limit...\n",
        "\n",
        "Current level: 2\n",
        "\n",
        "Level limit: 3\n",
        "\n",
        "2 < 3\n",
        "\n",
        "No it isn't. The search isn't over yet. Searching subtree.\n",
        "---\n",
        "~~~\n",
        "Current level: 3\n",
        "Index of current node: 0_2_3_2\n",
        "State of current node:\n",
        "10 - 2 = 8 (left: 8 9 12)\n",
        "12 - 9 = 3 (left: 3 8)\n",
        "3 * 8 = 24 (left: 24)\n",
        "\n",
        "Using the thought generator tool to obtain thought candidates...\n",
        "\n",
        "Action: thought_generator('''10 - 2 = 8 (left: 8 9 12)\\n12 - 9 = 3 (left: 3 8)\\n3 * 8 = 24 (left: 24)''', '''0_2_3_2''')\n",
        "\n",
        "Observation:\n",
        "\"\"\""
      ],
      "metadata": {
        "id": "DR1k8uMuX7Ps"
      },
      "execution_count": null,
      "outputs": []
    },
    {
      "cell_type": "code",
      "source": [
        "user_msg14___ = \"\"\"Answer: (10 - 2) * (12 - 9) = 24\"\"\""
      ],
      "metadata": {
        "id": "mBK3NZuvX9vI"
      },
      "execution_count": null,
      "outputs": []
    },
    {
      "cell_type": "code",
      "source": [
        "messages.append({'role': \"assistant\", 'content': assistant_msg14___})\n",
        "messages.append({'role': \"user\", 'content': user_msg14___})"
      ],
      "metadata": {
        "id": "XHDRcDuYYAEi"
      },
      "execution_count": null,
      "outputs": []
    },
    {
      "cell_type": "code",
      "source": [
        "assistant_msg15___ = \"\"\"\n",
        "\n",
        "Each of the above thought candidates has been added as a child node of the current node:\n",
        "\n",
        "Node 0_2_3_2_0: Answer: (10 - 2) * (12 - 9) = 24\n",
        "\n",
        "Looping through the child nodes one at a time...\n",
        "---\n",
        "Reminder:-\n",
        "Current level: 3\n",
        "Index of current node: 0_2_3_2\n",
        "State of current node:\n",
        "10 - 2 = 8 (left: 8 9 12)\n",
        "12 - 9 = 3 (left: 3 8)\n",
        "3 * 8 = 24 (left: 24)\n",
        "\n",
        "Index of current child: 0_2_3_2_0\n",
        "State of current child:\n",
        "10 - 2 = 8 (left: 8 9 12)\n",
        "12 - 9 = 3 (left: 3 8)\n",
        "3 * 8 = 24 (left: 24)\n",
        "Answer: (10 - 2) * (12 - 9) = 24\n",
        "\n",
        "Using the state evaluator tool to obtain heuristic value...\n",
        "\n",
        "Action: state_evaluator('''10 - 2 = 8 (left: 8 9 12)\\n12 - 9 = 3 (left: 3 8)\\n3 * 8 = 24 (left: 24)\\nAnswer: (10 - 2) * (12 - 9) = 24''', '''0_2_3_2_0''')\n",
        "\n",
        "Observation:\n",
        "\"\"\""
      ],
      "metadata": {
        "id": "ErlAONMgYCQ0"
      },
      "execution_count": null,
      "outputs": []
    },
    {
      "cell_type": "code",
      "source": [
        "user_msg15___ = \"\"\"40.001\"\"\""
      ],
      "metadata": {
        "id": "2Mal4hgcYE8B"
      },
      "execution_count": null,
      "outputs": []
    },
    {
      "cell_type": "code",
      "source": [
        "messages.append({'role': \"assistant\", 'content': assistant_msg15___})\n",
        "messages.append({'role': \"user\", 'content': user_msg15___})"
      ],
      "metadata": {
        "id": "265HypCKYG3Q"
      },
      "execution_count": null,
      "outputs": []
    },
    {
      "cell_type": "code",
      "source": [
        "assistant_msg16___ = \"\"\"\n",
        "\n",
        "Heuristic value of current child: 40.001\n",
        "\n",
        "40.001 >= 3.0\n",
        "\n",
        "Heuristic value satisfies the minimum required threshold of 3.0.\n",
        "\n",
        "Checking whether the current level is greater than or equal to the level limit...\n",
        "\n",
        "Current level: 3\n",
        "\n",
        "Level limit: 3\n",
        "\n",
        "3 >= 3\n",
        "\n",
        "Yes it is. The search is over. Printing the state of the current child as the final solution...\n",
        "\n",
        "Final solution:-\n",
        "10 - 2 = 8 (left: 8 9 12)\n",
        "12 - 9 = 3 (left: 3 8)\n",
        "3 * 8 = 24 (left: 24)\n",
        "Answer: (10 - 2) * (12 - 9) = 24\n",
        "\n",
        "Reminder:-\n",
        "Current level: 3\n",
        "Index of current node: 0_2_3_2\n",
        "\n",
        "Backtracking with flag 'TRUE'.\n",
        "Action: backtracking('''True''', '''0_2_3_2''', '''0_2_3''')\n",
        "\n",
        "Observation:\n",
        "\"\"\""
      ],
      "metadata": {
        "id": "j4YCE1cUYJLD"
      },
      "execution_count": null,
      "outputs": []
    },
    {
      "cell_type": "code",
      "source": [
        "user_msg16___ = \"\"\"Ok.\"\"\""
      ],
      "metadata": {
        "id": "73zh0LkwIMfC"
      },
      "execution_count": null,
      "outputs": []
    },
    {
      "cell_type": "code",
      "source": [
        "messages.append({'role': \"assistant\", 'content': assistant_msg16___})\n",
        "messages.append({'role': \"user\", 'content': user_msg16___})"
      ],
      "metadata": {
        "id": "p9qhMGmhI5ll"
      },
      "execution_count": null,
      "outputs": []
    },
    {
      "cell_type": "code",
      "source": [
        "assistant_msg17___ = \"\"\"\n",
        "---\n",
        "~~~\n",
        "We're back at node: 0_2_3\n",
        "\n",
        "Flag received: 'TRUE'\n",
        "\n",
        "That is, searching the subtree starting at child node 0_2_3_2 was successful!\n",
        "\n",
        "Reminder:-\n",
        "Current level: 2\n",
        "Index of current node: 0_2_3\n",
        "\n",
        "Backtracking with flag 'TRUE'.\n",
        "Action: backtracking('''True''', '''0_2_3''', '''0_2''')\n",
        "\n",
        "Observation:\n",
        "\"\"\""
      ],
      "metadata": {
        "id": "I31nxmDFIMia"
      },
      "execution_count": null,
      "outputs": []
    },
    {
      "cell_type": "code",
      "source": [
        "user_msg17___ = \"\"\"Ok.\"\"\""
      ],
      "metadata": {
        "id": "JTjhHw03IYEq"
      },
      "execution_count": null,
      "outputs": []
    },
    {
      "cell_type": "code",
      "source": [
        "messages.append({'role': \"assistant\", 'content': assistant_msg17___})\n",
        "messages.append({'role': \"user\", 'content': user_msg17___})"
      ],
      "metadata": {
        "id": "Hy7KI-isI_bf"
      },
      "execution_count": null,
      "outputs": []
    },
    {
      "cell_type": "code",
      "source": [
        "assistant_msg18___ = \"\"\"\n",
        "---\n",
        "~~~\n",
        "We're back at node: 0_2\n",
        "\n",
        "Flag received: 'TRUE'\n",
        "\n",
        "That is, searching the subtree starting at child node 0_2_3 was successful!\n",
        "\n",
        "Reminder:-\n",
        "Current level: 1\n",
        "Index of current node: 0_2\n",
        "\n",
        "Backtracking with flag 'TRUE'.\n",
        "Action: backtracking('''True''', '''0_2''', '''0''')\n",
        "\n",
        "Observation:\n",
        "\"\"\""
      ],
      "metadata": {
        "id": "goRkJnvvIYIP"
      },
      "execution_count": null,
      "outputs": []
    },
    {
      "cell_type": "code",
      "source": [
        "user_msg18___ = \"\"\"Ok.\"\"\""
      ],
      "metadata": {
        "id": "8tTSoDkcIMmA"
      },
      "execution_count": null,
      "outputs": []
    },
    {
      "cell_type": "code",
      "source": [
        "messages.append({'role': \"assistant\", 'content': assistant_msg18___})\n",
        "messages.append({'role': \"user\", 'content': user_msg18___})"
      ],
      "metadata": {
        "id": "C4Ye_M_VJB8t"
      },
      "execution_count": null,
      "outputs": []
    },
    {
      "cell_type": "code",
      "source": [
        "assistant_msg19___ = \"\"\"\n",
        "---\n",
        "~~~\n",
        "We're back at node: 0\n",
        "\n",
        "Flag received: 'TRUE'\n",
        "\n",
        "That is, searching the subtree starting at child node 0_2 was successful!\n",
        "\n",
        "Reminder:-\n",
        "Current level: 0\n",
        "Index of current node: 0\n",
        "\n",
        "Backtracking with flag 'TRUE'.\n",
        "Action: backtracking('''True''', '''0''', '''None''')\n",
        "\n",
        "Observation:\n",
        "\"\"\""
      ],
      "metadata": {
        "id": "RPyXK4E6Ik3b"
      },
      "execution_count": null,
      "outputs": []
    },
    {
      "cell_type": "code",
      "source": [
        "user_msg19___ = \"\"\"Ok.\"\"\""
      ],
      "metadata": {
        "id": "p1m6nco2Ik6z"
      },
      "execution_count": null,
      "outputs": []
    },
    {
      "cell_type": "code",
      "source": [
        "messages.append({'role': \"assistant\", 'content': assistant_msg19___})\n",
        "messages.append({'role': \"user\", 'content': user_msg19___})"
      ],
      "metadata": {
        "id": "PP-prv6wJJrR"
      },
      "execution_count": null,
      "outputs": []
    },
    {
      "cell_type": "code",
      "source": [
        "assistant_msg20___ = \"\"\"\n",
        "---\n",
        "~~~\n",
        "We're now outside the tree.\n",
        "\n",
        "Flag received: 'TRUE'\"\"\""
      ],
      "metadata": {
        "id": "AfmjHuPYIk-R"
      },
      "execution_count": null,
      "outputs": []
    },
    {
      "cell_type": "code",
      "source": [
        "messages.append({'role': \"assistant\", 'content': assistant_msg20___})"
      ],
      "metadata": {
        "id": "Sy66b-JkYMks"
      },
      "execution_count": null,
      "outputs": []
    },
    {
      "cell_type": "markdown",
      "source": [
        "### React Class with Evaluation"
      ],
      "metadata": {
        "id": "2e_XPoBwn4gK"
      }
    },
    {
      "cell_type": "code",
      "source": [
        "from collections import OrderedDict\n",
        "import re\n",
        "from typing import Optional, Callable, List, Dict, Any\n",
        "from openai import OpenAI\n",
        "from typing import Dict, Any\n",
        "from enum import Enum\n",
        "\n",
        "\n",
        "\n",
        "class ValidationResult(Enum):\n",
        "    PASS = \"PASS\"\n",
        "    FAIL = \"FAIL\"\n",
        "\n",
        "class FewShotTreeSearchStackReAct:\n",
        "    level_limit = 3\n",
        "    hurestic_threshold = 3.0\n",
        "    level_limit_triggered = True # Is this logic correct of keeping a flag to check if level limit is triggered?\n",
        "\n",
        "    def __init__(\n",
        "            self,\n",
        "            client: OpenAI,\n",
        "            model: str,\n",
        "            messages: List[dict],\n",
        "            input_seq: str,\n",
        "            get_thought_gen_prompt: Callable,\n",
        "            get_state_eval_prompt: Callable,\n",
        "            heuristic_calculator: Callable,\n",
        "            n_evals: int = 3,\n",
        "            input_seq_id: str = None,\n",
        "            run_name: str = None\n",
        "    ):\n",
        "        self.client = client\n",
        "        self.model = model\n",
        "        self.messages = messages\n",
        "        self.input_seq = input_seq\n",
        "        self.messages.append({'role': \"user\", 'content': input_seq})\n",
        "        self.get_thought_gen_prompt = get_thought_gen_prompt\n",
        "        self.get_state_eval_prompt = get_state_eval_prompt\n",
        "        self.heuristic_calculator = heuristic_calculator\n",
        "        self.n_evals = n_evals\n",
        "        self.trace_tree: Dict[str, Any] = {}\n",
        "\n",
        "        # Stack and validation log for evaluation\n",
        "        self.stack: List[str] = []\n",
        "        self.validation_log: List[Dict[str, Any]] = []\n",
        "        self.validation_report = []\n",
        "        self.last_popped_node: Optional[str] = None # Track last popped node for sequential validation\n",
        "        self.true_backtrack_mode = False # Track if we're in cascading True backtrack mode\n",
        "        self.input_seq_id = input_seq_id\n",
        "        self.run_name = run_name\n",
        "\n",
        "    def chat_completion(\n",
        "            self,\n",
        "            messages: List[dict],\n",
        "            model: str,\n",
        "            temperature: float = 0.2,\n",
        "            max_tokens: int = 4096,\n",
        "            n: int = 1,\n",
        "            stop: str = \"\\nObservation:\",\n",
        "            **kwargs\n",
        "    ) -> str:\n",
        "        response = self.client.chat.completions.create(\n",
        "            messages=messages,\n",
        "            model=model,\n",
        "            temperature=temperature,\n",
        "            max_tokens=max_tokens,\n",
        "            n=n,\n",
        "            stop=stop,\n",
        "            **kwargs\n",
        "        )\n",
        "        return response.choices[0].message.content\n",
        "\n",
        "    def thought_generator(self, state: str, node_id: str) -> str:\n",
        "        prompt = self.get_thought_gen_prompt(self.input_seq, state)\n",
        "        responses = self.chat_completion(\n",
        "            [{'role': \"user\", 'content': prompt}],\n",
        "            model=\"gpt-4\",\n",
        "            temperature=0.7,\n",
        "            max_tokens=1000,\n",
        "            n=1,\n",
        "            stop=None\n",
        "        )\n",
        "        thoughts = responses  # newline-separated\n",
        "\n",
        "        # record in trace_tree\n",
        "        parts = node_id.split(\"_\")\n",
        "        tree_ptr = self.trace_tree\n",
        "        current_path = []\n",
        "        for part in parts:\n",
        "            current_path.append(part)\n",
        "            key = \"_\".join(current_path)\n",
        "            tree_ptr.setdefault(\"children\", OrderedDict())\n",
        "            tree_ptr[\"children\"].setdefault(key, {\n",
        "                \"state\": None,\n",
        "                \"thought\": None,\n",
        "                \"value\": None,\n",
        "                \"opening_remark\": None,\n",
        "                \"children\": OrderedDict(),\n",
        "                \"closing_remark\": None,\n",
        "                \"backtracked\": False\n",
        "            })\n",
        "            tree_ptr = tree_ptr[\"children\"][key]\n",
        "\n",
        "        tree_ptr[\"thought\"] = thoughts\n",
        "\n",
        "        # push to stack when node_id is 0\n",
        "        if node_id == '0':\n",
        "            self.stack.append(node_id)\n",
        "            self._validate_push(state, node_id, 1.0)\n",
        "\n",
        "        if node_id != \"0\":\n",
        "            # Validation: Check Node State\n",
        "            self.check_node_state(node_id, state)\n",
        "\n",
        "        return thoughts\n",
        "\n",
        "    def state_evaluator(self, state: str, node_id: str) -> float:\n",
        "        prompt = self.get_state_eval_prompt(self.input_seq, state)\n",
        "        state_evals = []\n",
        "        for _ in range(self.n_evals):\n",
        "            state_eval = self.chat_completion(\n",
        "                [{'role': \"user\", 'content': prompt}],\n",
        "                model=\"gpt-4\",\n",
        "                temperature=0.7,\n",
        "                max_tokens=1000,\n",
        "                n=1,\n",
        "                stop=None\n",
        "            )\n",
        "            state_evals.append(state_eval)\n",
        "        value = self.heuristic_calculator(state, state_evals)\n",
        "\n",
        "        # update trace_tree\n",
        "        parts = node_id.split(\"_\")\n",
        "        tree_ptr = self.trace_tree\n",
        "        current_path = []\n",
        "        for idx, part in enumerate(parts):\n",
        "            current_path.append(part)\n",
        "            key = \"_\".join(current_path)\n",
        "            tree_ptr.setdefault(\"children\", OrderedDict())\n",
        "            if key not in tree_ptr[\"children\"]:\n",
        "                tree_ptr[\"children\"][key] = {\n",
        "                    \"state\": None,\n",
        "                    \"thought\": None,\n",
        "                    \"value\": None,\n",
        "                    \"opening_remark\": None,\n",
        "                    \"children\": OrderedDict(),\n",
        "                    \"closing_remark\": None,\n",
        "                    \"backtracked\": False\n",
        "                }\n",
        "            tree_ptr = tree_ptr[\"children\"][key]\n",
        "\n",
        "        tree_ptr.update({\n",
        "            \"state\": state,\n",
        "            \"value\": value,\n",
        "            \"opening_remark\": (\n",
        "                \"Value exceeds heuristic threshold, childs will be traversed.\" if value >= self.hurestic_threshold else\n",
        "                \"Value does not exceed heuristic threshold, childs will not be traversed.\"\n",
        "            ),\n",
        "            \"closing_remark\": None\n",
        "        })\n",
        "\n",
        "        print(f\"✅ Trace updated for node {node_id} — value: {value}\")\n",
        "\n",
        "        # PUSH to Evaluation stack if the value is more than the hurestic threshold and the length of stack is not exceeding the level limit 4<= 3\n",
        "        if (value >= self.hurestic_threshold) and (len(self.stack) <= self.level_limit) :\n",
        "            self.stack.append(node_id)\n",
        "            self._validate_push(state, node_id, value)\n",
        "\n",
        "        # Validation 4: Check sequential sibling validation after backtracking\n",
        "        if self.last_popped_node:\n",
        "            self.check_sequential_sibling(node_id, state)\n",
        "\n",
        "        # Validation 9: Check correctness of the the decision to prune a child\n",
        "        self.check_correctness_of_pruning_recursive_call(node_id, value)\n",
        "\n",
        "        # Validation 3: Check if the node id assigned to the state matches the position in the thought generated.\n",
        "        self.check_node_id_assignment(node_id, state)\n",
        "\n",
        "        return value\n",
        "\n",
        "    def _validate_push(self, state: str, node_id: str, value: float):\n",
        "        # Validation after push\n",
        "        issues = []\n",
        "        log = []\n",
        "\n",
        "        if node_id == '0':\n",
        "            pass\n",
        "\n",
        "        else:\n",
        "\n",
        "            # Validation 1.1: Checking if Pushing or Recursive call is performed if value less than hurestic by checking in the stack\n",
        "            if value >= self.hurestic_threshold:\n",
        "                if node_id in self.stack:\n",
        "                    log.append(f\"✅ Recursive call happened correctly: node {node_id} with value {value} more than or equal to {self.hurestic_threshold} should be traversed.\")\n",
        "                    self._create_validation_entry(\n",
        "                        \"recursive_call_check\", node_id, ValidationResult.PASS,\n",
        "                        f\"Value {value} more than or equal to threshold {self.hurestic_threshold}\",\n",
        "                        {\"value\": value, \"threshold\": self.hurestic_threshold}\n",
        "                    )\n",
        "                else:\n",
        "                    issues.append(f\"Recursive call Error: Node {node_id} with value {value} more than or equal {self.hurestic_threshold} not be traversed.\")\n",
        "                    self._create_validation_entry(\n",
        "                        \"recursive_call_check\", node_id, ValidationResult.FAIL,\n",
        "                        f\"Value {value} more than or equal to threshold {self.hurestic_threshold} but node id not traversed\",\n",
        "                        {\"value\": value, \"threshold\": self.hurestic_threshold}\n",
        "                    )\n",
        "\n",
        "            # Validation 2: Check if the state that is selected is part of the thought\n",
        "            # Last operation should be in parent's thoughts, previous operations should match parent's state\n",
        "            parent_id = \"_\".join(node_id.split(\"_\")[:-1]) or node_id\n",
        "            parent_node = self._get_node(parent_id)\n",
        "            parent_thoughts = [line.strip() for line in parent_node.get(\"thought\", \"\").splitlines()]\n",
        "            parent_state = None # Handles the case in which for node 0_5 when we check that parent_state of 0 it is None\n",
        "            current_state_lines = [line.strip() for line in state.splitlines()]\n",
        "\n",
        "            validation_errors = []\n",
        "            validation_success = []\n",
        "\n",
        "            if current_state_lines:\n",
        "                # Check the last thought against parent's thoughts\n",
        "                last_thought = current_state_lines[-1].strip()\n",
        "                if last_thought not in parent_thoughts:\n",
        "                    validation_errors.append(f\"Last thought '{last_thought}' not found in parent's thoughts\")\n",
        "                else:\n",
        "                    validation_success.append(f\"Last thought '{last_thought}' found in parent's thoughts\")\n",
        "\n",
        "                # Check previous thought against parent's state\n",
        "                if len(current_state_lines) > 1:\n",
        "                    parent_state = [line.strip() for line in parent_node.get(\"state\", \"\").splitlines()]\n",
        "                    previous_thought = [line.strip() for line in current_state_lines[:-1]]\n",
        "                    for prev_op in previous_thought:\n",
        "                        if prev_op and prev_op not in parent_state:\n",
        "                            validation_errors.append(f\"Previous thought '{prev_op}' not found in parent's state\")\n",
        "                        elif prev_op:\n",
        "                            validation_success.append(f\"Previous thought '{prev_op}' found in parent's state\")\n",
        "\n",
        "            if validation_errors:\n",
        "                issues.append(f\"State validation error: {'; '.join(validation_errors)}\")\n",
        "                self._create_validation_entry(\n",
        "                    \"child_state_check\", node_id, ValidationResult.FAIL,\n",
        "                    f\"State validation failed: {'; '.join(validation_errors)}\",\n",
        "                    {\"validation_errors\": validation_errors, \"parent_thoughts\": parent_thoughts, \"parent_state\": parent_state, \"current_state\": current_state_lines}\n",
        "                )\n",
        "            else:\n",
        "                log.append(f\"✅ State validation passed: {'; '.join(validation_success)}\")\n",
        "                self._create_validation_entry(\n",
        "                    \"child_state_check\", node_id, ValidationResult.PASS,\n",
        "                    f\"State validation passed: {'; '.join(validation_success)}\",\n",
        "                    {\"validation_success\": validation_success, \"parent_thoughts\": parent_thoughts, \"parent_state\": parent_state}\n",
        "                )\n",
        "\n",
        "        # if issues:\n",
        "        self.validation_log.append({\"event\": \"push\", \"node_id\": node_id, \"issues\": issues, \"log\": log})\n",
        "\n",
        "    def backtracking(self, flag: str, node_id: str, backtrack_to_id: Optional[str]):\n",
        "        # record pop event\n",
        "        if self.stack:\n",
        "            popped = self.stack.pop()\n",
        "            self.last_popped_node = popped # Track the last popped node for sequential validation\n",
        "\n",
        "            # Handle True backtrack mode logic\n",
        "            if flag.upper() == \"TRUE\":\n",
        "                self.true_backtrack_mode = True\n",
        "\n",
        "            self._validate_pop(flag, popped, node_id, backtrack_to_id)\n",
        "\n",
        "        # existing backtracking logic\n",
        "        tree_ptr = self.trace_tree\n",
        "        if node_id != \"0\":\n",
        "            parts = node_id.split(\"_\")\n",
        "            # Navigate to the root child first\n",
        "            if '0' in tree_ptr.get('children', {}):\n",
        "                tree_ptr = tree_ptr['children']['0']\n",
        "            # Build cumulative path for navigation\n",
        "            current_path = parts[0]  # Start with \"0\"\n",
        "            for part in parts[1:]:\n",
        "                current_path += f\"_{part}\"  # Build cumulative path: \"0_0\", \"0_0_1\", \"0_0_1_3\"\n",
        "                if current_path in tree_ptr.get('children', {}):\n",
        "                    tree_ptr = tree_ptr['children'][current_path]\n",
        "\n",
        "        tree_ptr[\"backtracked\"] = (flag.upper() == \"TRUE\")\n",
        "        tree_ptr[\"backtracked_to\"] = backtrack_to_id.strip() if backtrack_to_id else None\n",
        "\n",
        "        print(f\"✅ Successfully marked node {node_id} as backtracked with flag {flag}\")\n",
        "        return \"Ok.\"\n",
        "\n",
        "    def _validate_pop(self, flag:str, popped_id: str, backtracked_id: str, backtrack_to_id: str):\n",
        "\n",
        "        issues = []\n",
        "        log = []\n",
        "\n",
        "        popped_node = self._get_node(popped_id)\n",
        "        all_thoughts = popped_node.get(\"thought\", \"\").splitlines()\n",
        "        explored_children = popped_node.get(\"children\", {})\n",
        "        evaluated = [child for child in explored_children.values() if child[\"state\"]]\n",
        "\n",
        "        # Combined Validation 4 & 4.1: Check both popped node and backtrack parent\n",
        "        pop_validation_passed = True\n",
        "        validation_messages = []\n",
        "        validation_errors = []\n",
        "\n",
        "        # Check if correct node is popped\n",
        "        if popped_id.strip() != backtracked_id.strip():\n",
        "            pop_validation_passed = False\n",
        "            error_msg = f\"Expected to pop {backtracked_id}, but popped {popped_id}\"\n",
        "            validation_errors.append(error_msg)\n",
        "            issues.append(f\"Pop error: {error_msg}.\")\n",
        "        else:\n",
        "            success_msg = f\"Correctly popped expected node {popped_id}\"\n",
        "            validation_messages.append(success_msg)\n",
        "            log.append(f\"✅ Popped {popped_id} successfully.\")\n",
        "\n",
        "        # Check if backtrack parent is correct\n",
        "        popped_parts = popped_id.split(\"_\")\n",
        "        if len(popped_parts) > 1:\n",
        "            expected_parent = \"_\".join(popped_parts[:-1])\n",
        "        else:\n",
        "            expected_parent = \"None\"  # Root node's parent concept\n",
        "\n",
        "        if backtrack_to_id.strip() != expected_parent.strip():\n",
        "            pop_validation_passed = False\n",
        "            error_msg = f\"Expected to backtrack to '{expected_parent}', but got '{backtrack_to_id}'\"\n",
        "            validation_errors.append(error_msg)\n",
        "            issues.append(f\"Backtrack parent error: {error_msg}.\")\n",
        "        else:\n",
        "            success_msg = f\"Correctly backtracking to parent '{backtrack_to_id}'\"\n",
        "            validation_messages.append(success_msg)\n",
        "            log.append(f\"✅ Backtrack parent validation passed: correctly backtracking to '{backtrack_to_id}'.\")\n",
        "\n",
        "        # Create single validation entry based on combined result\n",
        "        if pop_validation_passed:\n",
        "            combined_message = \"; \".join(validation_messages)\n",
        "            log.append(f\"✅ Complete backtracking validation passed: {combined_message}\")\n",
        "            self._create_validation_entry(\n",
        "                \"backtracking_III_check\", popped_id, ValidationResult.PASS,\n",
        "                f\"Complete backtracking validation passed: {combined_message}\",\n",
        "                {\n",
        "                    \"popped_node\": popped_id,\n",
        "                    \"expected_popped\": backtracked_id,\n",
        "                    \"backtrack_to\": backtrack_to_id,\n",
        "                    \"expected_parent\": expected_parent,\n",
        "                    \"validation_details\": validation_messages\n",
        "                }\n",
        "            )\n",
        "        else:\n",
        "            combined_errors = \"; \".join(validation_errors)\n",
        "            issues.append(f\"Complete backtracking validation failed: {combined_errors}\")\n",
        "            self._create_validation_entry(\n",
        "                \"backtracking_III_check\", popped_id, ValidationResult.FAIL,\n",
        "                f\"Complete backtracking validation failed: {combined_errors}\",\n",
        "                {\n",
        "                    \"popped_node\": popped_id,\n",
        "                    \"expected_popped\": backtracked_id,\n",
        "                    \"backtrack_to\": backtrack_to_id,\n",
        "                    \"expected_parent\": expected_parent,\n",
        "                    \"validation_errors\": validation_errors\n",
        "                }\n",
        "            )\n",
        "\n",
        "\n",
        "        # Determine if level limit was exceeded.\n",
        "        # len(self.stack) + 1 because we are checking after it is popped from the stack. 4 >= 4\n",
        "        # ['0', '0_0', '0_0_0', '0_0_0_2'] -> 5 True\n",
        "        # ['0', '0_0', '0_0_0'] -> 4 >= 4 True\n",
        "        # ['0', '0_0'] -> 3 >= 4 False\n",
        "        # Validation 5: Check if backtracking happens if level limit is reached or all children are traversed.\n",
        "        # It should only be called when level limits are reached.\n",
        "        if flag == \"True\":\n",
        "            if self.level_limit_triggered:\n",
        "                level_limit_exceeded = len(self.stack) >= self.level_limit\n",
        "                self.level_limit_triggered = False\n",
        "                if level_limit_exceeded:\n",
        "                    log.append(f\"✅ Level limit exceeded — valid reason for backtracking.\")\n",
        "                    self._create_validation_entry(\n",
        "                        \"backtracking_I_check\", popped_id, ValidationResult.PASS,\n",
        "                        f\"Level limit {self.level_limit} exceeded - valid backtrack\",\n",
        "                        {\"stack_size\": len(self.stack), \"level_limit\": self.level_limit}\n",
        "                    )\n",
        "\n",
        "                else:\n",
        "                    issues.append(f\"❌ Level limit not exceeded — invalid reason for backtracking.\")\n",
        "                    self._create_validation_entry(\n",
        "                        \"backtracking_I_check\", popped_id, ValidationResult.FAIL,\n",
        "                        f\"Level limit not exceeded but backtracking with True flag\",\n",
        "                        {\"stack_size\": len(self.stack), \"level_limit\": self.level_limit}\n",
        "                    )\n",
        "\n",
        "        if flag == 'False': # Which means the search was unsuccessful after search all the children\n",
        "            # Determine if all children of parent node were explored\n",
        "            all_children_explored = len(evaluated) == len(all_thoughts)\n",
        "            if all_children_explored:\n",
        "                log.append(f\"✅ All children of node {popped_id} were explored — valid reason for backtracking.\")\n",
        "                self._create_validation_entry(\n",
        "                    \"backtracking_II_check\", popped_id, ValidationResult.PASS,\n",
        "                    f\"All {len(all_thoughts)} children explored - valid backtrack\",\n",
        "                    {\"total_thoughts\": len(all_thoughts), \"evaluated_children\": len(evaluated)}\n",
        "                )\n",
        "            else:\n",
        "                issues.append(f\"❌ All children of node {popped_id} were not explored — invalid reason for backtracking.\")\n",
        "                self._create_validation_entry(\n",
        "                    \"backtracking_II_check\", popped_id, ValidationResult.FAIL,\n",
        "                    f\"Only {len(evaluated)} of {len(all_thoughts)} children explored\",\n",
        "                    {\"total_thoughts\": len(all_thoughts), \"evaluated_children\": len(evaluated)}\n",
        "                )\n",
        "\n",
        "        # Validation 6: Checking if once it is True the subsequent calls are True. It shouldn't be False\n",
        "        if self.true_backtrack_mode and flag.upper() == \"FALSE\":\n",
        "            issues.append(f\"❌ Subsequent backtrack error: once True backtrack mode is triggered, all subsequent backtracks should be True until stack is empty, but got False flag for {popped_id}.\")\n",
        "            self._create_validation_entry(\n",
        "                \"backtracking_flag_sequence_check\", popped_id, ValidationResult.FAIL,\n",
        "                \"False flag used while in True backtrack mode\",\n",
        "                {\"flag\": flag, \"true_backtrack_mode\": self.true_backtrack_mode}\n",
        "            )\n",
        "        elif self.true_backtrack_mode and flag.upper() == \"TRUE\":\n",
        "            log.append(f\"✅ Subsequent backtrack validation: correctly using True flag in Subsequent mode for {popped_id}.\")\n",
        "            self._create_validation_entry(\n",
        "                \"backtracking_flag_sequence_check\", popped_id, ValidationResult.PASS,\n",
        "                \"Correct True flag used in True backtrack mode\",\n",
        "                {\"flag\": flag, \"true_backtrack_mode\": self.true_backtrack_mode}\n",
        "            )\n",
        "\n",
        "        self.validation_log.append({\"event\": \"pop\", \"popped\": popped_id, \"expected\": backtracked_id, \"issues\": issues, \"log\": log})\n",
        "\n",
        "    def _get_node(self, node_id: str) -> Dict[str, Any]:\n",
        "        ptr = self.trace_tree\n",
        "        if not node_id:\n",
        "            return ptr\n",
        "        parts = node_id.split(\"_\")\n",
        "        current_id = parts[0]\n",
        "        ptr = ptr.get('children', {}).get(current_id, {})\n",
        "        for part in parts[1:]:\n",
        "            current_id += \"_\" + part\n",
        "            ptr = ptr.get('children', {}).get(current_id, {})\n",
        "        return ptr\n",
        "\n",
        "    def check_node_state(self, node_id: str, state: str):\n",
        "        try:\n",
        "            issues = []\n",
        "            log = []\n",
        "\n",
        "            node_state = self._get_node(node_id).get(\"state\", \"\")\n",
        "            if state.strip() != node_state.strip():\n",
        "                # State mismatch - log the validation error\n",
        "                issues.append(f\"State mismatch for node {node_id}: expected '{node_state}' but got '{state}'\")\n",
        "                self._create_validation_entry(\n",
        "                    \"node_state_check\", node_id, ValidationResult.FAIL,\n",
        "                    f\"State mismatch: expected vs actual state don't match\",\n",
        "                    {\"expected_state\": node_state, \"actual_state\": state}\n",
        "                )\n",
        "            else:\n",
        "                # State matches - log success\n",
        "                log.append(f\"✅ State consistency check passed for node {node_id}\")\n",
        "                self._create_validation_entry(\n",
        "                    \"node_state_check\", node_id, ValidationResult.PASS,\n",
        "                    f\"State consistency check passed\",\n",
        "                    {\"expected_state\": node_state, \"actual_state\": state}\n",
        "                )\n",
        "            self.validation_log.append({\"event\": \"push\", \"node_id\": node_id, \"issues\": issues, \"log\": log})\n",
        "\n",
        "        except Exception as e:\n",
        "            raise e\n",
        "\n",
        "    def check_node_id_assignment(self, node_id: str, state: str):\n",
        "\n",
        "        issues = []\n",
        "        log = []\n",
        "\n",
        "        parent_id = \"_\".join(node_id.split(\"_\")[:-1]) or node_id\n",
        "        thoughts = self._get_node(parent_id).get(\"thought\", \"\").splitlines()\n",
        "        state = state.splitlines()[-1]\n",
        "\n",
        "        # Validation 3: Check if the node id assigned to the state matches the position in the thought generated.\n",
        "        try:\n",
        "            index = int(node_id.split(\"_\")[-1])\n",
        "            # Normalize whitespace for comparison\n",
        "            thought_normalized = re.sub(r'\\s+', ' ', thoughts[index].strip())\n",
        "            state_normalized = re.sub(r'\\s+', ' ', state.strip())\n",
        "\n",
        "            if index >= len(thoughts) or thought_normalized != state_normalized:\n",
        "                issues.append(f\"Order error: node_id {node_id} does not match thought position.\")\n",
        "                self._create_validation_entry(\n",
        "                    \"node_id_assignment_check\", node_id, ValidationResult.FAIL,\n",
        "                    f\"node_id {node_id} does not match thought position.\",\n",
        "                    {\"node_id\": node_id, \"state\": state, \"thoughts\": thoughts}\n",
        "                )\n",
        "            else:\n",
        "                log.append(f\"✅ Node {node_id} matches thought position.\")\n",
        "                self._create_validation_entry(\n",
        "                    \"node_id_assignment_check\", node_id, ValidationResult.PASS,\n",
        "                    f\"node_id {node_id} matches thought position.\",\n",
        "                    {\"node_id\": node_id, \"state\": state, \"thoughts\": thoughts}\n",
        "                )\n",
        "        except Exception as e:\n",
        "            issues.append(f\"Node ID parse error for {node_id}.\")\n",
        "            self._create_validation_entry(\n",
        "                \"node_id_assignment_check\", node_id, ValidationResult.FAIL,\n",
        "                f\"Could not parse node ID {node_id} with error {e}\",\n",
        "                {\"node_id\": node_id, \"state\": state, \"thoughts\": thoughts}\n",
        "            )\n",
        "\n",
        "        # if issues:\n",
        "        self.validation_log.append({\"event\": \"push\", \"node_id\": node_id, \"issues\": issues, \"log\": log})\n",
        "\n",
        "    def check_correctness_of_pruning_recursive_call(self, node_id: str, value: str):\n",
        "        issues = []\n",
        "        log = []\n",
        "\n",
        "        # Validation 1: Checking if Pruning is performed if value less than hurestic by checking in the stack\n",
        "        if value < self.hurestic_threshold:\n",
        "            if node_id in self.stack:\n",
        "                issues.append(f\"Pruning error: node {node_id} with value {value} less than {self.hurestic_threshold} should be pruned.\")\n",
        "                self._create_validation_entry(\n",
        "                    \"pruning_check\", node_id, ValidationResult.FAIL,\n",
        "                    f\"Value {value} is below threshold {self.hurestic_threshold}\",\n",
        "                    {\"value\": value, \"threshold\": self.hurestic_threshold}\n",
        "                )\n",
        "            else:\n",
        "                log.append(f\"✅ Node {node_id} with value {value} less than {self.hurestic_threshold} pruned successfully.\")\n",
        "                self._create_validation_entry(\n",
        "                    \"pruning_check\", node_id, ValidationResult.PASS,\n",
        "                    f\"Value {value} meets threshold {self.hurestic_threshold}\",\n",
        "                    {\"value\": value, \"threshold\": self.hurestic_threshold}\n",
        "                )\n",
        "\n",
        "        self.validation_log.append({\"event\": \"push\", \"node_id\": node_id, \"issues\": issues, \"log\": log})\n",
        "\n",
        "    def check_sequential_sibling(self, node_id, state):\n",
        "        log = []\n",
        "        issues = []\n",
        "\n",
        "        # Validation 4: Check sequential sibling validation after backtracking\n",
        "        # This check should not happen for the last node in the thought candidate\n",
        "        # As no other candidate exists for it to check.\n",
        "\n",
        "        parent_id = \"_\".join(node_id.split(\"_\")[:-1]) or node_id\n",
        "        thoughts = [thought.strip() for thought in self._get_node(parent_id).get(\"thought\", \"\").splitlines()]\n",
        "        state = state.splitlines()[-1].strip()\n",
        "\n",
        "        # Check if state exists in thoughts\n",
        "        if state not in thoughts:\n",
        "            issues.append(f\"State '{state}' is not found in thoughts for node {node_id}\")\n",
        "            self._create_validation_entry(\n",
        "                \"backtracking_IV_check\", node_id, ValidationResult.FAIL,\n",
        "                f\"State not present within the thoughts: for {node_id} got '{state}'\",\n",
        "                {\"node_id\": node_id, \"state\": state, \"thoughts\": thoughts}\n",
        "            )\n",
        "            # Reset since we can't proceed with validation\n",
        "            self.last_popped_node = None\n",
        "            self.validation_log.append({\"event\": \"push\", \"node_id\": node_id, \"issues\": issues, \"log\": log})\n",
        "            return\n",
        "\n",
        "        state_index = thoughts.index(state)\n",
        "\n",
        "        # Skip validation if this is the last thought (no sequential sibling expected)\n",
        "        if state_index == len(thoughts) - 1:\n",
        "            log.append(f\"Sequential sibling validation skipped: {node_id} corresponds to the last thought\")\n",
        "            # Reset since no more validation needed\n",
        "            self.last_popped_node = None\n",
        "            self.validation_log.append({\"event\": \"push\", \"node_id\": node_id, \"issues\": issues, \"log\": log})\n",
        "            return\n",
        "\n",
        "        # Only proceed if we have a popped node to compare against\n",
        "        if not self.last_popped_node:\n",
        "            log.append(f\"Sequential sibling validation skipped: no previous popped node to compare against\")\n",
        "            self.validation_log.append({\"event\": \"push\", \"node_id\": node_id, \"issues\": issues, \"log\": log})\n",
        "            return\n",
        "\n",
        "        popped_node_id = self.last_popped_node\n",
        "\n",
        "        # Check if the popped node and current node are siblings (same parent)\n",
        "        popped_parts = popped_node_id.split(\"_\")\n",
        "        current_parts = node_id.split(\"_\")\n",
        "\n",
        "        # They are siblings if they have the same parent path and same depth\n",
        "        if len(popped_parts) != len(current_parts):\n",
        "            log.append(f\"Sequential sibling validation skipped: nodes have different depths ({popped_node_id} vs {node_id})\")\n",
        "            self.last_popped_node = None  # Reset for different depths\n",
        "            self.validation_log.append({\"event\": \"push\", \"node_id\": node_id, \"issues\": issues, \"log\": log})\n",
        "            return\n",
        "\n",
        "        popped_parent = \"_\".join(popped_parts[:-1]) if len(popped_parts) > 1 else \"\"\n",
        "        current_parent = \"_\".join(current_parts[:-1]) if len(current_parts) > 1 else \"\"\n",
        "\n",
        "        if popped_parent != current_parent:\n",
        "            log.append(f\"Sequential sibling validation skipped: nodes have different parents ({popped_parent} vs {current_parent})\")\n",
        "            self.last_popped_node = None  # Reset for different parents\n",
        "            self.validation_log.append({\"event\": \"push\", \"node_id\": node_id, \"issues\": issues, \"log\": log})\n",
        "            return\n",
        "\n",
        "        # They are siblings, check if current node is the next sequential sibling\n",
        "        try:\n",
        "            popped_index = int(popped_parts[-1])\n",
        "            current_index = int(current_parts[-1])\n",
        "            expected_index = popped_index + 1\n",
        "\n",
        "            if current_index == expected_index:\n",
        "                log.append(f\"✅ Sequential child node validation: pushing {node_id} after popping {popped_node_id} is correct.\")\n",
        "                self._create_validation_entry(\n",
        "                    \"backtracking_IV_check\", node_id, ValidationResult.PASS,\n",
        "                    f\"Correct sequential sibling: {node_id} follows {popped_node_id}\",\n",
        "                    {\"popped_node\": popped_node_id, \"current_node\": node_id, \"expected_index\": expected_index, \"actual_index\": current_index}\n",
        "                )\n",
        "            else:\n",
        "                issues.append(f\"Sequential child node error: after popping {popped_node_id}, expected to push {popped_parent}_{expected_index} but got {node_id}.\")\n",
        "                self._create_validation_entry(\n",
        "                    \"backtracking_IV_check\", node_id, ValidationResult.FAIL,\n",
        "                    f\"Incorrect sequential sibling: expected {popped_parent}_{expected_index}, got {node_id}\",\n",
        "                    {\"popped_node\": popped_node_id, \"expected\": f\"{popped_parent}_{expected_index}\", \"actual\": node_id}\n",
        "                )\n",
        "\n",
        "            # Always reset after attempting validation (whether pass or fail)\n",
        "            self.last_popped_node = None\n",
        "\n",
        "        except ValueError:\n",
        "            # If error during validation then skip and reset\n",
        "            log.append(f\"Sequential child node validation skipped: unable to parse indices for {popped_node_id} and {node_id}.\")\n",
        "            self.last_popped_node = None  # Reset on parsing error\n",
        "\n",
        "        self.validation_log.append({\"event\": \"push\", \"node_id\": node_id, \"issues\": issues, \"log\": log})\n",
        "\n",
        "    def validate_children_order(self, node_id: str) -> Dict[str, Any]:\n",
        "        \"\"\"\n",
        "        Validation 7: Check if the order of children in OrderedDict matches\n",
        "        the order they were created in the thought generation.\n",
        "        \"\"\"\n",
        "        issues = []\n",
        "        log = []\n",
        "\n",
        "        node = self._get_node(node_id)\n",
        "        if not node:\n",
        "            self._create_validation_entry(\n",
        "                \"looping_order\", node_id, ValidationResult.FAIL,\n",
        "                f\"Node {node_id} not found\",\n",
        "                {\"node_id\": node_id}\n",
        "            )\n",
        "            return {\"issues\": [f\"Node {node_id} not found\"], \"log\": []}\n",
        "\n",
        "        # Get the thought candidates (original order)\n",
        "        thought_content = node.get(\"thought\")\n",
        "        if thought_content is None or thought_content == \"\":\n",
        "            return {\"issues\": [], \"log\": [f\"No thoughts found for node {node_id}. Node might be pruned.\"]}\n",
        "\n",
        "        thoughts = thought_content.splitlines()\n",
        "        if not thoughts:\n",
        "            return {\"issues\": [], \"log\": [f\"No thoughts found for node {node_id} (empty after splitlines)\"]}\n",
        "\n",
        "        # Get the children from OrderedDict (actual traversal order)\n",
        "        children = node.get(\"children\", OrderedDict())\n",
        "\n",
        "        # Extract child indices from the children keys\n",
        "        child_indices = []\n",
        "        for child_key in children.keys():\n",
        "            try:\n",
        "                # Extract the last part of the node_id (the index)\n",
        "                parts = child_key.split(\"_\")\n",
        "                if len(parts) > len(node_id.split(\"_\")) if node_id != \"0\" else len(parts) > 1:\n",
        "                    child_index = int(parts[-1])\n",
        "                    child_indices.append(child_index)\n",
        "            except (ValueError, IndexError):\n",
        "                issues.append(f\"Could not parse child index from {child_key}\")\n",
        "                continue\n",
        "\n",
        "        # Check if children indices are in sequential order starting from 0\n",
        "        expected_indices = list(range(len(child_indices)))\n",
        "        if child_indices != expected_indices:\n",
        "            issues.append(f\"Children order mismatch for node {node_id}: expected indices {expected_indices}, got {child_indices}\")\n",
        "        else:\n",
        "            log.append(f\"✅ Children order validation passed for node {node_id}: indices {child_indices} are in correct sequential order\")\n",
        "\n",
        "        # Verify that explored children match their corresponding thoughts\n",
        "        for i, child_key in enumerate(children.keys()):\n",
        "            try:\n",
        "                parts = child_key.split(\"_\")\n",
        "                child_index = int(parts[-1])\n",
        "                child_node = children[child_key]\n",
        "                child_state = child_node.get(\"state\", \"\")\n",
        "\n",
        "                if child_state and child_index < len(thoughts):\n",
        "                    # Extract the last line of the state (the actual thought/action)\n",
        "                    state_line = child_state.strip().split('\\n')[-1] if child_state.strip() else \"\"\n",
        "                    expected_thought = thoughts[child_index].strip()\n",
        "\n",
        "                    if state_line != expected_thought:\n",
        "                        issues.append(f\"State-thought mismatch for child {child_key}: state='{state_line}', expected thought='{expected_thought}'\")\n",
        "                        self._create_validation_entry(\n",
        "                            \"looping_order\", child_key, ValidationResult.FAIL,\n",
        "                            f\"State doesn't match expected thought\",\n",
        "                            {\"state\": state_line, \"expected_thought\": expected_thought, \"child_index\": child_index}\n",
        "                        )\n",
        "                    else:\n",
        "                        log.append(f\"✅ State-thought match verified for child {child_key}\")\n",
        "                        self._create_validation_entry(\n",
        "                            \"looping_order\", child_key, ValidationResult.PASS,\n",
        "                            f\"State matches expected thought\",\n",
        "                            {\"state\": state_line, \"thought\": expected_thought}\n",
        "                        )\n",
        "\n",
        "            except (ValueError, IndexError) as e:\n",
        "                issues.append(f\"Error validating child {child_key}: {str(e)}\")\n",
        "                self._create_validation_entry(\n",
        "                    \"looping_order\", child_key, ValidationResult.FAIL,\n",
        "                    f\"Error during validation: {str(e)}\",\n",
        "                    {\"error\": str(e)}\n",
        "                )\n",
        "\n",
        "        return {\"issues\": issues, \"log\": log}\n",
        "\n",
        "    def validate_final_answer_correctness(self, final_answer: str, expected_answer: str = None) -> Dict[str, Any]:\n",
        "        \"\"\"\n",
        "        Validation 8: Check the correctness of the final answer.\n",
        "        Assumes final_answer is a pure math expression (e.g., \"(10 - 2) * (12 - 9)\").\n",
        "        \"\"\"\n",
        "        issues = []\n",
        "        log = []\n",
        "\n",
        "        if not final_answer or final_answer.strip() == \"\":\n",
        "            issues.append(\"Final answer is empty or None\")\n",
        "            return {\"issues\": issues, \"log\": log}\n",
        "\n",
        "        expression = final_answer.strip()\n",
        "        log.append(f\"🔍 Using final answer expression: {expression}\")\n",
        "\n",
        "        try:\n",
        "            result = eval(expression)\n",
        "            log.append(f\"🧮 Evaluated result: {result}\")\n",
        "        except Exception as e:\n",
        "            issues.append(f\"Failed to evaluate expression: {str(e)}\")\n",
        "            self._create_validation_entry(\n",
        "                \"final_answer_check\", \"final\", ValidationResult.FAIL,\n",
        "                f\"Error {e} while running expression {expression}\",\n",
        "                {\"result\": result, \"expected\": expected_val, \"difference\": abs(result - expected_val)}\n",
        "            )\n",
        "            return {\"issues\": issues, \"log\": log}\n",
        "\n",
        "        if expected_answer is not None:\n",
        "            try:\n",
        "                expected_val = float(expected_answer)\n",
        "                if abs(result - expected_val) < 1e-6:\n",
        "                    log.append(f\"✅ Result {result} matches expected answer {expected_val}\")\n",
        "                    self._create_validation_entry(\n",
        "                        \"final_answer_check\", \"final\", ValidationResult.PASS,\n",
        "                        f\"Result {result} matches expected answer {expected_val}\",\n",
        "                        {\"result\": result, \"expected\": expected_val, \"difference\": abs(result - expected_val)}\n",
        "                    )\n",
        "                else:\n",
        "                    issues.append(f\"❌ Result {result} does not match expected answer {expected_val}\")\n",
        "                    self._create_validation_entry(\n",
        "                        \"final_answer_check\", \"final\", ValidationResult.FAIL,\n",
        "                        f\"Result {result} does not match expected answer {expected_val}\",\n",
        "                        {\"result\": result, \"expected\": expected_val, \"difference\": abs(result - expected_val)}\n",
        "                    )\n",
        "            except ValueError:\n",
        "                issues.append(f\"Expected answer '{expected_answer}' is not a valid number\")\n",
        "                self._create_validation_entry(\n",
        "                        \"final_answer_check\", \"final\", ValidationResult.FAIL,\n",
        "                        f\"Expected answer '{expected_answer}' is not a valid number\",\n",
        "                        {\"expected_answer\": expected_answer}\n",
        "                    )\n",
        "\n",
        "        return {\"issues\": issues, \"log\": log}\n",
        "\n",
        "    def run_end_of_execution_validation(self, final_answer: str = None, expected_answer: str = None) -> Dict[str, Any]:\n",
        "        \"\"\"\n",
        "        Run all end-of-execution validations on the entire trace tree.\n",
        "        This should be called after react_loop completes.\n",
        "        \"\"\"\n",
        "        all_validations = {\n",
        "            \"children_order_validation\": {},\n",
        "            \"final_answer_validation\": {},\n",
        "            \"summary\": {\"total_issues\": 0, \"total_logs\": 0}\n",
        "        }\n",
        "\n",
        "        # Validation 7: Check children order for all nodes in the trace tree\n",
        "        def traverse_and_validate_order(node_dict, current_path):\n",
        "            # Validate current node's children order\n",
        "            validation_result = self.validate_children_order(current_path)\n",
        "            all_validations[\"children_order_validation\"][current_path] = validation_result\n",
        "\n",
        "            # Recursively validate children\n",
        "            children = node_dict.get(\"children\", {})\n",
        "            for child_key, child_node in children.items():\n",
        "                traverse_and_validate_order(child_node, child_key)\n",
        "\n",
        "        # Start traversal from the children of the root\n",
        "        if self.trace_tree and self.trace_tree.get(\"children\"):\n",
        "            root_children = self.trace_tree[\"children\"]  # This gives us OrderedDict([('0', {...})])\n",
        "\n",
        "            # Traverse each top-level child (like '0', '1', etc.)\n",
        "            for child_key, child_node in root_children.items():\n",
        "                traverse_and_validate_order(child_node, child_key)\n",
        "\n",
        "        # Validation 8: Final answer correctness\n",
        "        if final_answer is not None:\n",
        "            final_answer_validation = self.validate_final_answer_correctness(final_answer, expected_answer)\n",
        "            all_validations[\"final_answer_validation\"] = final_answer_validation\n",
        "\n",
        "        return all_validations\n",
        "\n",
        "    def _create_validation_entry(self, check_name: str, node_id: str, result: ValidationResult,\n",
        "                               reason: str, details: Dict[str, Any] = None, event_type: str = None):\n",
        "        \"\"\"Create a standardized validation entry for the report\"\"\"\n",
        "        entry = {\n",
        "            \"check_name\": check_name,\n",
        "            \"node_id\": node_id,\n",
        "            \"result\": result.value,\n",
        "            \"reason\": reason,\n",
        "            \"timestamp\": self._get_timestamp(),\n",
        "            \"event_type\": event_type or \"validation\",\n",
        "            \"details\": details or {}\n",
        "        }\n",
        "        self.validation_report.append(entry)\n",
        "        return entry\n",
        "\n",
        "    def _get_timestamp(self):\n",
        "        \"\"\"Get current timestamp (implement as needed)\"\"\"\n",
        "        import datetime\n",
        "        return datetime.datetime.now().isoformat()\n",
        "\n",
        "    def aggregate_validation_logs(self, validation_logs):\n",
        "        \"\"\"\n",
        "        Aggregates validation logs by event and node_id combination.\n",
        "        Combines issues and logs from multiple entries with same event+node_id into single entry.\n",
        "\n",
        "        Args:\n",
        "            validation_logs (list): List of validation log dictionaries\n",
        "\n",
        "        Returns:\n",
        "            list: Aggregated validation logs with unique event+node_id combinations\n",
        "        \"\"\"\n",
        "        aggregated = {}\n",
        "\n",
        "        for log_entry in validation_logs:\n",
        "            event = log_entry.get(\"event\", \"\")\n",
        "            node_id = log_entry.get(\"node_id\", \"\")\n",
        "            issues = log_entry.get(\"issues\", [])\n",
        "            logs = log_entry.get(\"log\", [])\n",
        "\n",
        "            # Create unique key from event and node_id\n",
        "            key = f\"{event}_{node_id}\"\n",
        "\n",
        "            if key not in aggregated:\n",
        "                # First occurrence - create new entry\n",
        "                aggregated[key] = {\n",
        "                    \"event\": event,\n",
        "                    \"node_id\": node_id,\n",
        "                    \"issues\": [],\n",
        "                    \"log\": []\n",
        "                }\n",
        "\n",
        "            # Aggregate issues and logs in sequence\n",
        "            aggregated[key][\"issues\"].extend(issues)\n",
        "            aggregated[key][\"log\"].extend(logs)\n",
        "\n",
        "        # Convert back to list while preserving order of first occurrence\n",
        "        result = []\n",
        "        seen_keys = set()\n",
        "\n",
        "        for log_entry in validation_logs:\n",
        "            event = log_entry.get(\"event\", \"\")\n",
        "            node_id = log_entry.get(\"node_id\", \"\")\n",
        "            key = f\"{event}_{node_id}\"\n",
        "\n",
        "            if key not in seen_keys:\n",
        "                result.append(aggregated[key])\n",
        "                seen_keys.add(key)\n",
        "\n",
        "        return result\n",
        "\n",
        "    def update_search_trace_validity(self, validation_summary):\n",
        "        \"\"\"\n",
        "        Updates the Valid Search Trace status based on validation results.\n",
        "        If any check type has FAIL count > 0, sets success_trace to False, otherwise True.\n",
        "\n",
        "        Args:\n",
        "            validation_summary (dict): The validation summary dictionary containing checks_by_type\n",
        "\n",
        "        Returns:\n",
        "            dict: Updated validation summary with Valid Search Trace status\n",
        "        \"\"\"\n",
        "\n",
        "        # Get the checks_by_type section\n",
        "        checks_by_type = validation_summary.get(\"checks_by_type\", {})\n",
        "\n",
        "        # Check if any validation type has failures\n",
        "        has_failures = False\n",
        "\n",
        "        for check_type, check_data in checks_by_type.items():\n",
        "            if isinstance(check_data, dict):\n",
        "                fail_count = check_data.get(\"FAIL\", 0)\n",
        "                if fail_count > 0:\n",
        "                    has_failures = True\n",
        "                    break\n",
        "\n",
        "        # Update or create the Valid Search Trace entry\n",
        "        if \"valid_search_trace\" not in checks_by_type:\n",
        "            checks_by_type[\"valid_search_trace\"] = {}\n",
        "\n",
        "        # Set success_trace based on whether there are any failures\n",
        "        checks_by_type[\"valid_search_trace\"][\"success_trace\"] = not has_failures\n",
        "\n",
        "        return validation_summary\n",
        "\n",
        "    def generate_validation_report(self) -> Dict[str, Any]:\n",
        "        \"\"\"Generate a comprehensive validation report\"\"\"\n",
        "        total_checks = len(self.validation_report)\n",
        "        passed_checks = len([r for r in self.validation_report if r[\"result\"] == \"PASS\"])\n",
        "        failed_checks = len([r for r in self.validation_report if r[\"result\"] == \"FAIL\"])\n",
        "\n",
        "        # Group by check type\n",
        "        checks_by_type = {}\n",
        "        for report in self.validation_report:\n",
        "            check_name = report[\"check_name\"]\n",
        "            if check_name not in checks_by_type:\n",
        "                # checks_by_type[check_name] = {\"PASS\": 0, \"FAIL\": 0, \"SKIP\": 0, \"details\": []}\n",
        "                checks_by_type[check_name] = {\"FAIL\": 0, \"details\": []}\n",
        "\n",
        "            # Only increment for FAIL\n",
        "            if report[\"result\"] == \"FAIL\":\n",
        "                checks_by_type[check_name][\"FAIL\"] += 1\n",
        "            # checks_by_type[check_name][report[\"result\"]] += 1\n",
        "            checks_by_type[check_name][\"details\"].append(report)\n",
        "\n",
        "        report = {\n",
        "            \"summary\": {\n",
        "                \"total_checks\": total_checks,\n",
        "                \"passed\": passed_checks,\n",
        "                \"failed\": failed_checks,\n",
        "            },\n",
        "            \"checks_by_type\": checks_by_type,\n",
        "            \"detailed_results\": self.validation_report,\n",
        "            \"legacy_log\": self.aggregate_validation_logs(self.validation_log),  # Keep the old format for compatibility. Aggregate the common action and node_id\n",
        "            \"tree_trace\": self.trace_tree['children'] # Display from the children key just for better viz.\n",
        "        }\n",
        "\n",
        "        # Adding the Valid Search Trace by checking the overall report for a FAILURE\n",
        "        report = self.update_search_trace_validity(report)\n",
        "        trace_log = self.trace_tree['children']\n",
        "\n",
        "        return report, trace_log\n",
        "\n",
        "    def react_loop(self, step_limit: Optional[int] = None):\n",
        "        i = 0\n",
        "        final_answer = None\n",
        "        while True:\n",
        "\n",
        "            # if i == 15:\n",
        "            #     break\n",
        "\n",
        "            print(\"######\"*5, self.stack, \"######\"*5)\n",
        "\n",
        "            if step_limit is not None and i >= step_limit:\n",
        "                print(\"Step limit exceeded! Breaking the ReAct loop...\")\n",
        "                break\n",
        "            completion = self.chat_completion(self.messages, model=self.model)\n",
        "\n",
        "            print(completion)\n",
        "            print(\"---\")\n",
        "\n",
        "            try:\n",
        "                if \"We're now outside the tree\" in completion:\n",
        "                    break\n",
        "\n",
        "                if 'Final solution' in completion:\n",
        "                    # for call_args in backtracking_calls:\n",
        "                    #     eval(f\"self.backtracking({call_args})\")\n",
        "                    tool_call_string = completion.split('Action: ')[-1].strip()\n",
        "                    if 'backtracking' in tool_call_string:\n",
        "                        tool_call_string = tool_call_string.replace('backtracking', 'self.backtracking')\n",
        "                        result = eval(tool_call_string)\n",
        "                        print(result)\n",
        "                        print(\"---\")\n",
        "\n",
        "                    final_answer = completion.split('Final solution:-')[-1].split(\"Answer:\")[-1].strip().split(\"=\")[0].strip()\n",
        "                    if result is not None:\n",
        "                        completion += \"\\nObservation:\\n\"\n",
        "                        self.messages.append({'role': \"assistant\", 'content': completion})\n",
        "                        self.messages.append({'role': \"user\", 'content': str(result)})\n",
        "\n",
        "                    # return completion.split('Final solution:-')[-1].split(\"\\n\\n\")[0].strip()\n",
        "\n",
        "                else:\n",
        "                    tool_call_string = completion.split('Action: ')[-1].strip()\n",
        "                    if 'thought_generator' in tool_call_string or 'state_evaluator' in tool_call_string or 'backtracking' in tool_call_string:\n",
        "                        tool_call_string = tool_call_string.replace('thought_generator', 'self.thought_generator')\n",
        "                        tool_call_string = tool_call_string.replace('state_evaluator', 'self.state_evaluator')\n",
        "                        tool_call_string = tool_call_string.replace('backtracking', 'self.backtracking')\n",
        "                        result = eval(tool_call_string)\n",
        "                        print(result)\n",
        "                        print(\"---\")\n",
        "                    else:\n",
        "                        # Log eveything to track the error\n",
        "                        raise AssertionError(\"Invalid tool call string!\")\n",
        "\n",
        "                    if result is not None:\n",
        "                        completion += \"\\nObservation:\\n\"\n",
        "                        self.messages.append({'role': \"assistant\", 'content': completion})\n",
        "                        self.messages.append({'role': \"user\", 'content': str(result)})\n",
        "            except Exception as e:\n",
        "                raise e\n",
        "\n",
        "            i+=1\n",
        "        # Run end-of-execution validations\n",
        "        print(\"\\n🔍 Running end-of-execution validations...\")\n",
        "        validation_results = self.run_end_of_execution_validation(final_answer = final_answer, expected_answer = \"24\")\n",
        "        print(\"🔍 End-of-execution validations completed.\")\n",
        "\n",
        "        # Generate Evaluation Report\n",
        "        report, trace_log = self.generate_validation_report()\n",
        "\n",
        "        # Save to Eval json\n",
        "        import json\n",
        "        with open(f\"/content/drive/MyDrive/001_projects/agentx/gpt-4o-mini-run-1/eval/{self.input_seq_id}_eval_report_{self.run_name}.json\", \"w\") as f:\n",
        "            json.dump(report, f, indent=4)\n",
        "\n",
        "        # Save Trace log json\n",
        "        with open(f\"/content/drive/MyDrive/001_projects/agentx/gpt-4o-mini-run-1/logs/{self.input_seq_id}_trace_log_{self.run_name}.json\", \"w\") as f:\n",
        "            json.dump(trace_log, f, indent=4)\n"
      ],
      "metadata": {
        "id": "7kRRyjWfI2xz"
      },
      "execution_count": null,
      "outputs": []
    },
    {
      "cell_type": "code",
      "source": [
        "# input_seq5 = '1 1 1 8'\n",
        "input_seq5 = '''Four numbers: 4 5 7 11\n",
        "\n",
        "Search parameters:-\n",
        "Heuristic threshold: 3.0\n",
        "Level limit: 3'''"
      ],
      "metadata": {
        "id": "eUUdOgU6I20P"
      },
      "execution_count": null,
      "outputs": []
    },
    {
      "cell_type": "code",
      "source": [
        "react = FewShotTreeSearchStackReAct(client, \"gpt-4o-mini\", messages, input_seq5, get_thought_gen_prompt, get_state_eval_prompt, heuristic_calculator, input_seq_id = \"4_5_7_11\", run_name = \"run_1\")"
      ],
      "metadata": {
        "id": "TIBbqRLdI23j"
      },
      "execution_count": null,
      "outputs": []
    },
    {
      "cell_type": "code",
      "source": [
        "react.react_loop()"
      ],
      "metadata": {
        "colab": {
          "base_uri": "https://localhost:8080/"
        },
        "id": "ZZ1bxDIGV4Rb",
        "outputId": "ac624694-0024-402e-ccaa-8d99b05a382d"
      },
      "execution_count": null,
      "outputs": [
        {
          "output_type": "stream",
          "name": "stdout",
          "text": [
            "############################## [] ##############################\n",
            "The four numbers are: 4 5 7 11\n",
            "\n",
            "The minimum required heuristic threshold is: 3.0\n",
            "The level limit is: 3\n",
            "\n",
            "Starting the tree search...\n",
            "---\n",
            "~~~\n",
            "Current level: 0\n",
            "Index of current node: 0\n",
            "State of current node:\n",
            "'' (empty string; no thoughts have been generated yet as we're still at the root node)\n",
            "\n",
            "Using the thought generator tool to obtain thought candidates...\n",
            "\n",
            "Action: thought_generator('', '0')\n",
            "\n",
            "---\n",
            "4 + 5 = 9 (left: 7 9 11)\n",
            "5 + 7 = 12 (left: 4 11 12)\n",
            "7 + 11 = 18 (left: 4 5 18)\n",
            "4 * 5 = 20 (left: 7 11 20)\n",
            "11 - 4 = 7 (left: 5 7 7)\n",
            "11 - 5 = 6 (left: 4 6 7)\n",
            "7 - 4 = 3 (left: 3 5 11)\n",
            "11 / 4 = 2.75 (left: 2.75 5 7)\n",
            "7 / 4 = 1.75 (left: 1.75 5 11)\n",
            "5 / 4 = 1.25 (left: 1.25 7 11)\n",
            "---\n",
            "############################## ['0'] ##############################\n",
            "\n",
            "\n",
            "Each of the above thought candidates has been added as a child node of the current node:\n",
            "\n",
            "Node 0_0: 4 + 5 = 9 (left: 7 9 11)\n",
            "Node 0_1: 5 + 7 = 12 (left: 4 11 12)\n",
            "Node 0_2: 7 + 11 = 18 (left: 4 5 18)\n",
            "Node 0_3: 4 * 5 = 20 (left: 7 11 20)\n",
            "Node 0_4: 11 - 4 = 7 (left: 5 7 7)\n",
            "Node 0_5: 11 - 5 = 6 (left: 4 6 7)\n",
            "Node 0_6: 7 - 4 = 3 (left: 3 5 11)\n",
            "Node 0_7: 11 / 4 = 2.75 (left: 2.75 5 7)\n",
            "Node 0_8: 7 / 4 = 1.75 (left: 1.75 5 11)\n",
            "Node 0_9: 5 / 4 = 1.25 (left: 1.25 7 11)\n",
            "\n",
            "Looping through the child nodes one at a time...\n",
            "---\n",
            "Reminder:-\n",
            "Current level: 0\n",
            "Index of current node: 0\n",
            "State of current node:\n",
            "'' (empty string; no thoughts have been generated yet as we're still at the root node)\n",
            "\n",
            "Index of current child: 0_0\n",
            "State of current child:\n",
            "4 + 5 = 9 (left: 7 9 11)\n",
            "\n",
            "Using the state evaluator tool to obtain heuristic value...\n",
            "\n",
            "Action: state_evaluator('''4 + 5 = 9 (left: 7 9 11)''', '''0_0''')\n",
            "\n",
            "---\n",
            "✅ Trace updated for node 0_0 — value: 3.0\n",
            "3.0\n",
            "---\n",
            "############################## ['0', '0_0'] ##############################\n",
            "\n",
            "\n",
            "Heuristic value of current child: 3.0\n",
            "\n",
            "3.0 >= 3.0\n",
            "\n",
            "Heuristic value satisfies the minimum required threshold of 3.0.\n",
            "\n",
            "Checking whether the current level is greater than or equal to the level limit...\n",
            "\n",
            "Current level: 0\n",
            "\n",
            "Level limit: 3\n",
            "\n",
            "0 < 3\n",
            "\n",
            "No it isn't. The search isn't over yet. Searching subtree.\n",
            "---\n",
            "~~~\n",
            "Current level: 1\n",
            "Index of current node: 0_0\n",
            "State of current node:\n",
            "4 + 5 = 9 (left: 7 9 11)\n",
            "\n",
            "Using the thought generator tool to obtain thought candidates...\n",
            "\n",
            "Action: thought_generator('''4 + 5 = 9 (left: 7 9 11)''', '''0_0''')\n",
            "\n",
            "---\n",
            "7 + 9 = 16 (left: 11 16)\n",
            "9 - 7 = 2 (left: 2 11)\n",
            "11 - 7 = 4 (left: 4 9)\n",
            "11 - 9 = 2 (left: 2 7)\n",
            "7 * 9 = 63 (left: 11 63)\n",
            "11 / 7 = 1.57 (left: 1.57 9)\n",
            "9 / 7 = 1.28 (left: 1.28 11)\n",
            "7 + 11 = 18 (left: 9 18)\n",
            "9 + 11 = 20 (left: 7 20)\n",
            "---\n",
            "############################## ['0', '0_0'] ##############################\n",
            "\n",
            "\n",
            "Each of the above thought candidates has been added as a child node of the current node:\n",
            "\n",
            "Node 0_0_0: 7 + 9 = 16 (left: 11 16)\n",
            "Node 0_0_1: 9 - 7 = 2 (left: 2 11)\n",
            "Node 0_0_2: 11 - 7 = 4 (left: 4 9)\n",
            "Node 0_0_3: 11 - 9 = 2 (left: 2 7)\n",
            "Node 0_0_4: 7 * 9 = 63 (left: 11 63)\n",
            "Node 0_0_5: 11 / 7 = 1.57 (left: 1.57 9)\n",
            "Node 0_0_6: 9 / 7 = 1.28 (left: 1.28 11)\n",
            "Node 0_0_7: 7 + 11 = 18 (left: 9 18)\n",
            "Node 0_0_8: 9 + 11 = 20 (left: 7 20)\n",
            "\n",
            "Looping through the child nodes one at a time...\n",
            "---\n",
            "Reminder:-\n",
            "Current level: 1\n",
            "Index of current node: 0_0\n",
            "State of current node:\n",
            "4 + 5 = 9 (left: 7 9 11)\n",
            "\n",
            "Index of current child: 0_0_0\n",
            "State of current child:\n",
            "4 + 5 = 9 (left: 7 9 11)\n",
            "7 + 9 = 16 (left: 11 16)\n",
            "\n",
            "Using the state evaluator tool to obtain heuristic value...\n",
            "\n",
            "Action: state_evaluator('''4 + 5 = 9 (left: 7 9 11)\n",
            "7 + 9 = 16 (left: 11 16)''', '''0_0_0''')\n",
            "\n",
            "---\n",
            "✅ Trace updated for node 0_0_0 — value: 0.003\n",
            "0.003\n",
            "---\n",
            "############################## ['0', '0_0'] ##############################\n",
            "\n",
            "\n",
            "Heuristic value of current child: 0.003\n",
            "\n",
            "0.003 < 3.0\n",
            "\n",
            "Heuristic value fails to satisfy the minimum required threshold of 3.0. Moving on to the next child.\n",
            "---\n",
            "Reminder:-\n",
            "Current level: 1\n",
            "Index of current node: 0_0\n",
            "State of current node:\n",
            "4 + 5 = 9 (left: 7 9 11)\n",
            "\n",
            "Index of current child: 0_0_1\n",
            "State of current child:\n",
            "4 + 5 = 9 (left: 7 9 11)\n",
            "9 - 7 = 2 (left: 2 11)\n",
            "\n",
            "Using the state evaluator tool to obtain heuristic value...\n",
            "\n",
            "Action: state_evaluator('''4 + 5 = 9 (left: 7 9 11)\n",
            "9 - 7 = 2 (left: 2 11)''', '''0_0_1''')\n",
            "\n",
            "---\n",
            "✅ Trace updated for node 0_0_1 — value: 0.003\n",
            "0.003\n",
            "---\n",
            "############################## ['0', '0_0'] ##############################\n",
            "\n",
            "\n",
            "Heuristic value of current child: 0.003\n",
            "\n",
            "0.003 < 3.0\n",
            "\n",
            "Heuristic value fails to satisfy the minimum required threshold of 3.0. Moving on to the next child.\n",
            "---\n",
            "Reminder:-\n",
            "Current level: 1\n",
            "Index of current node: 0_0\n",
            "State of current node:\n",
            "4 + 5 = 9 (left: 7 9 11)\n",
            "\n",
            "Index of current child: 0_0_2\n",
            "State of current child:\n",
            "4 + 5 = 9 (left: 7 9 11)\n",
            "11 - 7 = 4 (left: 4 9)\n",
            "\n",
            "Using the state evaluator tool to obtain heuristic value...\n",
            "\n",
            "Action: state_evaluator('''4 + 5 = 9 (left: 7 9 11)\n",
            "11 - 7 = 4 (left: 4 9)''', '''0_0_2''')\n",
            "\n",
            "---\n",
            "✅ Trace updated for node 0_0_2 — value: 0.003\n",
            "0.003\n",
            "---\n",
            "############################## ['0', '0_0'] ##############################\n",
            "\n",
            "\n",
            "Heuristic value of current child: 0.003\n",
            "\n",
            "0.003 < 3.0\n",
            "\n",
            "Heuristic value fails to satisfy the minimum required threshold of 3.0. Moving on to the next child.\n",
            "---\n",
            "Reminder:-\n",
            "Current level: 1\n",
            "Index of current node: 0_0\n",
            "State of current node:\n",
            "4 + 5 = 9 (left: 7 9 11)\n",
            "\n",
            "Index of current child: 0_0_3\n",
            "State of current child:\n",
            "4 + 5 = 9 (left: 7 9 11)\n",
            "11 - 9 = 2 (left: 2 7)\n",
            "\n",
            "Using the state evaluator tool to obtain heuristic value...\n",
            "\n",
            "Action: state_evaluator('''4 + 5 = 9 (left: 7 9 11)\n",
            "11 - 9 = 2 (left: 2 7)''', '''0_0_3''')\n",
            "\n",
            "---\n",
            "✅ Trace updated for node 0_0_3 — value: 0.003\n",
            "0.003\n",
            "---\n",
            "############################## ['0', '0_0'] ##############################\n",
            "\n",
            "\n",
            "Heuristic value of current child: 0.003\n",
            "\n",
            "0.003 < 3.0\n",
            "\n",
            "Heuristic value fails to satisfy the minimum required threshold of 3.0. Moving on to the next child.\n",
            "---\n",
            "Reminder:-\n",
            "Current level: 1\n",
            "Index of current node: 0_0\n",
            "State of current node:\n",
            "4 + 5 = 9 (left: 7 9 11)\n",
            "\n",
            "Index of current child: 0_0_4\n",
            "State of current child:\n",
            "4 + 5 = 9 (left: 7 9 11)\n",
            "7 * 9 = 63 (left: 11 63)\n",
            "\n",
            "Using the state evaluator tool to obtain heuristic value...\n",
            "\n",
            "Action: state_evaluator('''4 + 5 = 9 (left: 7 9 11)\n",
            "7 * 9 = 63 (left: 11 63)''', '''0_0_4''')\n",
            "\n",
            "---\n",
            "✅ Trace updated for node 0_0_4 — value: 0.003\n",
            "0.003\n",
            "---\n",
            "############################## ['0', '0_0'] ##############################\n",
            "\n",
            "\n",
            "Heuristic value of current child: 0.003\n",
            "\n",
            "0.003 < 3.0\n",
            "\n",
            "Heuristic value fails to satisfy the minimum required threshold of 3.0. Moving on to the next child.\n",
            "---\n",
            "Reminder:-\n",
            "Current level: 1\n",
            "Index of current node: 0_0\n",
            "State of current node:\n",
            "4 + 5 = 9 (left: 7 9 11)\n",
            "\n",
            "Index of current child: 0_0_5\n",
            "State of current child:\n",
            "4 + 5 = 9 (left: 7 9 11)\n",
            "11 / 4 = 2.75 (left: 2.75 5)\n",
            "\n",
            "Using the state evaluator tool to obtain heuristic value...\n",
            "\n",
            "Action: state_evaluator('''4 + 5 = 9 (left: 7 9 11)\n",
            "11 / 4 = 2.75 (left: 2.75 5)''', '''0_0_5''')\n",
            "\n",
            "---\n",
            "✅ Trace updated for node 0_0_5 — value: 1.002\n",
            "1.002\n",
            "---\n",
            "############################## ['0', '0_0'] ##############################\n",
            "\n",
            "\n",
            "Heuristic value of current child: 1.002\n",
            "\n",
            "1.002 < 3.0\n",
            "\n",
            "Heuristic value fails to satisfy the minimum required threshold of 3.0. Moving on to the next child.\n",
            "---\n",
            "Reminder:-\n",
            "Current level: 1\n",
            "Index of current node: 0_0\n",
            "State of current node:\n",
            "4 + 5 = 9 (left: 7 9 11)\n",
            "\n",
            "Index of current child: 0_0_6\n",
            "State of current child:\n",
            "4 + 5 = 9 (left: 7 9 11)\n",
            "9 / 4 = 2.25 (left: 2.25 5)\n",
            "\n",
            "Using the state evaluator tool to obtain heuristic value...\n",
            "\n",
            "Action: state_evaluator('''4 + 5 = 9 (left: 7 9 11)\n",
            "9 / 4 = 2.25 (left: 2.25 5)''', '''0_0_6''')\n",
            "\n",
            "---\n",
            "✅ Trace updated for node 0_0_6 — value: 0.003\n",
            "0.003\n",
            "---\n",
            "############################## ['0', '0_0'] ##############################\n",
            "\n",
            "\n",
            "Heuristic value of current child: 0.003\n",
            "\n",
            "0.003 < 3.0\n",
            "\n",
            "Heuristic value fails to satisfy the minimum required threshold of 3.0. Moving on to the next child.\n",
            "---\n",
            "Reminder:-\n",
            "Current level: 1\n",
            "Index of current node: 0_0\n",
            "State of current node:\n",
            "4 + 5 = 9 (left: 7 9 11)\n",
            "\n",
            "Index of current child: 0_0_7\n",
            "State of current child:\n",
            "4 + 5 = 9 (left: 7 9 11)\n",
            "7 + 11 = 18 (left: 9 18)\n",
            "\n",
            "Using the state evaluator tool to obtain heuristic value...\n",
            "\n",
            "Action: state_evaluator('''4 + 5 = 9 (left: 7 9 11)\n",
            "7 + 11 = 18 (left: 9 18)''', '''0_0_7''')\n",
            "\n",
            "---\n",
            "✅ Trace updated for node 0_0_7 — value: 0.003\n",
            "0.003\n",
            "---\n",
            "############################## ['0', '0_0'] ##############################\n",
            "\n",
            "\n",
            "Heuristic value of current child: 0.003\n",
            "\n",
            "0.003 < 3.0\n",
            "\n",
            "Heuristic value fails to satisfy the minimum required threshold of 3.0. Moving on to the next child.\n",
            "---\n",
            "Reminder:-\n",
            "Current level: 1\n",
            "Index of current node: 0_0\n",
            "State of current node:\n",
            "4 + 5 = 9 (left: 7 9 11)\n",
            "\n",
            "Index of current child: 0_0_8\n",
            "State of current child:\n",
            "4 + 5 = 9 (left: 7 9 11)\n",
            "9 + 11 = 20 (left: 7 20)\n",
            "\n",
            "Using the state evaluator tool to obtain heuristic value...\n",
            "\n",
            "Action: state_evaluator('''4 + 5 = 9 (left: 7 9 11)\n",
            "9 + 11 = 20 (left: 7 20)''', '''0_0_8''')\n",
            "\n",
            "---\n",
            "✅ Trace updated for node 0_0_8 — value: 0.003\n",
            "0.003\n",
            "---\n",
            "############################## ['0', '0_0'] ##############################\n",
            "\n",
            "\n",
            "Heuristic value of current child: 0.003\n",
            "\n",
            "0.003 < 3.0\n",
            "\n",
            "Heuristic value fails to satisfy the minimum required threshold of 3.0. Moving on to the next child.\n",
            "---\n",
            "No more children remaining. All child nodes have been traversed.\n",
            "\n",
            "None of the child nodes led to success. Seems like a dead end.\n",
            "\n",
            "Reminder:-\n",
            "Current level: 1\n",
            "Index of current node: 0_0\n",
            "\n",
            "Backtracking with flag 'FALSE'.\n",
            "Action: backtracking('''False''', '''0_0''', '''0''')\n",
            "\n",
            "---\n",
            "✅ Successfully marked node 0_0 as backtracked with flag False\n",
            "Ok.\n",
            "---\n",
            "############################## ['0'] ##############################\n",
            "\n",
            "---\n",
            "~~~\n",
            "We're back at node: 0\n",
            "\n",
            "Flag received: 'FALSE'\n",
            "\n",
            "That is, searching the subtree starting at child node 0_0 was unsuccessful!\n",
            "\n",
            "Trying the next child.\n",
            "---\n",
            "Reminder:-\n",
            "Current level: 0\n",
            "Index of current node: 0\n",
            "State of current node:\n",
            "'' (empty string; no thoughts have been generated yet as we're still at the root node)\n",
            "\n",
            "Index of current child: 0_1\n",
            "State of current child:\n",
            "5 + 7 = 12 (left: 4 11 12)\n",
            "\n",
            "Using the state evaluator tool to obtain heuristic value...\n",
            "\n",
            "Action: state_evaluator('''5 + 7 = 12 (left: 4 11 12)''', '''0_1''')\n",
            "\n",
            "---\n",
            "✅ Trace updated for node 0_1 — value: 2.001\n",
            "2.001\n",
            "---\n",
            "############################## ['0'] ##############################\n",
            "\n",
            "\n",
            "Heuristic value of current child: 2.001\n",
            "\n",
            "2.001 < 3.0\n",
            "\n",
            "Heuristic value fails to satisfy the minimum required threshold of 3.0. Moving on to the next child.\n",
            "---\n",
            "Reminder:-\n",
            "Current level: 0\n",
            "Index of current node: 0\n",
            "State of current node:\n",
            "'' (empty string; no thoughts have been generated yet as we're still at the root node)\n",
            "\n",
            "Index of current child: 0_2\n",
            "State of current child:\n",
            "7 + 11 = 18 (left: 4 5 18)\n",
            "\n",
            "Using the state evaluator tool to obtain heuristic value...\n",
            "\n",
            "Action: state_evaluator('''7 + 11 = 18 (left: 4 5 18)''', '''0_2''')\n",
            "\n",
            "---\n",
            "✅ Trace updated for node 0_2 — value: 1.002\n",
            "1.002\n",
            "---\n",
            "############################## ['0'] ##############################\n",
            "\n",
            "\n",
            "Heuristic value of current child: 1.002\n",
            "\n",
            "1.002 < 3.0\n",
            "\n",
            "Heuristic value fails to satisfy the minimum required threshold of 3.0. Moving on to the next child.\n",
            "---\n",
            "Reminder:-\n",
            "Current level: 0\n",
            "Index of current node: 0\n",
            "State of current node:\n",
            "'' (empty string; no thoughts have been generated yet as we're still at the root node)\n",
            "\n",
            "Index of current child: 0_3\n",
            "State of current child:\n",
            "4 * 5 = 20 (left: 7 11 20)\n",
            "\n",
            "Using the state evaluator tool to obtain heuristic value...\n",
            "\n",
            "Action: state_evaluator('''4 * 5 = 20 (left: 7 11 20)''', '''0_3''')\n",
            "\n",
            "---\n",
            "✅ Trace updated for node 0_3 — value: 0.003\n",
            "0.003\n",
            "---\n",
            "############################## ['0'] ##############################\n",
            "\n",
            "\n",
            "Heuristic value of current child: 0.003\n",
            "\n",
            "0.003 < 3.0\n",
            "\n",
            "Heuristic value fails to satisfy the minimum required threshold of 3.0. Moving on to the next child.\n",
            "---\n",
            "Reminder:-\n",
            "Current level: 0\n",
            "Index of current node: 0\n",
            "State of current node:\n",
            "'' (empty string; no thoughts have been generated yet as we're still at the root node)\n",
            "\n",
            "Index of current child: 0_4\n",
            "State of current child:\n",
            "11 - 4 = 7 (left: 5 7 7)\n",
            "\n",
            "Using the state evaluator tool to obtain heuristic value...\n",
            "\n",
            "Action: state_evaluator('''11 - 4 = 7 (left: 5 7 7)''', '''0_4''')\n",
            "\n",
            "---\n",
            "✅ Trace updated for node 0_4 — value: 3.0\n",
            "3.0\n",
            "---\n",
            "############################## ['0', '0_4'] ##############################\n",
            "\n",
            "\n",
            "Heuristic value of current child: 3.0\n",
            "\n",
            "3.0 >= 3.0\n",
            "\n",
            "Heuristic value satisfies the minimum required threshold of 3.0.\n",
            "\n",
            "Checking whether the current level is greater than or equal to the level limit...\n",
            "\n",
            "Current level: 0\n",
            "\n",
            "Level limit: 3\n",
            "\n",
            "0 < 3\n",
            "\n",
            "No it isn't. The search isn't over yet. Searching subtree.\n",
            "---\n",
            "~~~\n",
            "Current level: 1\n",
            "Index of current node: 0_4\n",
            "State of current node:\n",
            "11 - 4 = 7 (left: 5 7 7)\n",
            "\n",
            "Using the thought generator tool to obtain thought candidates...\n",
            "\n",
            "Action: thought_generator('''11 - 4 = 7 (left: 5 7 7)''', '''0_4''')\n",
            "\n",
            "---\n",
            "5 + 7 = 12 (left: 7 12)\n",
            "7 - 5 = 2 (left: 2 7)\n",
            "7 / 5 = 1.4 (left: 1.4 7)\n",
            "5 * 7 = 35 (left: 7 35)\n",
            "7 + 7 = 14 (left: 5 14)\n",
            "7 - 7 = 0 (left: 0 5)\n",
            "7 / 7 = 1 (left: 1 5)\n",
            "7 * 7 = 49 (left: 5 49)\n",
            "---\n",
            "############################## ['0', '0_4'] ##############################\n",
            "\n",
            "\n",
            "Each of the above thought candidates has been added as a child node of the current node:\n",
            "\n",
            "Node 0_4_0: 5 + 7 = 12 (left: 7 12)\n",
            "Node 0_4_1: 7 - 5 = 2 (left: 2 7)\n",
            "Node 0_4_2: 7 / 5 = 1.4 (left: 1.4 7)\n",
            "Node 0_4_3: 5 * 7 = 35 (left: 7 35)\n",
            "Node 0_4_4: 7 + 7 = 14 (left: 5 14)\n",
            "Node 0_4_5: 7 - 7 = 0 (left: 0 5)\n",
            "Node 0_4_6: 7 / 7 = 1 (left: 1 5)\n",
            "Node 0_4_7: 7 * 7 = 49 (left: 5 49)\n",
            "\n",
            "Looping through the child nodes one at a time...\n",
            "---\n",
            "Reminder:-\n",
            "Current level: 1\n",
            "Index of current node: 0_4\n",
            "State of current node:\n",
            "11 - 4 = 7 (left: 5 7 7)\n",
            "\n",
            "Index of current child: 0_4_0\n",
            "State of current child:\n",
            "11 - 4 = 7 (left: 5 7 7)\n",
            "5 + 7 = 12 (left: 7 12)\n",
            "\n",
            "Using the state evaluator tool to obtain heuristic value...\n",
            "\n",
            "Action: state_evaluator('''11 - 4 = 7 (left: 5 7 7)\n",
            "5 + 7 = 12 (left: 7 12)''', '''0_4_0''')\n",
            "\n",
            "---\n",
            "✅ Trace updated for node 0_4_0 — value: 0.003\n",
            "0.003\n",
            "---\n",
            "############################## ['0', '0_4'] ##############################\n",
            "\n",
            "\n",
            "Heuristic value of current child: 0.003\n",
            "\n",
            "0.003 < 3.0\n",
            "\n",
            "Heuristic value fails to satisfy the minimum required threshold of 3.0. Moving on to the next child.\n",
            "---\n",
            "Reminder:-\n",
            "Current level: 1\n",
            "Index of current node: 0_4\n",
            "State of current node:\n",
            "11 - 4 = 7 (left: 5 7 7)\n",
            "\n",
            "Index of current child: 0_4_1\n",
            "State of current child:\n",
            "11 - 4 = 7 (left: 5 7 7)\n",
            "7 - 5 = 2 (left: 2 7)\n",
            "\n",
            "Using the state evaluator tool to obtain heuristic value...\n",
            "\n",
            "Action: state_evaluator('''11 - 4 = 7 (left: 5 7 7)\n",
            "7 - 5 = 2 (left: 2 7)''', '''0_4_1''')\n",
            "\n",
            "---\n",
            "✅ Trace updated for node 0_4_1 — value: 0.003\n",
            "0.003\n",
            "---\n",
            "############################## ['0', '0_4'] ##############################\n",
            "\n",
            "\n",
            "Heuristic value of current child: 0.003\n",
            "\n",
            "0.003 < 3.0\n",
            "\n",
            "Heuristic value fails to satisfy the minimum required threshold of 3.0. Moving on to the next child.\n",
            "---\n",
            "Reminder:-\n",
            "Current level: 1\n",
            "Index of current node: 0_4\n",
            "State of current node:\n",
            "11 - 4 = 7 (left: 5 7 7)\n",
            "\n",
            "Index of current child: 0_4_2\n",
            "State of current child:\n",
            "11 - 4 = 7 (left: 5 7 7)\n",
            "7 / 5 = 1.4 (left: 1.4 7)\n",
            "\n",
            "Using the state evaluator tool to obtain heuristic value...\n",
            "\n",
            "Action: state_evaluator('''11 - 4 = 7 (left: 5 7 7)\n",
            "7 / 5 = 1.4 (left: 1.4 7)''', '''0_4_2''')\n",
            "\n",
            "---\n",
            "✅ Trace updated for node 0_4_2 — value: 0.003\n",
            "0.003\n",
            "---\n",
            "############################## ['0', '0_4'] ##############################\n",
            "\n",
            "\n",
            "Heuristic value of current child: 0.003\n",
            "\n",
            "0.003 < 3.0\n",
            "\n",
            "Heuristic value fails to satisfy the minimum required threshold of 3.0. Moving on to the next child.\n",
            "---\n",
            "Reminder:-\n",
            "Current level: 1\n",
            "Index of current node: 0_4\n",
            "State of current node:\n",
            "11 - 4 = 7 (left: 5 7 7)\n",
            "\n",
            "Index of current child: 0_4_3\n",
            "State of current child:\n",
            "11 - 4 = 7 (left: 5 7 7)\n",
            "5 * 7 = 35 (left: 7 35)\n",
            "\n",
            "Using the state evaluator tool to obtain heuristic value...\n",
            "\n",
            "Action: state_evaluator('''11 - 4 = 7 (left: 5 7 7)\n",
            "5 * 7 = 35 (left: 7 35)''', '''0_4_3''')\n",
            "\n",
            "---\n",
            "✅ Trace updated for node 0_4_3 — value: 0.003\n",
            "0.003\n",
            "---\n",
            "############################## ['0', '0_4'] ##############################\n",
            "\n",
            "\n",
            "Heuristic value of current child: 0.003\n",
            "\n",
            "0.003 < 3.0\n",
            "\n",
            "Heuristic value fails to satisfy the minimum required threshold of 3.0. Moving on to the next child.\n",
            "---\n",
            "Reminder:-\n",
            "Current level: 1\n",
            "Index of current node: 0_4\n",
            "State of current node:\n",
            "11 - 4 = 7 (left: 5 7 7)\n",
            "\n",
            "Index of current child: 0_4_4\n",
            "State of current child:\n",
            "11 - 4 = 7 (left: 5 7 7)\n",
            "7 + 7 = 14 (left: 5 14)\n",
            "\n",
            "Using the state evaluator tool to obtain heuristic value...\n",
            "\n",
            "Action: state_evaluator('''11 - 4 = 7 (left: 5 7 7)\n",
            "7 + 7 = 14 (left: 5 14)''', '''0_4_4''')\n",
            "\n",
            "---\n",
            "✅ Trace updated for node 0_4_4 — value: 0.003\n",
            "0.003\n",
            "---\n",
            "############################## ['0', '0_4'] ##############################\n",
            "\n",
            "\n",
            "Heuristic value of current child: 0.003\n",
            "\n",
            "0.003 < 3.0\n",
            "\n",
            "Heuristic value fails to satisfy the minimum required threshold of 3.0. Moving on to the next child.\n",
            "---\n",
            "Reminder:-\n",
            "Current level: 1\n",
            "Index of current node: 0_4\n",
            "State of current node:\n",
            "11 - 4 = 7 (left: 5 7 7)\n",
            "\n",
            "Index of current child: 0_4_5\n",
            "State of current child:\n",
            "11 - 4 = 7 (left: 5 7 7)\n",
            "7 - 7 = 0 (left: 0 5)\n",
            "\n",
            "Using the state evaluator tool to obtain heuristic value...\n",
            "\n",
            "Action: state_evaluator('''11 - 4 = 7 (left: 5 7 7)\n",
            "7 - 7 = 0 (left: 0 5)''', '''0_4_5''')\n",
            "\n",
            "---\n",
            "✅ Trace updated for node 0_4_5 — value: 0.003\n",
            "0.003\n",
            "---\n",
            "############################## ['0', '0_4'] ##############################\n",
            "\n",
            "\n",
            "Heuristic value of current child: 0.003\n",
            "\n",
            "0.003 < 3.0\n",
            "\n",
            "Heuristic value fails to satisfy the minimum required threshold of 3.0. Moving on to the next child.\n",
            "---\n",
            "Reminder:-\n",
            "Current level: 1\n",
            "Index of current node: 0_4\n",
            "State of current node:\n",
            "11 - 4 = 7 (left: 5 7 7)\n",
            "\n",
            "Index of current child: 0_4_6\n",
            "State of current child:\n",
            "11 - 4 = 7 (left: 5 7 7)\n",
            "7 / 7 = 1 (left: 1 5)\n",
            "\n",
            "Using the state evaluator tool to obtain heuristic value...\n",
            "\n",
            "Action: state_evaluator('''11 - 4 = 7 (left: 5 7 7)\n",
            "7 / 7 = 1 (left: 1 5)''', '''0_4_6''')\n",
            "\n",
            "---\n",
            "✅ Trace updated for node 0_4_6 — value: 0.003\n",
            "0.003\n",
            "---\n",
            "############################## ['0', '0_4'] ##############################\n",
            "\n",
            "\n",
            "Heuristic value of current child: 0.003\n",
            "\n",
            "0.003 < 3.0\n",
            "\n",
            "Heuristic value fails to satisfy the minimum required threshold of 3.0. Moving on to the next child.\n",
            "---\n",
            "Reminder:-\n",
            "Current level: 1\n",
            "Index of current node: 0_4\n",
            "State of current node:\n",
            "11 - 4 = 7 (left: 5 7 7)\n",
            "\n",
            "Index of current child: 0_4_7\n",
            "State of current child:\n",
            "11 - 4 = 7 (left: 5 7 7)\n",
            "7 * 7 = 49 (left: 5 49)\n",
            "\n",
            "Using the state evaluator tool to obtain heuristic value...\n",
            "\n",
            "Action: state_evaluator('''11 - 4 = 7 (left: 5 7 7)\n",
            "7 * 7 = 49 (left: 5 49)''', '''0_4_7''')\n",
            "\n",
            "---\n",
            "✅ Trace updated for node 0_4_7 — value: 0.003\n",
            "0.003\n",
            "---\n",
            "############################## ['0', '0_4'] ##############################\n",
            "\n",
            "\n",
            "Heuristic value of current child: 0.003\n",
            "\n",
            "0.003 < 3.0\n",
            "\n",
            "Heuristic value fails to satisfy the minimum required threshold of 3.0. Moving on to the next child.\n",
            "---\n",
            "No more children remaining. All child nodes have been traversed.\n",
            "\n",
            "None of the child nodes led to success. Seems like a dead end.\n",
            "\n",
            "Reminder:-\n",
            "Current level: 1\n",
            "Index of current node: 0_4\n",
            "\n",
            "Backtracking with flag 'FALSE'.\n",
            "Action: backtracking('''False''', '''0_4''', '''0''')\n",
            "\n",
            "---\n",
            "✅ Successfully marked node 0_4 as backtracked with flag False\n",
            "Ok.\n",
            "---\n",
            "############################## ['0'] ##############################\n",
            "\n",
            "---\n",
            "~~~\n",
            "We're back at node: 0\n",
            "\n",
            "Flag received: 'FALSE'\n",
            "\n",
            "That is, searching the subtree starting at child node 0_4 was unsuccessful!\n",
            "\n",
            "Trying the next child.\n",
            "---\n",
            "Reminder:-\n",
            "Current level: 0\n",
            "Index of current node: 0\n",
            "State of current node:\n",
            "'' (empty string; no thoughts have been generated yet as we're still at the root node)\n",
            "\n",
            "Index of current child: 0_5\n",
            "State of current child:\n",
            "11 - 5 = 6 (left: 4 6 7)\n",
            "\n",
            "Using the state evaluator tool to obtain heuristic value...\n",
            "\n",
            "Action: state_evaluator('''11 - 5 = 6 (left: 4 6 7)''', '''0_5''')\n",
            "\n",
            "---\n",
            "✅ Trace updated for node 0_5 — value: 3.0\n",
            "3.0\n",
            "---\n",
            "############################## ['0', '0_5'] ##############################\n",
            "\n",
            "\n",
            "Heuristic value of current child: 3.0\n",
            "\n",
            "3.0 >= 3.0\n",
            "\n",
            "Heuristic value satisfies the minimum required threshold of 3.0.\n",
            "\n",
            "Checking whether the current level is greater than or equal to the level limit...\n",
            "\n",
            "Current level: 0\n",
            "\n",
            "Level limit: 3\n",
            "\n",
            "0 < 3\n",
            "\n",
            "No it isn't. The search isn't over yet. Searching subtree.\n",
            "---\n",
            "~~~\n",
            "Current level: 1\n",
            "Index of current node: 0_5\n",
            "State of current node:\n",
            "11 - 5 = 6 (left: 4 6 7)\n",
            "\n",
            "Using the thought generator tool to obtain thought candidates...\n",
            "\n",
            "Action: thought_generator('''11 - 5 = 6 (left: 4 6 7)''', '''0_5''')\n",
            "\n",
            "---\n",
            "4 + 6 = 10 (left: 7 10)\n",
            "4 * 6 = 24 (left: 7 24)\n",
            "7 - 4 = 3 (left: 3 6)\n",
            "7 - 6 = 1 (left: 1 4)\n",
            "7 / 4 = 1.75 (left: 1.75 6)\n",
            "6 - 4 = 2 (left: 2 7)\n",
            "6 / 4 = 1.5 (left: 1.5 7)\n",
            "---\n",
            "############################## ['0', '0_5'] ##############################\n",
            "\n",
            "\n",
            "Each of the above thought candidates has been added as a child node of the current node:\n",
            "\n",
            "Node 0_5_0: 4 + 6 = 10 (left: 7 10)\n",
            "Node 0_5_1: 4 * 6 = 24 (left: 7 24)\n",
            "Node 0_5_2: 7 - 4 = 3 (left: 3 6)\n",
            "Node 0_5_3: 7 - 6 = 1 (left: 1 4)\n",
            "Node 0_5_4: 7 / 4 = 1.75 (left: 1.75 6)\n",
            "Node 0_5_5: 6 - 4 = 2 (left: 2 7)\n",
            "Node 0_5_6: 6 / 4 = 1.5 (left: 1.5 7)\n",
            "\n",
            "Looping through the child nodes one at a time...\n",
            "---\n",
            "Reminder:-\n",
            "Current level: 1\n",
            "Index of current node: 0_5\n",
            "State of current node:\n",
            "11 - 5 = 6 (left: 4 6 7)\n",
            "\n",
            "Index of current child: 0_5_0\n",
            "State of current child:\n",
            "11 - 5 = 6 (left: 4 6 7)\n",
            "4 + 6 = 10 (left: 7 10)\n",
            "\n",
            "Using the state evaluator tool to obtain heuristic value...\n",
            "\n",
            "Action: state_evaluator('''11 - 5 = 6 (left: 4 6 7)\n",
            "4 + 6 = 10 (left: 7 10)''', '''0_5_0''')\n",
            "\n",
            "---\n",
            "✅ Trace updated for node 0_5_0 — value: 0.003\n",
            "0.003\n",
            "---\n",
            "############################## ['0', '0_5'] ##############################\n",
            "\n",
            "\n",
            "Heuristic value of current child: 0.003\n",
            "\n",
            "0.003 < 3.0\n",
            "\n",
            "Heuristic value fails to satisfy the minimum required threshold of 3.0. Moving on to the next child.\n",
            "---\n",
            "Reminder:-\n",
            "Current level: 1\n",
            "Index of current node: 0_5\n",
            "State of current node:\n",
            "11 - 5 = 6 (left: 4 6 7)\n",
            "\n",
            "Index of current child: 0_5_1\n",
            "State of current child:\n",
            "11 - 5 = 6 (left: 4 6 7)\n",
            "4 * 6 = 24 (left: 7 24)\n",
            "\n",
            "Using the state evaluator tool to obtain heuristic value...\n",
            "\n",
            "Action: state_evaluator('''11 - 5 = 6 (left: 4 6 7)\n",
            "4 * 6 = 24 (left: 7 24)''', '''0_5_1''')\n",
            "\n",
            "---\n",
            "✅ Trace updated for node 0_5_1 — value: 0.003\n",
            "0.003\n",
            "---\n",
            "############################## ['0', '0_5'] ##############################\n",
            "\n",
            "\n",
            "Heuristic value of current child: 0.003\n",
            "\n",
            "0.003 < 3.0\n",
            "\n",
            "Heuristic value fails to satisfy the minimum required threshold of 3.0. Moving on to the next child.\n",
            "---\n",
            "Reminder:-\n",
            "Current level: 1\n",
            "Index of current node: 0_5\n",
            "State of current node:\n",
            "11 - 5 = 6 (left: 4 6 7)\n",
            "\n",
            "Index of current child: 0_5_2\n",
            "State of current child:\n",
            "11 - 5 = 6 (left: 4 6 7)\n",
            "7 - 4 = 3 (left: 3 6)\n",
            "\n",
            "Using the state evaluator tool to obtain heuristic value...\n",
            "\n",
            "Action: state_evaluator('''11 - 5 = 6 (left: 4 6 7)\n",
            "7 - 4 = 3 (left: 3 6)''', '''0_5_2''')\n",
            "\n",
            "---\n",
            "✅ Trace updated for node 0_5_2 — value: 0.003\n",
            "0.003\n",
            "---\n",
            "############################## ['0', '0_5'] ##############################\n",
            "\n",
            "\n",
            "Heuristic value of current child: 0.003\n",
            "\n",
            "0.003 < 3.0\n",
            "\n",
            "Heuristic value fails to satisfy the minimum required threshold of 3.0. Moving on to the next child.\n",
            "---\n",
            "Reminder:-\n",
            "Current level: 1\n",
            "Index of current node: 0_5\n",
            "State of current node:\n",
            "11 - 5 = 6 (left: 4 6 7)\n",
            "\n",
            "Index of current child: 0_5_3\n",
            "State of current child:\n",
            "11 - 5 = 6 (left: 4 6 7)\n",
            "7 - 6 = 1 (left: 1 4)\n",
            "\n",
            "Using the state evaluator tool to obtain heuristic value...\n",
            "\n",
            "Action: state_evaluator('''11 - 5 = 6 (left: 4 6 7)\n",
            "7 - 6 = 1 (left: 1 4)''', '''0_5_3''')\n",
            "\n",
            "---\n",
            "✅ Trace updated for node 0_5_3 — value: 0.003\n",
            "0.003\n",
            "---\n",
            "############################## ['0', '0_5'] ##############################\n",
            "\n",
            "\n",
            "Heuristic value of current child: 0.003\n",
            "\n",
            "0.003 < 3.0\n",
            "\n",
            "Heuristic value fails to satisfy the minimum required threshold of 3.0. Moving on to the next child.\n",
            "---\n",
            "Reminder:-\n",
            "Current level: 1\n",
            "Index of current node: 0_5\n",
            "State of current node:\n",
            "11 - 5 = 6 (left: 4 6 7)\n",
            "\n",
            "Index of current child: 0_5_4\n",
            "State of current child:\n",
            "11 - 5 = 6 (left: 4 6 7)\n",
            "7 / 4 = 1.75 (left: 1.75 6)\n",
            "\n",
            "Using the state evaluator tool to obtain heuristic value...\n",
            "\n",
            "Action: state_evaluator('''11 - 5 = 6 (left: 4 6 7)\n",
            "7 / 4 = 1.75 (left: 1.75 6)''', '''0_5_4''')\n",
            "\n",
            "---\n",
            "✅ Trace updated for node 0_5_4 — value: 0.003\n",
            "0.003\n",
            "---\n",
            "############################## ['0', '0_5'] ##############################\n",
            "\n",
            "\n",
            "Heuristic value of current child: 0.003\n",
            "\n",
            "0.003 < 3.0\n",
            "\n",
            "Heuristic value fails to satisfy the minimum required threshold of 3.0. Moving on to the next child.\n",
            "---\n",
            "Reminder:-\n",
            "Current level: 1\n",
            "Index of current node: 0_5\n",
            "State of current node:\n",
            "11 - 5 = 6 (left: 4 6 7)\n",
            "\n",
            "Index of current child: 0_5_5\n",
            "State of current child:\n",
            "11 - 5 = 6 (left: 4 6 7)\n",
            "6 - 4 = 2 (left: 2 6)\n",
            "\n",
            "Using the state evaluator tool to obtain heuristic value...\n",
            "\n",
            "Action: state_evaluator('''11 - 5 = 6 (left: 4 6 7)\n",
            "6 - 4 = 2 (left: 2 6)''', '''0_5_5''')\n",
            "\n",
            "---\n",
            "✅ Trace updated for node 0_5_5 — value: 0.003\n",
            "0.003\n",
            "---\n",
            "############################## ['0', '0_5'] ##############################\n",
            "\n",
            "\n",
            "Heuristic value of current child: 0.003\n",
            "\n",
            "0.003 < 3.0\n",
            "\n",
            "Heuristic value fails to satisfy the minimum required threshold of 3.0. Moving on to the next child.\n",
            "---\n",
            "Reminder:-\n",
            "Current level: 1\n",
            "Index of current node: 0_5\n",
            "State of current node:\n",
            "11 - 5 = 6 (left: 4 6 7)\n",
            "\n",
            "Index of current child: 0_5_6\n",
            "State of current child:\n",
            "11 - 5 = 6 (left: 4 6 7)\n",
            "6 / 4 = 1.5 (left: 1.5 7)\n",
            "\n",
            "Using the state evaluator tool to obtain heuristic value...\n",
            "\n",
            "Action: state_evaluator('''11 - 5 = 6 (left: 4 6 7)\n",
            "6 / 4 = 1.5 (left: 1.5 7)''', '''0_5_6''')\n",
            "\n",
            "---\n",
            "✅ Trace updated for node 0_5_6 — value: 0.003\n",
            "0.003\n",
            "---\n",
            "############################## ['0', '0_5'] ##############################\n",
            "\n",
            "\n",
            "Heuristic value of current child: 0.003\n",
            "\n",
            "0.003 < 3.0\n",
            "\n",
            "Heuristic value fails to satisfy the minimum required threshold of 3.0. Moving on to the next child.\n",
            "---\n",
            "No more children remaining. All child nodes have been traversed.\n",
            "\n",
            "None of the child nodes led to success. Seems like a dead end.\n",
            "\n",
            "Reminder:-\n",
            "Current level: 1\n",
            "Index of current node: 0_5\n",
            "\n",
            "Backtracking with flag 'FALSE'.\n",
            "Action: backtracking('''False''', '''0_5''', '''0''')\n",
            "\n",
            "---\n",
            "✅ Successfully marked node 0_5 as backtracked with flag False\n",
            "Ok.\n",
            "---\n",
            "############################## ['0'] ##############################\n",
            "\n",
            "---\n",
            "~~~\n",
            "We're back at node: 0\n",
            "\n",
            "Flag received: 'FALSE'\n",
            "\n",
            "That is, searching the subtree starting at child node 0_5 was unsuccessful!\n",
            "\n",
            "Trying the next child.\n",
            "---\n",
            "Reminder:-\n",
            "Current level: 0\n",
            "Index of current node: 0\n",
            "State of current node:\n",
            "'' (empty string; no thoughts have been generated yet as we're still at the root node)\n",
            "\n",
            "Index of current child: 0_6\n",
            "State of current child:\n",
            "7 - 4 = 3 (left: 4 5 11)\n",
            "\n",
            "Using the state evaluator tool to obtain heuristic value...\n",
            "\n",
            "Action: state_evaluator('''7 - 4 = 3 (left: 4 5 11)''', '''0_6''')\n",
            "\n",
            "---\n",
            "✅ Trace updated for node 0_6 — value: 22.0\n",
            "22.0\n",
            "---\n",
            "############################## ['0', '0_6'] ##############################\n",
            "\n",
            "\n",
            "Heuristic value of current child: 22.0\n",
            "\n",
            "22.0 >= 3.0\n",
            "\n",
            "Heuristic value satisfies the minimum required threshold of 3.0.\n",
            "\n",
            "Checking whether the current level is greater than or equal to the level limit...\n",
            "\n",
            "Current level: 0\n",
            "\n",
            "Level limit: 3\n",
            "\n",
            "0 < 3\n",
            "\n",
            "No it isn't. The search isn't over yet. Searching subtree.\n",
            "---\n",
            "~~~\n",
            "Current level: 1\n",
            "Index of current node: 0_6\n",
            "State of current node:\n",
            "7 - 4 = 3 (left: 4 5 11)\n",
            "\n",
            "Using the thought generator tool to obtain thought candidates...\n",
            "\n",
            "Action: thought_generator('''7 - 4 = 3 (left: 4 5 11)''', '''0_6''')\n",
            "\n",
            "---\n",
            "4 + 5 = 9 (left: 9 11)\n",
            "11 - 4 = 7 (left: 5 7)\n",
            "11 - 5 = 6 (left: 4 6)\n",
            "5 * 4 = 20 (left: 11 20)\n",
            "11 / 4 = 2.75 (left: 2.75 5)\n",
            "5 - 4 = 1 (left: 1 11)\n",
            "---\n",
            "############################## ['0', '0_6'] ##############################\n",
            "\n",
            "\n",
            "Each of the above thought candidates has been added as a child node of the current node:\n",
            "\n",
            "Node 0_6_0: 4 + 5 = 9 (left: 9 11)\n",
            "Node 0_6_1: 11 - 4 = 7 (left: 5 7)\n",
            "Node 0_6_2: 11 - 5 = 6 (left: 4 6)\n",
            "Node 0_6_3: 5 * 4 = 20 (left: 11 20)\n",
            "Node 0_6_4: 11 / 4 = 2.75 (left: 2.75 5)\n",
            "Node 0_6_5: 5 - 4 = 1 (left: 1 11)\n",
            "\n",
            "Looping through the child nodes one at a time...\n",
            "---\n",
            "Reminder:-\n",
            "Current level: 1\n",
            "Index of current node: 0_6\n",
            "State of current node:\n",
            "7 - 4 = 3 (left: 4 5 11)\n",
            "\n",
            "Index of current child: 0_6_0\n",
            "State of current child:\n",
            "7 - 4 = 3 (left: 4 5 11)\n",
            "4 + 5 = 9 (left: 9 11)\n",
            "\n",
            "Using the state evaluator tool to obtain heuristic value...\n",
            "\n",
            "Action: state_evaluator('''7 - 4 = 3 (left: 4 5 11)\n",
            "4 + 5 = 9 (left: 9 11)''', '''0_6_0''')\n",
            "\n",
            "---\n",
            "✅ Trace updated for node 0_6_0 — value: 0.003\n",
            "0.003\n",
            "---\n",
            "############################## ['0', '0_6'] ##############################\n",
            "\n",
            "\n",
            "Heuristic value of current child: 0.003\n",
            "\n",
            "0.003 < 3.0\n",
            "\n",
            "Heuristic value fails to satisfy the minimum required threshold of 3.0. Moving on to the next child.\n",
            "---\n",
            "Reminder:-\n",
            "Current level: 1\n",
            "Index of current node: 0_6\n",
            "State of current node:\n",
            "7 - 4 = 3 (left: 4 5 11)\n",
            "\n",
            "Index of current child: 0_6_1\n",
            "State of current child:\n",
            "7 - 4 = 3 (left: 4 5 11)\n",
            "11 - 4 = 7 (left: 5 7)\n",
            "\n",
            "Using the state evaluator tool to obtain heuristic value...\n",
            "\n",
            "Action: state_evaluator('''7 - 4 = 3 (left: 4 5 11)\n",
            "11 - 4 = 7 (left: 5 7)''', '''0_6_1''')\n",
            "\n",
            "---\n",
            "✅ Trace updated for node 0_6_1 — value: 0.003\n",
            "0.003\n",
            "---\n",
            "############################## ['0', '0_6'] ##############################\n",
            "\n",
            "\n",
            "Heuristic value of current child: 0.003\n",
            "\n",
            "0.003 < 3.0\n",
            "\n",
            "Heuristic value fails to satisfy the minimum required threshold of 3.0. Moving on to the next child.\n",
            "---\n",
            "Reminder:-\n",
            "Current level: 1\n",
            "Index of current node: 0_6\n",
            "State of current node:\n",
            "7 - 4 = 3 (left: 4 5 11)\n",
            "\n",
            "Index of current child: 0_6_2\n",
            "State of current child:\n",
            "7 - 4 = 3 (left: 4 5 11)\n",
            "11 - 5 = 6 (left: 4 6)\n",
            "\n",
            "Using the state evaluator tool to obtain heuristic value...\n",
            "\n",
            "Action: state_evaluator('''7 - 4 = 3 (left: 4 5 11)\n",
            "11 - 5 = 6 (left: 4 6)''', '''0_6_2''')\n",
            "\n",
            "---\n",
            "✅ Trace updated for node 0_6_2 — value: 60.0\n",
            "60.0\n",
            "---\n",
            "############################## ['0', '0_6', '0_6_2'] ##############################\n",
            "\n",
            "\n",
            "Heuristic value of current child: 60.0\n",
            "\n",
            "60.0 >= 3.0\n",
            "\n",
            "Heuristic value satisfies the minimum required threshold of 3.0.\n",
            "\n",
            "Checking whether the current level is greater than or equal to the level limit...\n",
            "\n",
            "Current level: 1\n",
            "\n",
            "Level limit: 3\n",
            "\n",
            "1 < 3\n",
            "\n",
            "No it isn't. The search isn't over yet. Searching subtree.\n",
            "---\n",
            "~~~\n",
            "Current level: 2\n",
            "Index of current node: 0_6_2\n",
            "State of current node:\n",
            "7 - 4 = 3 (left: 4 5 11)\n",
            "11 - 5 = 6 (left: 4 6)\n",
            "\n",
            "Using the thought generator tool to obtain thought candidates...\n",
            "\n",
            "Action: thought_generator('''7 - 4 = 3 (left: 4 5 11)\n",
            "11 - 5 = 6 (left: 4 6)''', '''0_6_2''')\n",
            "\n",
            "---\n",
            "4 + 6 = 10 (left: 10)\n",
            "6 - 4 = 2 (left: 2)\n",
            "4 * 6 = 24 (left: 24)\n",
            "6 / 4 = 1.5 (left: 1.5)\n",
            "---\n",
            "############################## ['0', '0_6', '0_6_2'] ##############################\n",
            "\n",
            "\n",
            "Each of the above thought candidates has been added as a child node of the current node:\n",
            "\n",
            "Node 0_6_2_0: 4 + 6 = 10 (left: 10)\n",
            "Node 0_6_2_1: 6 - 4 = 2 (left: 2)\n",
            "Node 0_6_2_2: 4 * 6 = 24 (left: 24)\n",
            "Node 0_6_2_3: 6 / 4 = 1.5 (left: 1.5)\n",
            "\n",
            "Looping through the child nodes one at a time...\n",
            "---\n",
            "Reminder:-\n",
            "Current level: 2\n",
            "Index of current node: 0_6_2\n",
            "State of current node:\n",
            "7 - 4 = 3 (left: 4 5 11)\n",
            "11 - 5 = 6 (left: 4 6)\n",
            "\n",
            "Index of current child: 0_6_2_0\n",
            "State of current child:\n",
            "7 - 4 = 3 (left: 4 5 11)\n",
            "11 - 5 = 6 (left: 4 6)\n",
            "4 + 6 = 10 (left: 10)\n",
            "\n",
            "Using the state evaluator tool to obtain heuristic value...\n",
            "\n",
            "Action: state_evaluator('''7 - 4 = 3 (left: 4 5 11)\n",
            "11 - 5 = 6 (left: 4 6)\n",
            "4 + 6 = 10 (left: 10)''', '''0_6_2_0''')\n",
            "\n",
            "---\n",
            "✅ Trace updated for node 0_6_2_0 — value: 0.003\n",
            "0.003\n",
            "---\n",
            "############################## ['0', '0_6', '0_6_2'] ##############################\n",
            "\n",
            "\n",
            "Heuristic value of current child: 0.003\n",
            "\n",
            "0.003 < 3.0\n",
            "\n",
            "Heuristic value fails to satisfy the minimum required threshold of 3.0. Moving on to the next child.\n",
            "---\n",
            "Reminder:-\n",
            "Current level: 2\n",
            "Index of current node: 0_6_2\n",
            "State of current node:\n",
            "7 - 4 = 3 (left: 4 5 11)\n",
            "11 - 5 = 6 (left: 4 6)\n",
            "\n",
            "Index of current child: 0_6_2_1\n",
            "State of current child:\n",
            "7 - 4 = 3 (left: 4 5 11)\n",
            "11 - 5 = 6 (left: 4 6)\n",
            "6 - 4 = 2 (left: 2)\n",
            "\n",
            "Using the state evaluator tool to obtain heuristic value...\n",
            "\n",
            "Action: state_evaluator('''7 - 4 = 3 (left: 4 5 11)\n",
            "11 - 5 = 6 (left: 4 6)\n",
            "6 - 4 = 2 (left: 2)''', '''0_6_2_1''')\n",
            "\n",
            "---\n",
            "✅ Trace updated for node 0_6_2_1 — value: 0.002\n",
            "0.002\n",
            "---\n",
            "############################## ['0', '0_6', '0_6_2'] ##############################\n",
            "\n",
            "\n",
            "Heuristic value of current child: 0.002\n",
            "\n",
            "0.002 < 3.0\n",
            "\n",
            "Heuristic value fails to satisfy the minimum required threshold of 3.0. Moving on to the next child.\n",
            "---\n",
            "Reminder:-\n",
            "Current level: 2\n",
            "Index of current node: 0_6_2\n",
            "State of current node:\n",
            "7 - 4 = 3 (left: 4 5 11)\n",
            "11 - 5 = 6 (left: 4 6)\n",
            "\n",
            "Index of current child: 0_6_2_2\n",
            "State of current child:\n",
            "7 - 4 = 3 (left: 4 5 11)\n",
            "11 - 5 = 6 (left: 4 6)\n",
            "4 * 6 = 24 (left: 24)\n",
            "\n",
            "Using the state evaluator tool to obtain heuristic value...\n",
            "\n",
            "Action: state_evaluator('''7 - 4 = 3 (left: 4 5 11)\n",
            "11 - 5 = 6 (left: 4 6)\n",
            "4 * 6 = 24 (left: 24)''', '''0_6_2_2''')\n",
            "\n",
            "---\n",
            "✅ Trace updated for node 0_6_2_2 — value: 60.0\n",
            "60.0\n",
            "---\n",
            "############################## ['0', '0_6', '0_6_2', '0_6_2_2'] ##############################\n",
            "\n",
            "\n",
            "Heuristic value of current child: 60.0\n",
            "\n",
            "60.0 >= 3.0\n",
            "\n",
            "Heuristic value satisfies the minimum required threshold of 3.0.\n",
            "\n",
            "Checking whether the current level is greater than or equal to the level limit...\n",
            "\n",
            "Current level: 2\n",
            "\n",
            "Level limit: 3\n",
            "\n",
            "2 < 3\n",
            "\n",
            "No it isn't. The search isn't over yet. Searching subtree.\n",
            "---\n",
            "~~~\n",
            "Current level: 3\n",
            "Index of current node: 0_6_2_2\n",
            "State of current node:\n",
            "7 - 4 = 3 (left: 4 5 11)\n",
            "11 - 5 = 6 (left: 4 6)\n",
            "4 * 6 = 24 (left: 24)\n",
            "\n",
            "Using the thought generator tool to obtain thought candidates...\n",
            "\n",
            "Action: thought_generator('''7 - 4 = 3 (left: 4 5 11)\n",
            "11 - 5 = 6 (left: 4 6)\n",
            "4 * 6 = 24 (left: 24)''', '''0_6_2_2''')\n",
            "\n",
            "---\n",
            "Answer: 4 * (11 - 5) = 24\n",
            "---\n",
            "############################## ['0', '0_6', '0_6_2', '0_6_2_2'] ##############################\n",
            "\n",
            "\n",
            "Each of the above thought candidates has been added as a child node of the current node:\n",
            "\n",
            "Node 0_6_2_2_0: Answer: 4 * (11 - 5) = 24\n",
            "\n",
            "Looping through the child nodes one at a time...\n",
            "---\n",
            "Reminder:-\n",
            "Current level: 3\n",
            "Index of current node: 0_6_2_2\n",
            "State of current node:\n",
            "7 - 4 = 3 (left: 4 5 11)\n",
            "11 - 5 = 6 (left: 4 6)\n",
            "4 * 6 = 24 (left: 24)\n",
            "Answer: 4 * (11 - 5) = 24\n",
            "\n",
            "Using the state evaluator tool to obtain heuristic value...\n",
            "\n",
            "Action: state_evaluator('''7 - 4 = 3 (left: 4 5 11)\n",
            "11 - 5 = 6 (left: 4 6)\n",
            "4 * 6 = 24 (left: 24)\n",
            "Answer: 4 * (11 - 5) = 24''', '''0_6_2_2_0''')\n",
            "\n",
            "---\n",
            "✅ Trace updated for node 0_6_2_2_0 — value: 60.0\n",
            "60.0\n",
            "---\n",
            "############################## ['0', '0_6', '0_6_2', '0_6_2_2'] ##############################\n",
            "\n",
            "\n",
            "Heuristic value of current child: 60.0\n",
            "\n",
            "60.0 >= 3.0\n",
            "\n",
            "Heuristic value satisfies the minimum required threshold of 3.0.\n",
            "\n",
            "Checking whether the current level is greater than or equal to the level limit...\n",
            "\n",
            "Current level: 3\n",
            "\n",
            "Level limit: 3\n",
            "\n",
            "3 >= 3\n",
            "\n",
            "Yes it is. The search is over. Printing the state of the current child as the final solution...\n",
            "\n",
            "Final solution:-\n",
            "7 - 4 = 3 (left: 4 5 11)\n",
            "11 - 5 = 6 (left: 4 6)\n",
            "4 * 6 = 24 (left: 24)\n",
            "Answer: 4 * (11 - 5) = 24\n",
            "\n",
            "Reminder:-\n",
            "Current level: 3\n",
            "Index of current node: 0_6_2_2\n",
            "\n",
            "Backtracking with flag 'TRUE'.\n",
            "Action: backtracking('''True''', '''0_6_2_2''', '''0_6''')\n",
            "\n",
            "---\n",
            "✅ Successfully marked node 0_6_2_2 as backtracked with flag True\n",
            "Ok.\n",
            "---\n",
            "############################## ['0', '0_6', '0_6_2'] ##############################\n",
            "\n",
            "---\n",
            "~~~\n",
            "We're back at node: 0_6\n",
            "\n",
            "Flag received: 'TRUE'\n",
            "\n",
            "That is, searching the subtree starting at child node 0_6_2_2 was successful!\n",
            "\n",
            "Reminder:-\n",
            "Current level: 1\n",
            "Index of current node: 0_6\n",
            "\n",
            "Backtracking with flag 'TRUE'.\n",
            "Action: backtracking('''True''', '''0_6''', '''0''')\n",
            "\n",
            "---\n",
            "✅ Successfully marked node 0_6 as backtracked with flag True\n",
            "Ok.\n",
            "---\n",
            "############################## ['0', '0_6'] ##############################\n",
            "\n",
            "---\n",
            "~~~\n",
            "We're back at node: 0\n",
            "\n",
            "Flag received: 'TRUE'\n",
            "\n",
            "That is, searching the subtree starting at child node 0_6 was successful!\n",
            "\n",
            "Reminder:-\n",
            "Current level: 0\n",
            "Index of current node: 0\n",
            "\n",
            "Backtracking with flag 'TRUE'.\n",
            "Action: backtracking('''True''', '''0''', '''None''')\n",
            "\n",
            "---\n",
            "✅ Successfully marked node 0 as backtracked with flag True\n",
            "Ok.\n",
            "---\n",
            "############################## ['0'] ##############################\n",
            "\n",
            "---\n",
            "~~~\n",
            "We're now outside the tree.\n",
            "\n",
            "Flag received: 'TRUE'\n",
            "---\n",
            "\n",
            "🔍 Running end-of-execution validations...\n",
            "🔍 End-of-execution validations completed.\n"
          ]
        }
      ]
    },
    {
      "cell_type": "code",
      "source": [
        "react.last_popped_node"
      ],
      "metadata": {
        "colab": {
          "base_uri": "https://localhost:8080/",
          "height": 36
        },
        "id": "m8E_StqldO0Q",
        "outputId": "fbccea8d-9a03-4088-e119-16f3eb858fd0"
      },
      "execution_count": null,
      "outputs": [
        {
          "output_type": "execute_result",
          "data": {
            "text/plain": [
              "'0'"
            ],
            "application/vnd.google.colaboratory.intrinsic+json": {
              "type": "string"
            }
          },
          "metadata": {},
          "execution_count": 1645
        }
      ]
    },
    {
      "cell_type": "markdown",
      "source": [
        "## Running Automated Loop"
      ],
      "metadata": {
        "id": "C8UxTdmXzIlg"
      }
    },
    {
      "cell_type": "code",
      "source": [
        "import pandas as pd\n",
        "import copy\n",
        "import json\n",
        "\n",
        "df = pd.read_csv(\"/content/drive/MyDrive/001_projects/agentx/gpt-4o-mini-run-1/eval_set_24.csv\")\n",
        "\n",
        "# Save the original base messages (length 211)\n",
        "base_messages = copy.deepcopy(messages)  # Deep copy to ensure independence\n",
        "# print(f\"Base messages length: {len(base_messages)}\")\n",
        "\n",
        "# Results storage\n",
        "results = []\n",
        "\n",
        "# Check if results file already exists and load it\n",
        "csv_filename = '/content/drive/MyDrive/001_projects/agentx/gpt-4o-mini-run-1/game_24_puzzle_4o-mini_results.csv'\n",
        "try:\n",
        "    existing_results_df = pd.read_csv(csv_filename)\n",
        "    results = existing_results_df.to_dict('records')  # Convert back to list of dicts\n",
        "    completed_ranks = set(existing_results_df['rank'].tolist())\n",
        "    print(f\"📂 Loaded existing results: {len(results)} puzzles already completed\")\n",
        "    print(f\"   Completed ranks: {sorted(completed_ranks)}\")\n",
        "except FileNotFoundError:\n",
        "    completed_ranks = set()\n",
        "    print(f\"🆕 Starting fresh - no existing results file found\")\n",
        "\n",
        "# Loop through each puzzle\n",
        "for index, row in df[28:].iterrows():\n",
        "\n",
        "    if index < 30:\n",
        "        break\n",
        "\n",
        "    puzzle = row['Puzzles']\n",
        "    rank = \"1\"\n",
        "\n",
        "    print(f\"\\n{'='*50}\")\n",
        "    print(f\"Running Puzzle {rank}: {puzzle}\")\n",
        "    print(f\"{'='*50}\")\n",
        "\n",
        "    # Reset messages to base for each puzzle\n",
        "    messages = copy.deepcopy(base_messages)\n",
        "    print(f\"Messages reset to base length: {len(messages)}\")\n",
        "\n",
        "    # Create input sequence\n",
        "    input_seq = f'''Four numbers: {puzzle}\n",
        "\n",
        "Search parameters:-\n",
        "Heuristic threshold: 3.0\n",
        "Level limit: 3'''\n",
        "\n",
        "    # Create input_seq_id (replace spaces with underscores)\n",
        "    input_seq_id = puzzle.replace(' ', '_')\n",
        "\n",
        "    try:\n",
        "        # Run the ReAct system\n",
        "        react = FewShotTreeSearchStackReAct(\n",
        "            client,\n",
        "            \"gpt-4o-mini\",\n",
        "            messages,\n",
        "            input_seq,\n",
        "            get_thought_gen_prompt,\n",
        "            get_state_eval_prompt,\n",
        "            heuristic_calculator,\n",
        "            input_seq_id=input_seq_id,\n",
        "            run_name=f\"run_{rank}\"\n",
        "        )\n",
        "\n",
        "        # Run the react loop (assuming this triggers the JSON file creation)\n",
        "        react.react_loop()\n",
        "\n",
        "        # Read the evaluation report JSON file\n",
        "        eval_report_filename = f\"/content/drive/MyDrive/001_projects/agentx/gpt-4o-mini-run-1/eval/{input_seq_id}_eval_report_run_{rank}.json\"\n",
        "        validation_summary = {}\n",
        "\n",
        "        try:\n",
        "            with open(eval_report_filename, 'r') as f:\n",
        "                eval_report = json.load(f)\n",
        "                validation_summary = eval_report.get('summary', {})\n",
        "                print(f\"Validation Summary: {validation_summary}\")\n",
        "        except FileNotFoundError:\n",
        "            print(f\"⚠️ Evaluation report file not found: {eval_report_filename}\")\n",
        "            validation_summary = {'total_checks': 0, 'passed': 0, 'failed': 'file_not_found'}\n",
        "        except json.JSONDecodeError as e:\n",
        "            print(f\"⚠️ Error reading evaluation report: {e}\")\n",
        "            validation_summary = {'total_checks': 0, 'passed': 0, 'failed': 'json_error'}\n",
        "\n",
        "        # Store results with validation information\n",
        "        result = {\n",
        "            'rank': rank,\n",
        "            'puzzle': puzzle,\n",
        "            'input_seq_id': input_seq_id,\n",
        "            'run_name': f\"run_{rank}\",\n",
        "            'status': 'completed',\n",
        "            'final_messages_length': len(messages),\n",
        "            'validation_total_checks': validation_summary.get('total_checks', 0),\n",
        "            'validation_passed': validation_summary.get('passed', 0),\n",
        "            'validation_failed': validation_summary.get('failed', 0),\n",
        "            'validation_status': 'PASS' if validation_summary.get('failed', 1) == 0 else 'FAIL',\n",
        "        }\n",
        "\n",
        "        results.append(result)\n",
        "\n",
        "        # Enhanced logging\n",
        "        validation_status = result['validation_status']\n",
        "        failed_count = result['validation_failed']\n",
        "        if validation_status == 'PASS':\n",
        "            print(f\"✅ Puzzle {rank} completed successfully - All validations passed\")\n",
        "        else:\n",
        "            print(f\"⚠️ Puzzle {rank} completed with validation issues - {failed_count} failed checks\")\n",
        "\n",
        "    except Exception as e:\n",
        "        print(f\"❌ Error running puzzle {rank}: {str(e)}\")\n",
        "        result = {\n",
        "            'rank': rank,\n",
        "            'puzzle': puzzle,\n",
        "            'input_seq_id': input_seq_id,\n",
        "            'run_name': f\"run_rank_{rank}\",\n",
        "            'status': 'failed',\n",
        "            'error': str(e),\n",
        "            'final_messages_length': len(messages),\n",
        "            'validation_total_checks': 0,\n",
        "            'validation_passed': 0,\n",
        "            'validation_failed': 'error',\n",
        "            'validation_status': 'ERROR',\n",
        "        }\n",
        "        results.append(result)\n",
        "\n",
        "\n",
        "    # Convert results to DataFrame for analysis\n",
        "    results_df = pd.DataFrame(results)\n",
        "    print(f\"\\n{'='*50}\")\n",
        "    print(\"SUMMARY\")\n",
        "    print(f\"{'='*50}\")\n",
        "    print(results_df[['rank', 'puzzle', 'status', 'validation_status', 'validation_failed']].to_string())\n",
        "\n",
        "    # Optional: Save results to file\n",
        "    results_df.to_csv('/content/drive/MyDrive/001_projects/agentx/gpt-4o-mini-run-1/game_24_puzzle_4o-mini_results.csv', index=False)\n",
        "\n",
        "    print(f\"Messages length after puzzle {rank}: {len(messages)}\")\n"
      ],
      "metadata": {
        "id": "xZxWA4P7yfJc"
      },
      "execution_count": null,
      "outputs": []
    }
  ]
}